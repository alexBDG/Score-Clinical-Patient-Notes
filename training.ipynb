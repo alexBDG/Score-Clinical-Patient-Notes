{
 "cells": [
  {
   "cell_type": "code",
   "execution_count": 1,
   "metadata": {},
   "outputs": [],
   "source": [
    "# System imports.\n",
    "import os\n",
    "import ast\n",
    "import time\n",
    "import random\n",
    "import itertools\n",
    "import numpy as np\n",
    "from tqdm import tqdm\n",
    "import matplotlib.pyplot as plt\n",
    "from sklearn.model_selection import GroupShuffleSplit\n",
    "\n",
    "# TensorFlow imports.\n",
    "import tensorflow as tf\n",
    "import tensorflow_hub as hub\n",
    "import tensorflow_text as text # To use TensorFlow Hub this import is mandatory\n",
    "from tensorflow.keras.mixed_precision import experimental as mixed_precision\n",
    "from official.nlp import optimization  # to create AdamW optimizer\n",
    "\n",
    "from modeling.scoring import span_micro_f1\n",
    "from datasets.loading import TrainLoader, TestLoader"
   ]
  },
  {
   "cell_type": "markdown",
   "metadata": {},
   "source": [
    "# References\n",
    "https://www.tensorflow.org/text/tutorials/classify_text_with_bert#loading_models_from_tensorflow_hub"
   ]
  },
  {
   "cell_type": "markdown",
   "metadata": {},
   "source": [
    "# Global configuration"
   ]
  },
  {
   "cell_type": "code",
   "execution_count": 2,
   "metadata": {},
   "outputs": [
    {
     "name": "stdout",
     "output_type": "stream",
     "text": [
      "BERT model selected           : https://tfhub.dev/tensorflow/small_bert/bert_en_uncased_L-4_H-512_A-8/2\n",
      "Preprocess model auto-selected: https://tfhub.dev/tensorflow/bert_en_uncased_preprocess/3\n"
     ]
    }
   ],
   "source": [
    "BATCH_SIZE = 4\n",
    "SEED = 42\n",
    "EPOCHS = 1\n",
    "SEQ_LENGTH = 512\n",
    "N_LABELS = 143\n",
    "DEBUG = False\n",
    "\n",
    "tfhub_handle_encoder = \"https://tfhub.dev/tensorflow/small_bert/bert_en_uncased_L-4_H-512_A-8/2\"\n",
    "tfhub_handle_preprocess = \"https://tfhub.dev/tensorflow/bert_en_uncased_preprocess/3\"\n",
    "print(f'BERT model selected           : {tfhub_handle_encoder}')\n",
    "print(f'Preprocess model auto-selected: {tfhub_handle_preprocess}')"
   ]
  },
  {
   "cell_type": "markdown",
   "metadata": {},
   "source": [
    "Set reproductibility"
   ]
  },
  {
   "cell_type": "code",
   "execution_count": 3,
   "metadata": {},
   "outputs": [],
   "source": [
    "os.environ['PYTHONHASHSEED'] = str(SEED)\n",
    "random.seed(SEED)\n",
    "np.random.seed(SEED)\n",
    "tf.random.set_seed(SEED)"
   ]
  },
  {
   "cell_type": "markdown",
   "metadata": {},
   "source": [
    "Detect hardware"
   ]
  },
  {
   "cell_type": "code",
   "execution_count": 4,
   "metadata": {},
   "outputs": [
    {
     "name": "stdout",
     "output_type": "stream",
     "text": [
      "[INFO] Running on GPU\n",
      "[INFO] REPLICAS: 1\n",
      "[INFO] Compute dtype: float32\n",
      "[INFO] Variable dtype: float32\n"
     ]
    }
   ],
   "source": [
    "# Detect hardware, set appropriate distribution strategy (CPU/GPU/TPU)\n",
    "\n",
    "physical_CPU_devices = tf.config.list_physical_devices('CPU')\n",
    "physical_GPU_devices = tf.config.list_physical_devices('GPU')\n",
    "physical_TPU_devices = tf.config.list_physical_devices('TPU')\n",
    "\n",
    "try:\n",
    "    TPU = tf.distribute.cluster_resolver.TPUClusterResolver()\n",
    "    # TPU detection. No parameters necessary if TPU_NAME environment variable is\n",
    "    # set. On Kaggle this is always the case.\n",
    "    print('[INFO] Running on TPU ', TPU.master())\n",
    "except:\n",
    "    TPU = None\n",
    "    if len(physical_GPU_devices)>0:\n",
    "        print('[INFO] Running on GPU')\n",
    "    else:\n",
    "        print('[INFO] Running on CPU')\n",
    "\n",
    "\n",
    "if TPU:\n",
    "    tf.config.experimental_connect_to_cluster(TPU)\n",
    "    tf.tpu.experimental.initialize_tpu_system(TPU)\n",
    "    strategy = tf.distribute.experimental.TPUStrategy(TPU)\n",
    "    # enable XLA optmizations\n",
    "    tf.config.optimizer.set_jit(True)\n",
    "else:\n",
    "    # default distribution strategy in Tensorflow.\n",
    "    # Works on CPU and single GPU.\n",
    "    strategy = tf.distribute.get_strategy()\n",
    "\n",
    "\n",
    "REPLICAS = strategy.num_replicas_in_sync\n",
    "print(f'[INFO] REPLICAS: {REPLICAS}')\n",
    "\n",
    "# # set half precision policy\n",
    "mixed_precision.set_policy('mixed_bfloat16' if TPU else 'float32')\n",
    "\n",
    "print('[INFO] Compute dtype: {}'.format(\n",
    "    mixed_precision.global_policy().compute_dtype\n",
    "))\n",
    "print('[INFO] Variable dtype: {}'.format(\n",
    "    mixed_precision.global_policy().variable_dtype\n",
    "))"
   ]
  },
  {
   "cell_type": "markdown",
   "metadata": {},
   "source": [
    "# Data processing"
   ]
  },
  {
   "cell_type": "markdown",
   "metadata": {},
   "source": [
    "#### Loading & merging"
   ]
  },
  {
   "cell_type": "code",
   "execution_count": 5,
   "metadata": {},
   "outputs": [
    {
     "data": {
      "text/html": [
       "<div>\n",
       "<style scoped>\n",
       "    .dataframe tbody tr th:only-of-type {\n",
       "        vertical-align: middle;\n",
       "    }\n",
       "\n",
       "    .dataframe tbody tr th {\n",
       "        vertical-align: top;\n",
       "    }\n",
       "\n",
       "    .dataframe thead th {\n",
       "        text-align: right;\n",
       "    }\n",
       "</style>\n",
       "<table border=\"1\" class=\"dataframe\">\n",
       "  <thead>\n",
       "    <tr style=\"text-align: right;\">\n",
       "      <th></th>\n",
       "      <th>id</th>\n",
       "      <th>case_num</th>\n",
       "      <th>pn_num</th>\n",
       "      <th>feature_num</th>\n",
       "      <th>annotation</th>\n",
       "      <th>location</th>\n",
       "      <th>feature_text</th>\n",
       "      <th>pn_history</th>\n",
       "      <th>annotation_length</th>\n",
       "    </tr>\n",
       "  </thead>\n",
       "  <tbody>\n",
       "    <tr>\n",
       "      <th>0</th>\n",
       "      <td>00016_000</td>\n",
       "      <td>0</td>\n",
       "      <td>16</td>\n",
       "      <td>0</td>\n",
       "      <td>[dad with recent heart attcak]</td>\n",
       "      <td>[696 724]</td>\n",
       "      <td>Family-history-of-MI-OR-Family-history-of-myoc...</td>\n",
       "      <td>HPI: 17yo M presents with palpitations. Patien...</td>\n",
       "      <td>1</td>\n",
       "    </tr>\n",
       "    <tr>\n",
       "      <th>1</th>\n",
       "      <td>00016_001</td>\n",
       "      <td>0</td>\n",
       "      <td>16</td>\n",
       "      <td>1</td>\n",
       "      <td>[mom with \"thyroid disease]</td>\n",
       "      <td>[668 693]</td>\n",
       "      <td>Family-history-of-thyroid-disorder</td>\n",
       "      <td>HPI: 17yo M presents with palpitations. Patien...</td>\n",
       "      <td>1</td>\n",
       "    </tr>\n",
       "    <tr>\n",
       "      <th>2</th>\n",
       "      <td>00016_002</td>\n",
       "      <td>0</td>\n",
       "      <td>16</td>\n",
       "      <td>2</td>\n",
       "      <td>[chest pressure]</td>\n",
       "      <td>[203 217]</td>\n",
       "      <td>Chest-pressure</td>\n",
       "      <td>HPI: 17yo M presents with palpitations. Patien...</td>\n",
       "      <td>1</td>\n",
       "    </tr>\n",
       "    <tr>\n",
       "      <th>3</th>\n",
       "      <td>00016_003</td>\n",
       "      <td>0</td>\n",
       "      <td>16</td>\n",
       "      <td>3</td>\n",
       "      <td>[intermittent episodes, episode]</td>\n",
       "      <td>[70 91, 176 183]</td>\n",
       "      <td>Intermittent-symptoms</td>\n",
       "      <td>HPI: 17yo M presents with palpitations. Patien...</td>\n",
       "      <td>2</td>\n",
       "    </tr>\n",
       "    <tr>\n",
       "      <th>4</th>\n",
       "      <td>00016_004</td>\n",
       "      <td>0</td>\n",
       "      <td>16</td>\n",
       "      <td>4</td>\n",
       "      <td>[felt as if he were going to pass out]</td>\n",
       "      <td>[222 258]</td>\n",
       "      <td>Lightheaded</td>\n",
       "      <td>HPI: 17yo M presents with palpitations. Patien...</td>\n",
       "      <td>1</td>\n",
       "    </tr>\n",
       "    <tr>\n",
       "      <th>...</th>\n",
       "      <td>...</td>\n",
       "      <td>...</td>\n",
       "      <td>...</td>\n",
       "      <td>...</td>\n",
       "      <td>...</td>\n",
       "      <td>...</td>\n",
       "      <td>...</td>\n",
       "      <td>...</td>\n",
       "      <td>...</td>\n",
       "    </tr>\n",
       "    <tr>\n",
       "      <th>14295</th>\n",
       "      <td>95333_912</td>\n",
       "      <td>9</td>\n",
       "      <td>95333</td>\n",
       "      <td>912</td>\n",
       "      <td>[]</td>\n",
       "      <td>[]</td>\n",
       "      <td>Family-history-of-migraines</td>\n",
       "      <td>Stephanie madden is a 20 year old woman compla...</td>\n",
       "      <td>0</td>\n",
       "    </tr>\n",
       "    <tr>\n",
       "      <th>14296</th>\n",
       "      <td>95333_913</td>\n",
       "      <td>9</td>\n",
       "      <td>95333</td>\n",
       "      <td>913</td>\n",
       "      <td>[]</td>\n",
       "      <td>[]</td>\n",
       "      <td>Female</td>\n",
       "      <td>Stephanie madden is a 20 year old woman compla...</td>\n",
       "      <td>0</td>\n",
       "    </tr>\n",
       "    <tr>\n",
       "      <th>14297</th>\n",
       "      <td>95333_914</td>\n",
       "      <td>9</td>\n",
       "      <td>95333</td>\n",
       "      <td>914</td>\n",
       "      <td>[photobia]</td>\n",
       "      <td>[274 282]</td>\n",
       "      <td>Photophobia</td>\n",
       "      <td>Stephanie madden is a 20 year old woman compla...</td>\n",
       "      <td>1</td>\n",
       "    </tr>\n",
       "    <tr>\n",
       "      <th>14298</th>\n",
       "      <td>95333_915</td>\n",
       "      <td>9</td>\n",
       "      <td>95333</td>\n",
       "      <td>915</td>\n",
       "      <td>[no sick contacts]</td>\n",
       "      <td>[421 437]</td>\n",
       "      <td>No-known-illness-contacts</td>\n",
       "      <td>Stephanie madden is a 20 year old woman compla...</td>\n",
       "      <td>1</td>\n",
       "    </tr>\n",
       "    <tr>\n",
       "      <th>14299</th>\n",
       "      <td>95333_916</td>\n",
       "      <td>9</td>\n",
       "      <td>95333</td>\n",
       "      <td>916</td>\n",
       "      <td>[Subjective fever]</td>\n",
       "      <td>[314 330]</td>\n",
       "      <td>Subjective-fever</td>\n",
       "      <td>Stephanie madden is a 20 year old woman compla...</td>\n",
       "      <td>1</td>\n",
       "    </tr>\n",
       "  </tbody>\n",
       "</table>\n",
       "<p>14300 rows × 9 columns</p>\n",
       "</div>"
      ],
      "text/plain": [
       "              id  case_num  pn_num  feature_num  \\\n",
       "0      00016_000         0      16            0   \n",
       "1      00016_001         0      16            1   \n",
       "2      00016_002         0      16            2   \n",
       "3      00016_003         0      16            3   \n",
       "4      00016_004         0      16            4   \n",
       "...          ...       ...     ...          ...   \n",
       "14295  95333_912         9   95333          912   \n",
       "14296  95333_913         9   95333          913   \n",
       "14297  95333_914         9   95333          914   \n",
       "14298  95333_915         9   95333          915   \n",
       "14299  95333_916         9   95333          916   \n",
       "\n",
       "                                   annotation          location  \\\n",
       "0              [dad with recent heart attcak]         [696 724]   \n",
       "1                 [mom with \"thyroid disease]         [668 693]   \n",
       "2                            [chest pressure]         [203 217]   \n",
       "3            [intermittent episodes, episode]  [70 91, 176 183]   \n",
       "4      [felt as if he were going to pass out]         [222 258]   \n",
       "...                                       ...               ...   \n",
       "14295                                      []                []   \n",
       "14296                                      []                []   \n",
       "14297                              [photobia]         [274 282]   \n",
       "14298                      [no sick contacts]         [421 437]   \n",
       "14299                      [Subjective fever]         [314 330]   \n",
       "\n",
       "                                            feature_text  \\\n",
       "0      Family-history-of-MI-OR-Family-history-of-myoc...   \n",
       "1                     Family-history-of-thyroid-disorder   \n",
       "2                                         Chest-pressure   \n",
       "3                                  Intermittent-symptoms   \n",
       "4                                            Lightheaded   \n",
       "...                                                  ...   \n",
       "14295                        Family-history-of-migraines   \n",
       "14296                                             Female   \n",
       "14297                                        Photophobia   \n",
       "14298                          No-known-illness-contacts   \n",
       "14299                                   Subjective-fever   \n",
       "\n",
       "                                              pn_history  annotation_length  \n",
       "0      HPI: 17yo M presents with palpitations. Patien...                  1  \n",
       "1      HPI: 17yo M presents with palpitations. Patien...                  1  \n",
       "2      HPI: 17yo M presents with palpitations. Patien...                  1  \n",
       "3      HPI: 17yo M presents with palpitations. Patien...                  2  \n",
       "4      HPI: 17yo M presents with palpitations. Patien...                  1  \n",
       "...                                                  ...                ...  \n",
       "14295  Stephanie madden is a 20 year old woman compla...                  0  \n",
       "14296  Stephanie madden is a 20 year old woman compla...                  0  \n",
       "14297  Stephanie madden is a 20 year old woman compla...                  1  \n",
       "14298  Stephanie madden is a 20 year old woman compla...                  1  \n",
       "14299  Stephanie madden is a 20 year old woman compla...                  1  \n",
       "\n",
       "[14300 rows x 9 columns]"
      ]
     },
     "execution_count": 5,
     "metadata": {},
     "output_type": "execute_result"
    }
   ],
   "source": [
    "dl = TrainLoader()\n",
    "dl.load()\n",
    "dl.merge()\n",
    "\n",
    "if DEBUG:\n",
    "    dl.data = dl.data.iloc[:500, :]\n",
    "\n",
    "dl.data"
   ]
  },
  {
   "cell_type": "markdown",
   "metadata": {},
   "source": [
    "#### Transform to TensorFlow"
   ]
  },
  {
   "cell_type": "code",
   "execution_count": 205,
   "metadata": {},
   "outputs": [],
   "source": [
    "def create_label(df_annotation, df_history, df_annotation_length,\n",
    "                 df_feature_index, tfhub_handle_preprocess, seq_length=512,\n",
    "                 n_labels=143):\n",
    "    \"\"\"Densify location using tokenization.\n",
    "\n",
    "    Parameters\n",
    "    ----------\n",
    "    df_annotation : ndarray\n",
    "        Target of the task. Can be none, one or more.\n",
    "\n",
    "    df_history : ndarray\n",
    "        Text from which to extract annotation(s).\n",
    "\n",
    "    df_annotation_length : ndarray\n",
    "        Number of annotations per history.\n",
    "\n",
    "    df_feature_index : ndarray\n",
    "        Index of from features.\n",
    "\n",
    "    tfhub_handle_preprocess : str\n",
    "        Path to the TensorFlow Hub's preprocess function.\n",
    "\n",
    "    seq_length : int, default=512\n",
    "        Maximum number of words in an tokenized history.\n",
    "\n",
    "    n_labels : int, default=143\n",
    "        Number of annotation (features) classes.\n",
    "\n",
    "    Returns\n",
    "    -------\n",
    "    label : Tensor\n",
    "        Contains 0 if word is not part of the annotation and 1 otherwise.\n",
    "\n",
    "    Notes\n",
    "    -----\n",
    "    About ~5/10mn of elapsed time. Can increase the third for loop from ~100mn\n",
    "    to ~10ms using tf.math functions. WIP.\n",
    "\n",
    "    ::\n",
    "        out_2_sum = tf.math.reduce_sum(tf.cast(tf.concat([\n",
    "            out_2['input_word_ids'] == tf.slice(out_1_extracted,[0, idx],[1, 1])\n",
    "            for idx in range(out_1_lenght-2)\n",
    "        ], axis=0), tf.int8), axis=0)\n",
    "        [...]\n",
    "\n",
    "    References\n",
    "    ----------\n",
    "    Procedure to change the default sequence length is from this `documentation\n",
    "    <https://tfhub.dev/tensorflow/bert_en_uncased_preprocess/3>`.\n",
    "\n",
    "    The `seq_length` variable is by default set to 512 according to `this\n",
    "    notebook <https://www.kaggle.com/yasufuminakama/\n",
    "    nbme-deberta-base-baseline-train?scriptVersionId=87264998&cellId=25>` where\n",
    "    the max lenght was found to be 466.\n",
    "    \"\"\"\n",
    "\n",
    "    # On CPU which is faster for this kind of operations\n",
    "    with tf.device('/CPU:0'):\n",
    "\n",
    "        # Load processing function\n",
    "        preprocessor = hub.load(tfhub_handle_preprocess)\n",
    "\n",
    "        # Step 1: tokenize batches of text inputs.\n",
    "        text_inputs = [tf.keras.layers.Input(shape=(), dtype=tf.string)]\n",
    "        tokenize = hub.KerasLayer(preprocessor.tokenize)\n",
    "\n",
    "        # Step 3: pack input sequences for the Transformer encoder.\n",
    "        bert_pack_inputs = hub.KerasLayer(\n",
    "            preprocessor.bert_pack_inputs,\n",
    "            arguments=dict(seq_length=seq_length)  # Optional argument.\n",
    "        )\n",
    "\n",
    "        # Fill label with 0\n",
    "        # label = np.zeros(shape=(len(df_annotation), n_labels, seq_length))\n",
    "        y_indices = [0] * len(df_annotation)\n",
    "        y_values = [0] * len(df_annotation)\n",
    "\n",
    "        # Loop over row in locations vector\n",
    "        for row_idx in tqdm(range(len(df_annotation))):\n",
    "        for row_idx in range(:len(df_annotation)):\n",
    "\n",
    "            # Stop if there is no annotation\n",
    "            if df_annotation_length[row_idx] == 0:\n",
    "                y_indices[row_idx] = [[0, 0]]\n",
    "                y_values[row_idx] = [0]\n",
    "                continue\n",
    "\n",
    "            # Loop over location in the current row\n",
    "            history = df_history[row_idx]\n",
    "            for annotation in df_annotation[row_idx]:\n",
    "                out_1 = bert_pack_inputs([\n",
    "                    tokenize(segment) for segment in [tf.constant([annotation])]\n",
    "                ])\n",
    "                out_1_lenght = tf.math.reduce_sum(out_1['input_mask'])\n",
    "                out_1_extracted = tf.slice(\n",
    "                    out_1['input_word_ids'], [0, 1], [1, out_1_lenght-2]\n",
    "                )\n",
    "\n",
    "                out_2 = bert_pack_inputs([\n",
    "                    tokenize(segment) for segment in [tf.constant([history])]\n",
    "                ])\n",
    "                out_2_lenght = tf.math.reduce_sum(out_2['input_mask'])\n",
    "\n",
    "                # This can be improved\n",
    "                start_idx, idx_annotation = 0, 0\n",
    "                for idx_history in range(out_2_lenght):\n",
    "                    word = tf.slice(\n",
    "                        out_2['input_word_ids'], [0, idx_history], [1, 1]\n",
    "                    )\n",
    "                    if word == tf.slice(out_1_extracted, [0, idx_annotation],\n",
    "                                        [1, 1]):\n",
    "                        if idx_annotation == 0:\n",
    "                            start_idx = idx_history\n",
    "                        idx_annotation += 1\n",
    "                        if idx_annotation == out_1_lenght.numpy()-2:\n",
    "                            break\n",
    "                    else:\n",
    "                        idx_annotation = 0\n",
    "\n",
    "                # label[row_idx][df_feature_index[row_idx]][start_idx:start_idx+idx_annotation] = 1\n",
    "                # y_row_indices = np.zeros(shape=(idx_annotation, 2), dtype=np.int32)\n",
    "                # y_row_values = np.ones(shape=idx_annotation, dtype=np.int32)\n",
    "                y_row_indices = [[0, 0]] * idx_annotation\n",
    "                y_row_values = [0] * idx_annotation\n",
    "                # y_row_indices = [0] * idx_annotation\n",
    "                for k in range(idx_annotation):\n",
    "                    y_row_indices[k] = [df_feature_index[row_idx], start_idx+k]\n",
    "                y_indices[row_idx] = y_row_indices\n",
    "                y_values[row_idx] = y_row_values\n",
    "            # print(f'row_idx {row_idx:03} {y_indices[row_idx]} {df_annotation[row_idx]}')\n",
    "    # label = tf.SparseTensor(indices=y_indices, values=y_values, dense_shape=[len(df_annotation), seq_length, n_labels])\n",
    "\n",
    "    return {'indices': tf.ragged.constant(y_indices), 'values': tf.ragged.constant(y_values)}\n",
    "    # return {'indices': y_indices, 'values': y_values}\n",
    "    # return y_indices\n",
    "    # return np.array(y_indices, dtype=object)"
   ]
  },
  {
   "cell_type": "code",
   "execution_count": 206,
   "metadata": {},
   "outputs": [],
   "source": [
    "@tf.function()\n",
    "def get_dense_label(x, y):\n",
    "    y_indices = tf.cast(y['indices'].to_tensor(), dtype=tf.int64)\n",
    "    y_values = tf.cast(y['values'], dtype=tf.int64)\n",
    "\n",
    "    y = tf.SparseTensor(indices=y_indices, values=y_values, dense_shape=[N_LABELS, SEQ_LENGTH])\n",
    "    y = tf.sparse.to_dense(y)\n",
    "    y = tf.cast(y, tf.float32)\n",
    "\n",
    "    return x, y"
   ]
  },
  {
   "cell_type": "code",
   "execution_count": 207,
   "metadata": {},
   "outputs": [
    {
     "data": {
      "text/html": [
       "<div>\n",
       "<style scoped>\n",
       "    .dataframe tbody tr th:only-of-type {\n",
       "        vertical-align: middle;\n",
       "    }\n",
       "\n",
       "    .dataframe tbody tr th {\n",
       "        vertical-align: top;\n",
       "    }\n",
       "\n",
       "    .dataframe thead th {\n",
       "        text-align: right;\n",
       "    }\n",
       "</style>\n",
       "<table border=\"1\" class=\"dataframe\">\n",
       "  <thead>\n",
       "    <tr style=\"text-align: right;\">\n",
       "      <th></th>\n",
       "      <th>id</th>\n",
       "      <th>case_num</th>\n",
       "      <th>pn_num</th>\n",
       "      <th>feature_num</th>\n",
       "      <th>annotation</th>\n",
       "      <th>location</th>\n",
       "      <th>feature_text</th>\n",
       "      <th>pn_history</th>\n",
       "      <th>annotation_length</th>\n",
       "    </tr>\n",
       "  </thead>\n",
       "  <tbody>\n",
       "    <tr>\n",
       "      <th>90</th>\n",
       "      <td>00188_012</td>\n",
       "      <td>0</td>\n",
       "      <td>188</td>\n",
       "      <td>12</td>\n",
       "      <td>[M]</td>\n",
       "      <td>[6 7]</td>\n",
       "      <td>Male</td>\n",
       "      <td>17 yo M college student comes to the clinic du...</td>\n",
       "      <td>1</td>\n",
       "    </tr>\n",
       "    <tr>\n",
       "      <th>91</th>\n",
       "      <td>00211_000</td>\n",
       "      <td>0</td>\n",
       "      <td>211</td>\n",
       "      <td>0</td>\n",
       "      <td>[Father MI]</td>\n",
       "      <td>[682 688;695 697]</td>\n",
       "      <td>Family-history-of-MI-OR-Family-history-of-myoc...</td>\n",
       "      <td>HPI: Patient is a 17 yo m with a c/o of palpit...</td>\n",
       "      <td>1</td>\n",
       "    </tr>\n",
       "  </tbody>\n",
       "</table>\n",
       "</div>"
      ],
      "text/plain": [
       "           id  case_num  pn_num  feature_num   annotation           location  \\\n",
       "90  00188_012         0     188           12          [M]              [6 7]   \n",
       "91  00211_000         0     211            0  [Father MI]  [682 688;695 697]   \n",
       "\n",
       "                                         feature_text  \\\n",
       "90                                               Male   \n",
       "91  Family-history-of-MI-OR-Family-history-of-myoc...   \n",
       "\n",
       "                                           pn_history  annotation_length  \n",
       "90  17 yo M college student comes to the clinic du...                  1  \n",
       "91  HPI: Patient is a 17 yo m with a c/o of palpit...                  1  "
      ]
     },
     "execution_count": 207,
     "metadata": {},
     "output_type": "execute_result"
    }
   ],
   "source": [
    "dl.data.iloc[90:92]"
   ]
  },
  {
   "cell_type": "code",
   "execution_count": 208,
   "metadata": {},
   "outputs": [
    {
     "ename": "ValueError",
     "evalue": "Dimensions 0 and 100 are not compatible",
     "output_type": "error",
     "traceback": [
      "\u001b[1;31m---------------------------------------------------------------------------\u001b[0m",
      "\u001b[1;31mValueError\u001b[0m                                Traceback (most recent call last)",
      "\u001b[1;32m~\\AppData\\Local\\Temp/ipykernel_24996/3705156425.py\u001b[0m in \u001b[0;36m<module>\u001b[1;34m\u001b[0m\n\u001b[0;32m     15\u001b[0m     \u001b[1;32mdel\u001b[0m \u001b[0my\u001b[0m\u001b[1;33m[\u001b[0m\u001b[1;34m'indices'\u001b[0m\u001b[1;33m]\u001b[0m\u001b[1;33m[\u001b[0m\u001b[0midx\u001b[0m\u001b[1;33m]\u001b[0m\u001b[1;33m,\u001b[0m \u001b[0my\u001b[0m\u001b[1;33m[\u001b[0m\u001b[1;34m'values'\u001b[0m\u001b[1;33m]\u001b[0m\u001b[1;33m[\u001b[0m\u001b[0midx\u001b[0m\u001b[1;33m]\u001b[0m\u001b[1;33m\u001b[0m\u001b[1;33m\u001b[0m\u001b[0m\n\u001b[0;32m     16\u001b[0m \u001b[1;33m\u001b[0m\u001b[0m\n\u001b[1;32m---> 17\u001b[1;33m \u001b[0mtrain_data\u001b[0m \u001b[1;33m=\u001b[0m \u001b[0mtf\u001b[0m\u001b[1;33m.\u001b[0m\u001b[0mdata\u001b[0m\u001b[1;33m.\u001b[0m\u001b[0mDataset\u001b[0m\u001b[1;33m.\u001b[0m\u001b[0mfrom_tensor_slices\u001b[0m\u001b[1;33m(\u001b[0m\u001b[1;33m(\u001b[0m\u001b[0mx\u001b[0m\u001b[1;33m,\u001b[0m \u001b[0my\u001b[0m\u001b[1;33m)\u001b[0m\u001b[1;33m)\u001b[0m\u001b[1;33m\u001b[0m\u001b[1;33m\u001b[0m\u001b[0m\n\u001b[0m\u001b[0;32m     18\u001b[0m \u001b[0mtrain_data\u001b[0m \u001b[1;33m=\u001b[0m \u001b[0mtrain_data\u001b[0m\u001b[1;33m.\u001b[0m\u001b[0mmap\u001b[0m\u001b[1;33m(\u001b[0m\u001b[0mget_dense_label\u001b[0m\u001b[1;33m,\u001b[0m \u001b[0mnum_parallel_calls\u001b[0m\u001b[1;33m=\u001b[0m\u001b[0mtf\u001b[0m\u001b[1;33m.\u001b[0m\u001b[0mdata\u001b[0m\u001b[1;33m.\u001b[0m\u001b[0mexperimental\u001b[0m\u001b[1;33m.\u001b[0m\u001b[0mAUTOTUNE\u001b[0m\u001b[1;33m,\u001b[0m \u001b[0mdeterministic\u001b[0m\u001b[1;33m=\u001b[0m\u001b[1;32mFalse\u001b[0m\u001b[1;33m)\u001b[0m\u001b[1;33m\u001b[0m\u001b[1;33m\u001b[0m\u001b[0m\n\u001b[0;32m     19\u001b[0m \u001b[0mtrain_data\u001b[0m \u001b[1;33m=\u001b[0m \u001b[0mtrain_data\u001b[0m\u001b[1;33m.\u001b[0m\u001b[0mbatch\u001b[0m\u001b[1;33m(\u001b[0m\u001b[0mBATCH_SIZE\u001b[0m\u001b[1;33m)\u001b[0m\u001b[1;33m\u001b[0m\u001b[1;33m\u001b[0m\u001b[0m\n",
      "\u001b[1;32m~\\anaconda3\\envs\\ML2\\lib\\site-packages\\tensorflow\\python\\data\\ops\\dataset_ops.py\u001b[0m in \u001b[0;36mfrom_tensor_slices\u001b[1;34m(tensors, name)\u001b[0m\n\u001b[0;32m    791\u001b[0m       \u001b[0mDataset\u001b[0m\u001b[1;33m:\u001b[0m \u001b[0mA\u001b[0m\u001b[0;31m \u001b[0m\u001b[0;31m`\u001b[0m\u001b[0mDataset\u001b[0m\u001b[0;31m`\u001b[0m\u001b[1;33m.\u001b[0m\u001b[1;33m\u001b[0m\u001b[1;33m\u001b[0m\u001b[0m\n\u001b[0;32m    792\u001b[0m     \"\"\"\n\u001b[1;32m--> 793\u001b[1;33m     \u001b[1;32mreturn\u001b[0m \u001b[0mTensorSliceDataset\u001b[0m\u001b[1;33m(\u001b[0m\u001b[0mtensors\u001b[0m\u001b[1;33m,\u001b[0m \u001b[0mname\u001b[0m\u001b[1;33m=\u001b[0m\u001b[0mname\u001b[0m\u001b[1;33m)\u001b[0m\u001b[1;33m\u001b[0m\u001b[1;33m\u001b[0m\u001b[0m\n\u001b[0m\u001b[0;32m    794\u001b[0m \u001b[1;33m\u001b[0m\u001b[0m\n\u001b[0;32m    795\u001b[0m   \u001b[1;32mclass\u001b[0m \u001b[0m_GeneratorState\u001b[0m\u001b[1;33m(\u001b[0m\u001b[0mobject\u001b[0m\u001b[1;33m)\u001b[0m\u001b[1;33m:\u001b[0m\u001b[1;33m\u001b[0m\u001b[1;33m\u001b[0m\u001b[0m\n",
      "\u001b[1;32m~\\anaconda3\\envs\\ML2\\lib\\site-packages\\tensorflow\\python\\data\\ops\\dataset_ops.py\u001b[0m in \u001b[0;36m__init__\u001b[1;34m(self, element, is_files, name)\u001b[0m\n\u001b[0;32m   4489\u001b[0m         tensor_shape.dimension_value(self._tensors[0].get_shape()[0]))\n\u001b[0;32m   4490\u001b[0m     \u001b[1;32mfor\u001b[0m \u001b[0mt\u001b[0m \u001b[1;32min\u001b[0m \u001b[0mself\u001b[0m\u001b[1;33m.\u001b[0m\u001b[0m_tensors\u001b[0m\u001b[1;33m[\u001b[0m\u001b[1;36m1\u001b[0m\u001b[1;33m:\u001b[0m\u001b[1;33m]\u001b[0m\u001b[1;33m:\u001b[0m\u001b[1;33m\u001b[0m\u001b[1;33m\u001b[0m\u001b[0m\n\u001b[1;32m-> 4491\u001b[1;33m       batch_dim.assert_is_compatible_with(\n\u001b[0m\u001b[0;32m   4492\u001b[0m           tensor_shape.Dimension(\n\u001b[0;32m   4493\u001b[0m               tensor_shape.dimension_value(t.get_shape()[0])))\n",
      "\u001b[1;32m~\\anaconda3\\envs\\ML2\\lib\\site-packages\\tensorflow\\python\\framework\\tensor_shape.py\u001b[0m in \u001b[0;36massert_is_compatible_with\u001b[1;34m(self, other)\u001b[0m\n\u001b[0;32m    292\u001b[0m     \"\"\"\n\u001b[0;32m    293\u001b[0m     \u001b[1;32mif\u001b[0m \u001b[1;32mnot\u001b[0m \u001b[0mself\u001b[0m\u001b[1;33m.\u001b[0m\u001b[0mis_compatible_with\u001b[0m\u001b[1;33m(\u001b[0m\u001b[0mother\u001b[0m\u001b[1;33m)\u001b[0m\u001b[1;33m:\u001b[0m\u001b[1;33m\u001b[0m\u001b[1;33m\u001b[0m\u001b[0m\n\u001b[1;32m--> 294\u001b[1;33m       raise ValueError(\"Dimensions %s and %s are not compatible\" %\n\u001b[0m\u001b[0;32m    295\u001b[0m                        (self, other))\n\u001b[0;32m    296\u001b[0m \u001b[1;33m\u001b[0m\u001b[0m\n",
      "\u001b[1;31mValueError\u001b[0m: Dimensions 0 and 100 are not compatible"
     ]
    }
   ],
   "source": [
    "train_index = np.arange(100)\n",
    "\n",
    "y = create_label(\n",
    "    dl.data['annotation'].to_numpy()[train_index],\n",
    "    dl.data['pn_history'].to_numpy()[train_index],\n",
    "    dl.data['annotation_length'].to_numpy()[train_index],\n",
    "    dl.data['feature_text'].apply(lambda x: dl.features_to_index[x]).to_numpy()[train_index],\n",
    "    tfhub_handle_preprocess,\n",
    "    seq_length=SEQ_LENGTH\n",
    ")\n",
    "to_keep = np.array([el == [] for el in y['indices']])\n",
    "to_drop = [k for k, el in enumerate(y['indices']) if el == []]\n",
    "x = tf.constant(dl.data['pn_history'].to_numpy()[train_index][to_keep])\n",
    "for idx in to_drop[::-1]:\n",
    "    del y['indices'][idx], y['values'][idx]\n",
    "\n",
    "train_data = tf.data.Dataset.from_tensor_slices((x, y))\n",
    "train_data = train_data.map(get_dense_label, num_parallel_calls=tf.data.experimental.AUTOTUNE, deterministic=False)\n",
    "train_data = train_data.batch(BATCH_SIZE)\n",
    "train_data = train_data.cache()\n",
    "train_data = train_data.prefetch(buffer_size=tf.data.AUTOTUNE)\n",
    "del x, y, to_drop"
   ]
  },
  {
   "cell_type": "code",
   "execution_count": null,
   "metadata": {},
   "outputs": [
    {
     "ename": "TypeError",
     "evalue": "list indices must be integers or slices, not tuple",
     "output_type": "error",
     "traceback": [
      "\u001b[1;31m---------------------------------------------------------------------------\u001b[0m",
      "\u001b[1;31mTypeError\u001b[0m                                 Traceback (most recent call last)",
      "\u001b[1;32m~\\AppData\\Local\\Temp/ipykernel_24996/1376004340.py\u001b[0m in \u001b[0;36m<module>\u001b[1;34m\u001b[0m\n\u001b[1;32m----> 1\u001b[1;33m \u001b[0my\u001b[0m\u001b[1;33m[\u001b[0m\u001b[1;34m'indices'\u001b[0m\u001b[1;33m]\u001b[0m\u001b[1;33m[\u001b[0m\u001b[1;36m0\u001b[0m\u001b[1;33m,\u001b[0m \u001b[1;36m1\u001b[0m\u001b[1;33m,\u001b[0m \u001b[1;36m8\u001b[0m\u001b[1;33m]\u001b[0m\u001b[1;31m#[to_drop]\u001b[0m\u001b[1;33m\u001b[0m\u001b[1;33m\u001b[0m\u001b[0m\n\u001b[0m",
      "\u001b[1;31mTypeError\u001b[0m: list indices must be integers or slices, not tuple"
     ]
    }
   ],
   "source": [
    "y['indices'][0, 1, 8]#[to_drop]"
   ]
  },
  {
   "cell_type": "code",
   "execution_count": null,
   "metadata": {},
   "outputs": [
    {
     "name": "stdout",
     "output_type": "stream",
     "text": [
      "x: (2,)\n",
      "y: (2, 143, 512)\n"
     ]
    }
   ],
   "source": [
    "for batch_x, batch_y in train_data.take(1):\n",
    "    print(f'x: {batch_x.shape}')\n",
    "    print(f'y: {batch_y.shape}')"
   ]
  },
  {
   "cell_type": "code",
   "execution_count": 138,
   "metadata": {},
   "outputs": [
    {
     "name": "stdout",
     "output_type": "stream",
     "text": [
      "[INFO] train/val: 69.19%/30.81%\n"
     ]
    }
   ],
   "source": [
    "splitter = GroupShuffleSplit(n_splits=1, test_size=0.3, random_state=SEED)\n",
    "train_index, val_index = next(splitter.split(\n",
    "    dl.data['pn_history'].values,\n",
    "    dl.data['annotation'].values,\n",
    "    groups=dl.data['pn_num'].values\n",
    "))\n",
    "print('[INFO] train/val: {:.2f}%/{:.2f}%'.format(\n",
    "    100*len(train_index)/len(dl.data), 100*len(val_index)/len(dl.data)\n",
    "))"
   ]
  },
  {
   "cell_type": "code",
   "execution_count": 167,
   "metadata": {},
   "outputs": [
    {
     "name": "stdout",
     "output_type": "stream",
     "text": [
      "[INFO] train data...\n",
      "row_idx 0 [[[0, 181], [0, 182], [0, 183], [0, 184], [0, 185], [0, 186], [0, 187]], 0, 0, 0, 0, 0, 0, 0, 0, 0, 0, 0, 0, 0, 0, 0, 0, 0, 0, 0, 0, 0, 0, 0, 0, 0, 0, 0, 0, 0, 0, 0, 0, 0, 0, 0, 0, 0, 0, 0, 0, 0, 0, 0, 0, 0, 0, 0, 0, 0, 0, 0, 0, 0, 0, 0, 0, 0, 0, 0, 0, 0, 0, 0, 0, 0, 0, 0, 0, 0, 0, 0, 0, 0, 0, 0, 0, 0, 0, 0, 0, 0, 0, 0, 0, 0, 0, 0, 0, 0, 0, 0, 0, 0, 0, 0, 0, 0, 0, 0]\n",
      "row_idx 1 [[[0, 181], [0, 182], [0, 183], [0, 184], [0, 185], [0, 186], [0, 187]], [[1, 174], [1, 175], [1, 176], [1, 177], [1, 178]], 0, 0, 0, 0, 0, 0, 0, 0, 0, 0, 0, 0, 0, 0, 0, 0, 0, 0, 0, 0, 0, 0, 0, 0, 0, 0, 0, 0, 0, 0, 0, 0, 0, 0, 0, 0, 0, 0, 0, 0, 0, 0, 0, 0, 0, 0, 0, 0, 0, 0, 0, 0, 0, 0, 0, 0, 0, 0, 0, 0, 0, 0, 0, 0, 0, 0, 0, 0, 0, 0, 0, 0, 0, 0, 0, 0, 0, 0, 0, 0, 0, 0, 0, 0, 0, 0, 0, 0, 0, 0, 0, 0, 0, 0, 0, 0, 0, 0]\n",
      "row_idx 2 [[[0, 181], [0, 182], [0, 183], [0, 184], [0, 185], [0, 186], [0, 187]], [[1, 174], [1, 175], [1, 176], [1, 177], [1, 178]], [[2, 49], [2, 50]], 0, 0, 0, 0, 0, 0, 0, 0, 0, 0, 0, 0, 0, 0, 0, 0, 0, 0, 0, 0, 0, 0, 0, 0, 0, 0, 0, 0, 0, 0, 0, 0, 0, 0, 0, 0, 0, 0, 0, 0, 0, 0, 0, 0, 0, 0, 0, 0, 0, 0, 0, 0, 0, 0, 0, 0, 0, 0, 0, 0, 0, 0, 0, 0, 0, 0, 0, 0, 0, 0, 0, 0, 0, 0, 0, 0, 0, 0, 0, 0, 0, 0, 0, 0, 0, 0, 0, 0, 0, 0, 0, 0, 0, 0, 0, 0, 0]\n",
      "row_idx 3 [[[0, 181], [0, 182], [0, 183], [0, 184], [0, 185], [0, 186], [0, 187]], [[1, 174], [1, 175], [1, 176], [1, 177], [1, 178]], [[2, 49], [2, 50]], [[3, 43]], 0, 0, 0, 0, 0, 0, 0, 0, 0, 0, 0, 0, 0, 0, 0, 0, 0, 0, 0, 0, 0, 0, 0, 0, 0, 0, 0, 0, 0, 0, 0, 0, 0, 0, 0, 0, 0, 0, 0, 0, 0, 0, 0, 0, 0, 0, 0, 0, 0, 0, 0, 0, 0, 0, 0, 0, 0, 0, 0, 0, 0, 0, 0, 0, 0, 0, 0, 0, 0, 0, 0, 0, 0, 0, 0, 0, 0, 0, 0, 0, 0, 0, 0, 0, 0, 0, 0, 0, 0, 0, 0, 0, 0, 0, 0, 0]\n",
      "row_idx 4 [[[0, 181], [0, 182], [0, 183], [0, 184], [0, 185], [0, 186], [0, 187]], [[1, 174], [1, 175], [1, 176], [1, 177], [1, 178]], [[2, 49], [2, 50]], [[3, 43]], [[4, 52], [4, 53], [4, 54], [4, 55], [4, 56], [4, 57], [4, 58], [4, 59], [4, 60]], 0, 0, 0, 0, 0, 0, 0, 0, 0, 0, 0, 0, 0, 0, 0, 0, 0, 0, 0, 0, 0, 0, 0, 0, 0, 0, 0, 0, 0, 0, 0, 0, 0, 0, 0, 0, 0, 0, 0, 0, 0, 0, 0, 0, 0, 0, 0, 0, 0, 0, 0, 0, 0, 0, 0, 0, 0, 0, 0, 0, 0, 0, 0, 0, 0, 0, 0, 0, 0, 0, 0, 0, 0, 0, 0, 0, 0, 0, 0, 0, 0, 0, 0, 0, 0, 0, 0, 0, 0, 0, 0, 0, 0, 0, 0]\n",
      "row_idx 6 [[[0, 181], [0, 182], [0, 183], [0, 184], [0, 185], [0, 186], [0, 187]], [[1, 174], [1, 175], [1, 176], [1, 177], [1, 178]], [[2, 49], [2, 50]], [[3, 43]], [[4, 52], [4, 53], [4, 54], [4, 55], [4, 56], [4, 57], [4, 58], [4, 59], [4, 60]], [[0, 0]], [[6, 100], [6, 101], [6, 102], [6, 103]], 0, 0, 0, 0, 0, 0, 0, 0, 0, 0, 0, 0, 0, 0, 0, 0, 0, 0, 0, 0, 0, 0, 0, 0, 0, 0, 0, 0, 0, 0, 0, 0, 0, 0, 0, 0, 0, 0, 0, 0, 0, 0, 0, 0, 0, 0, 0, 0, 0, 0, 0, 0, 0, 0, 0, 0, 0, 0, 0, 0, 0, 0, 0, 0, 0, 0, 0, 0, 0, 0, 0, 0, 0, 0, 0, 0, 0, 0, 0, 0, 0, 0, 0, 0, 0, 0, 0, 0, 0, 0, 0, 0, 0]\n",
      "row_idx 9 [[[0, 181], [0, 182], [0, 183], [0, 184], [0, 185], [0, 186], [0, 187]], [[1, 174], [1, 175], [1, 176], [1, 177], [1, 178]], [[2, 49], [2, 50]], [[3, 43]], [[4, 52], [4, 53], [4, 54], [4, 55], [4, 56], [4, 57], [4, 58], [4, 59], [4, 60]], [[0, 0]], [[6, 100], [6, 101], [6, 102], [6, 103]], [[0, 0]], [[0, 0]], [[9, 24], [9, 25], [9, 26], [9, 27]], 0, 0, 0, 0, 0, 0, 0, 0, 0, 0, 0, 0, 0, 0, 0, 0, 0, 0, 0, 0, 0, 0, 0, 0, 0, 0, 0, 0, 0, 0, 0, 0, 0, 0, 0, 0, 0, 0, 0, 0, 0, 0, 0, 0, 0, 0, 0, 0, 0, 0, 0, 0, 0, 0, 0, 0, 0, 0, 0, 0, 0, 0, 0, 0, 0, 0, 0, 0, 0, 0, 0, 0, 0, 0, 0, 0, 0, 0, 0, 0, 0, 0, 0, 0, 0, 0, 0, 0, 0, 0]\n",
      "row_idx 10 [[[0, 181], [0, 182], [0, 183], [0, 184], [0, 185], [0, 186], [0, 187]], [[1, 174], [1, 175], [1, 176], [1, 177], [1, 178]], [[2, 49], [2, 50]], [[3, 43]], [[4, 52], [4, 53], [4, 54], [4, 55], [4, 56], [4, 57], [4, 58], [4, 59], [4, 60]], [[0, 0]], [[6, 100], [6, 101], [6, 102], [6, 103]], [[0, 0]], [[0, 0]], [[9, 24], [9, 25], [9, 26], [9, 27]], [[10, 15], [10, 16], [10, 17], [10, 18], [10, 19]], 0, 0, 0, 0, 0, 0, 0, 0, 0, 0, 0, 0, 0, 0, 0, 0, 0, 0, 0, 0, 0, 0, 0, 0, 0, 0, 0, 0, 0, 0, 0, 0, 0, 0, 0, 0, 0, 0, 0, 0, 0, 0, 0, 0, 0, 0, 0, 0, 0, 0, 0, 0, 0, 0, 0, 0, 0, 0, 0, 0, 0, 0, 0, 0, 0, 0, 0, 0, 0, 0, 0, 0, 0, 0, 0, 0, 0, 0, 0, 0, 0, 0, 0, 0, 0, 0, 0, 0, 0]\n",
      "row_idx 11 [[[0, 181], [0, 182], [0, 183], [0, 184], [0, 185], [0, 186], [0, 187]], [[1, 174], [1, 175], [1, 176], [1, 177], [1, 178]], [[2, 49], [2, 50]], [[3, 43]], [[4, 52], [4, 53], [4, 54], [4, 55], [4, 56], [4, 57], [4, 58], [4, 59], [4, 60]], [[0, 0]], [[6, 100], [6, 101], [6, 102], [6, 103]], [[0, 0]], [[0, 0]], [[9, 24], [9, 25], [9, 26], [9, 27]], [[10, 15], [10, 16], [10, 17], [10, 18], [10, 19]], [[89, 4], [89, 5]], 0, 0, 0, 0, 0, 0, 0, 0, 0, 0, 0, 0, 0, 0, 0, 0, 0, 0, 0, 0, 0, 0, 0, 0, 0, 0, 0, 0, 0, 0, 0, 0, 0, 0, 0, 0, 0, 0, 0, 0, 0, 0, 0, 0, 0, 0, 0, 0, 0, 0, 0, 0, 0, 0, 0, 0, 0, 0, 0, 0, 0, 0, 0, 0, 0, 0, 0, 0, 0, 0, 0, 0, 0, 0, 0, 0, 0, 0, 0, 0, 0, 0, 0, 0, 0, 0, 0, 0]\n",
      "row_idx 12 [[[0, 181], [0, 182], [0, 183], [0, 184], [0, 185], [0, 186], [0, 187]], [[1, 174], [1, 175], [1, 176], [1, 177], [1, 178]], [[2, 49], [2, 50]], [[3, 43]], [[4, 52], [4, 53], [4, 54], [4, 55], [4, 56], [4, 57], [4, 58], [4, 59], [4, 60]], [[0, 0]], [[6, 100], [6, 101], [6, 102], [6, 103]], [[0, 0]], [[0, 0]], [[9, 24], [9, 25], [9, 26], [9, 27]], [[10, 15], [10, 16], [10, 17], [10, 18], [10, 19]], [[89, 4], [89, 5]], [[88, 6]], 0, 0, 0, 0, 0, 0, 0, 0, 0, 0, 0, 0, 0, 0, 0, 0, 0, 0, 0, 0, 0, 0, 0, 0, 0, 0, 0, 0, 0, 0, 0, 0, 0, 0, 0, 0, 0, 0, 0, 0, 0, 0, 0, 0, 0, 0, 0, 0, 0, 0, 0, 0, 0, 0, 0, 0, 0, 0, 0, 0, 0, 0, 0, 0, 0, 0, 0, 0, 0, 0, 0, 0, 0, 0, 0, 0, 0, 0, 0, 0, 0, 0, 0, 0, 0, 0, 0]\n",
      "row_idx 14 [[[0, 181], [0, 182], [0, 183], [0, 184], [0, 185], [0, 186], [0, 187]], [[1, 174], [1, 175], [1, 176], [1, 177], [1, 178]], [[2, 49], [2, 50]], [[3, 43]], [[4, 52], [4, 53], [4, 54], [4, 55], [4, 56], [4, 57], [4, 58], [4, 59], [4, 60]], [[0, 0]], [[6, 100], [6, 101], [6, 102], [6, 103]], [[0, 0]], [[0, 0]], [[9, 24], [9, 25], [9, 26], [9, 27]], [[10, 15], [10, 16], [10, 17], [10, 18], [10, 19]], [[89, 4], [89, 5]], [[88, 6]], [[0, 0]], [[1, 137], [1, 138], [1, 139], [1, 140]], 0, 0, 0, 0, 0, 0, 0, 0, 0, 0, 0, 0, 0, 0, 0, 0, 0, 0, 0, 0, 0, 0, 0, 0, 0, 0, 0, 0, 0, 0, 0, 0, 0, 0, 0, 0, 0, 0, 0, 0, 0, 0, 0, 0, 0, 0, 0, 0, 0, 0, 0, 0, 0, 0, 0, 0, 0, 0, 0, 0, 0, 0, 0, 0, 0, 0, 0, 0, 0, 0, 0, 0, 0, 0, 0, 0, 0, 0, 0, 0, 0, 0, 0, 0, 0]\n",
      "row_idx 15 [[[0, 181], [0, 182], [0, 183], [0, 184], [0, 185], [0, 186], [0, 187]], [[1, 174], [1, 175], [1, 176], [1, 177], [1, 178]], [[2, 49], [2, 50]], [[3, 43]], [[4, 52], [4, 53], [4, 54], [4, 55], [4, 56], [4, 57], [4, 58], [4, 59], [4, 60]], [[0, 0]], [[6, 100], [6, 101], [6, 102], [6, 103]], [[0, 0]], [[0, 0]], [[9, 24], [9, 25], [9, 26], [9, 27]], [[10, 15], [10, 16], [10, 17], [10, 18], [10, 19]], [[89, 4], [89, 5]], [[88, 6]], [[0, 0]], [[1, 137], [1, 138], [1, 139], [1, 140]], [[2, 68], [2, 69], [2, 70], [2, 71]], 0, 0, 0, 0, 0, 0, 0, 0, 0, 0, 0, 0, 0, 0, 0, 0, 0, 0, 0, 0, 0, 0, 0, 0, 0, 0, 0, 0, 0, 0, 0, 0, 0, 0, 0, 0, 0, 0, 0, 0, 0, 0, 0, 0, 0, 0, 0, 0, 0, 0, 0, 0, 0, 0, 0, 0, 0, 0, 0, 0, 0, 0, 0, 0, 0, 0, 0, 0, 0, 0, 0, 0, 0, 0, 0, 0, 0, 0, 0, 0, 0, 0, 0, 0]\n",
      "row_idx 16 [[[0, 181], [0, 182], [0, 183], [0, 184], [0, 185], [0, 186], [0, 187]], [[1, 174], [1, 175], [1, 176], [1, 177], [1, 178]], [[2, 49], [2, 50]], [[3, 43]], [[4, 52], [4, 53], [4, 54], [4, 55], [4, 56], [4, 57], [4, 58], [4, 59], [4, 60]], [[0, 0]], [[6, 100], [6, 101], [6, 102], [6, 103]], [[0, 0]], [[0, 0]], [[9, 24], [9, 25], [9, 26], [9, 27]], [[10, 15], [10, 16], [10, 17], [10, 18], [10, 19]], [[89, 4], [89, 5]], [[88, 6]], [[0, 0]], [[1, 137], [1, 138], [1, 139], [1, 140]], [[2, 68], [2, 69], [2, 70], [2, 71]], [[3, 40], [3, 41], [3, 42], [3, 43], [3, 44]], 0, 0, 0, 0, 0, 0, 0, 0, 0, 0, 0, 0, 0, 0, 0, 0, 0, 0, 0, 0, 0, 0, 0, 0, 0, 0, 0, 0, 0, 0, 0, 0, 0, 0, 0, 0, 0, 0, 0, 0, 0, 0, 0, 0, 0, 0, 0, 0, 0, 0, 0, 0, 0, 0, 0, 0, 0, 0, 0, 0, 0, 0, 0, 0, 0, 0, 0, 0, 0, 0, 0, 0, 0, 0, 0, 0, 0, 0, 0, 0, 0, 0, 0]\n",
      "row_idx 20 [[[0, 181], [0, 182], [0, 183], [0, 184], [0, 185], [0, 186], [0, 187]], [[1, 174], [1, 175], [1, 176], [1, 177], [1, 178]], [[2, 49], [2, 50]], [[3, 43]], [[4, 52], [4, 53], [4, 54], [4, 55], [4, 56], [4, 57], [4, 58], [4, 59], [4, 60]], [[0, 0]], [[6, 100], [6, 101], [6, 102], [6, 103]], [[0, 0]], [[0, 0]], [[9, 24], [9, 25], [9, 26], [9, 27]], [[10, 15], [10, 16], [10, 17], [10, 18], [10, 19]], [[89, 4], [89, 5]], [[88, 6]], [[0, 0]], [[1, 137], [1, 138], [1, 139], [1, 140]], [[2, 68], [2, 69], [2, 70], [2, 71]], [[3, 40], [3, 41], [3, 42], [3, 43], [3, 44]], [[0, 0]], [[0, 0]], [[0, 0]], [[7, 66]], 0, 0, 0, 0, 0, 0, 0, 0, 0, 0, 0, 0, 0, 0, 0, 0, 0, 0, 0, 0, 0, 0, 0, 0, 0, 0, 0, 0, 0, 0, 0, 0, 0, 0, 0, 0, 0, 0, 0, 0, 0, 0, 0, 0, 0, 0, 0, 0, 0, 0, 0, 0, 0, 0, 0, 0, 0, 0, 0, 0, 0, 0, 0, 0, 0, 0, 0, 0, 0, 0, 0, 0, 0, 0, 0, 0, 0, 0, 0]\n",
      "row_idx 22 [[[0, 181], [0, 182], [0, 183], [0, 184], [0, 185], [0, 186], [0, 187]], [[1, 174], [1, 175], [1, 176], [1, 177], [1, 178]], [[2, 49], [2, 50]], [[3, 43]], [[4, 52], [4, 53], [4, 54], [4, 55], [4, 56], [4, 57], [4, 58], [4, 59], [4, 60]], [[0, 0]], [[6, 100], [6, 101], [6, 102], [6, 103]], [[0, 0]], [[0, 0]], [[9, 24], [9, 25], [9, 26], [9, 27]], [[10, 15], [10, 16], [10, 17], [10, 18], [10, 19]], [[89, 4], [89, 5]], [[88, 6]], [[0, 0]], [[1, 137], [1, 138], [1, 139], [1, 140]], [[2, 68], [2, 69], [2, 70], [2, 71]], [[3, 40], [3, 41], [3, 42], [3, 43], [3, 44]], [[0, 0]], [[0, 0]], [[0, 0]], [[7, 66]], [[0, 0]], [[9, 13], [9, 14]], 0, 0, 0, 0, 0, 0, 0, 0, 0, 0, 0, 0, 0, 0, 0, 0, 0, 0, 0, 0, 0, 0, 0, 0, 0, 0, 0, 0, 0, 0, 0, 0, 0, 0, 0, 0, 0, 0, 0, 0, 0, 0, 0, 0, 0, 0, 0, 0, 0, 0, 0, 0, 0, 0, 0, 0, 0, 0, 0, 0, 0, 0, 0, 0, 0, 0, 0, 0, 0, 0, 0, 0, 0, 0, 0, 0, 0]\n",
      "row_idx 23 [[[0, 181], [0, 182], [0, 183], [0, 184], [0, 185], [0, 186], [0, 187]], [[1, 174], [1, 175], [1, 176], [1, 177], [1, 178]], [[2, 49], [2, 50]], [[3, 43]], [[4, 52], [4, 53], [4, 54], [4, 55], [4, 56], [4, 57], [4, 58], [4, 59], [4, 60]], [[0, 0]], [[6, 100], [6, 101], [6, 102], [6, 103]], [[0, 0]], [[0, 0]], [[9, 24], [9, 25], [9, 26], [9, 27]], [[10, 15], [10, 16], [10, 17], [10, 18], [10, 19]], [[89, 4], [89, 5]], [[88, 6]], [[0, 0]], [[1, 137], [1, 138], [1, 139], [1, 140]], [[2, 68], [2, 69], [2, 70], [2, 71]], [[3, 40], [3, 41], [3, 42], [3, 43], [3, 44]], [[0, 0]], [[0, 0]], [[0, 0]], [[7, 66]], [[0, 0]], [[9, 13], [9, 14]], [[10, 16], [10, 17], [10, 18], [10, 19], [10, 20], [10, 21]], 0, 0, 0, 0, 0, 0, 0, 0, 0, 0, 0, 0, 0, 0, 0, 0, 0, 0, 0, 0, 0, 0, 0, 0, 0, 0, 0, 0, 0, 0, 0, 0, 0, 0, 0, 0, 0, 0, 0, 0, 0, 0, 0, 0, 0, 0, 0, 0, 0, 0, 0, 0, 0, 0, 0, 0, 0, 0, 0, 0, 0, 0, 0, 0, 0, 0, 0, 0, 0, 0, 0, 0, 0, 0, 0, 0]\n",
      "row_idx 24 [[[0, 181], [0, 182], [0, 183], [0, 184], [0, 185], [0, 186], [0, 187]], [[1, 174], [1, 175], [1, 176], [1, 177], [1, 178]], [[2, 49], [2, 50]], [[3, 43]], [[4, 52], [4, 53], [4, 54], [4, 55], [4, 56], [4, 57], [4, 58], [4, 59], [4, 60]], [[0, 0]], [[6, 100], [6, 101], [6, 102], [6, 103]], [[0, 0]], [[0, 0]], [[9, 24], [9, 25], [9, 26], [9, 27]], [[10, 15], [10, 16], [10, 17], [10, 18], [10, 19]], [[89, 4], [89, 5]], [[88, 6]], [[0, 0]], [[1, 137], [1, 138], [1, 139], [1, 140]], [[2, 68], [2, 69], [2, 70], [2, 71]], [[3, 40], [3, 41], [3, 42], [3, 43], [3, 44]], [[0, 0]], [[0, 0]], [[0, 0]], [[7, 66]], [[0, 0]], [[9, 13], [9, 14]], [[10, 16], [10, 17], [10, 18], [10, 19], [10, 20], [10, 21]], [[89, 1], [89, 2], [89, 3], [89, 4]], 0, 0, 0, 0, 0, 0, 0, 0, 0, 0, 0, 0, 0, 0, 0, 0, 0, 0, 0, 0, 0, 0, 0, 0, 0, 0, 0, 0, 0, 0, 0, 0, 0, 0, 0, 0, 0, 0, 0, 0, 0, 0, 0, 0, 0, 0, 0, 0, 0, 0, 0, 0, 0, 0, 0, 0, 0, 0, 0, 0, 0, 0, 0, 0, 0, 0, 0, 0, 0, 0, 0, 0, 0, 0, 0]\n",
      "row_idx 25 [[[0, 181], [0, 182], [0, 183], [0, 184], [0, 185], [0, 186], [0, 187]], [[1, 174], [1, 175], [1, 176], [1, 177], [1, 178]], [[2, 49], [2, 50]], [[3, 43]], [[4, 52], [4, 53], [4, 54], [4, 55], [4, 56], [4, 57], [4, 58], [4, 59], [4, 60]], [[0, 0]], [[6, 100], [6, 101], [6, 102], [6, 103]], [[0, 0]], [[0, 0]], [[9, 24], [9, 25], [9, 26], [9, 27]], [[10, 15], [10, 16], [10, 17], [10, 18], [10, 19]], [[89, 4], [89, 5]], [[88, 6]], [[0, 0]], [[1, 137], [1, 138], [1, 139], [1, 140]], [[2, 68], [2, 69], [2, 70], [2, 71]], [[3, 40], [3, 41], [3, 42], [3, 43], [3, 44]], [[0, 0]], [[0, 0]], [[0, 0]], [[7, 66]], [[0, 0]], [[9, 13], [9, 14]], [[10, 16], [10, 17], [10, 18], [10, 19], [10, 20], [10, 21]], [[89, 1], [89, 2], [89, 3], [89, 4]], [[88, 5]], 0, 0, 0, 0, 0, 0, 0, 0, 0, 0, 0, 0, 0, 0, 0, 0, 0, 0, 0, 0, 0, 0, 0, 0, 0, 0, 0, 0, 0, 0, 0, 0, 0, 0, 0, 0, 0, 0, 0, 0, 0, 0, 0, 0, 0, 0, 0, 0, 0, 0, 0, 0, 0, 0, 0, 0, 0, 0, 0, 0, 0, 0, 0, 0, 0, 0, 0, 0, 0, 0, 0, 0, 0, 0]\n",
      "row_idx 26 [[[0, 181], [0, 182], [0, 183], [0, 184], [0, 185], [0, 186], [0, 187]], [[1, 174], [1, 175], [1, 176], [1, 177], [1, 178]], [[2, 49], [2, 50]], [[3, 43]], [[4, 52], [4, 53], [4, 54], [4, 55], [4, 56], [4, 57], [4, 58], [4, 59], [4, 60]], [[0, 0]], [[6, 100], [6, 101], [6, 102], [6, 103]], [[0, 0]], [[0, 0]], [[9, 24], [9, 25], [9, 26], [9, 27]], [[10, 15], [10, 16], [10, 17], [10, 18], [10, 19]], [[89, 4], [89, 5]], [[88, 6]], [[0, 0]], [[1, 137], [1, 138], [1, 139], [1, 140]], [[2, 68], [2, 69], [2, 70], [2, 71]], [[3, 40], [3, 41], [3, 42], [3, 43], [3, 44]], [[0, 0]], [[0, 0]], [[0, 0]], [[7, 66]], [[0, 0]], [[9, 13], [9, 14]], [[10, 16], [10, 17], [10, 18], [10, 19], [10, 20], [10, 21]], [[89, 1], [89, 2], [89, 3], [89, 4]], [[88, 5]], [[0, 186], [0, 187], [0, 188], [0, 189]], 0, 0, 0, 0, 0, 0, 0, 0, 0, 0, 0, 0, 0, 0, 0, 0, 0, 0, 0, 0, 0, 0, 0, 0, 0, 0, 0, 0, 0, 0, 0, 0, 0, 0, 0, 0, 0, 0, 0, 0, 0, 0, 0, 0, 0, 0, 0, 0, 0, 0, 0, 0, 0, 0, 0, 0, 0, 0, 0, 0, 0, 0, 0, 0, 0, 0, 0, 0, 0, 0, 0, 0, 0]\n",
      "row_idx 27 [[[0, 181], [0, 182], [0, 183], [0, 184], [0, 185], [0, 186], [0, 187]], [[1, 174], [1, 175], [1, 176], [1, 177], [1, 178]], [[2, 49], [2, 50]], [[3, 43]], [[4, 52], [4, 53], [4, 54], [4, 55], [4, 56], [4, 57], [4, 58], [4, 59], [4, 60]], [[0, 0]], [[6, 100], [6, 101], [6, 102], [6, 103]], [[0, 0]], [[0, 0]], [[9, 24], [9, 25], [9, 26], [9, 27]], [[10, 15], [10, 16], [10, 17], [10, 18], [10, 19]], [[89, 4], [89, 5]], [[88, 6]], [[0, 0]], [[1, 137], [1, 138], [1, 139], [1, 140]], [[2, 68], [2, 69], [2, 70], [2, 71]], [[3, 40], [3, 41], [3, 42], [3, 43], [3, 44]], [[0, 0]], [[0, 0]], [[0, 0]], [[7, 66]], [[0, 0]], [[9, 13], [9, 14]], [[10, 16], [10, 17], [10, 18], [10, 19], [10, 20], [10, 21]], [[89, 1], [89, 2], [89, 3], [89, 4]], [[88, 5]], [[0, 186], [0, 187], [0, 188], [0, 189]], [[1, 181], [1, 182], [1, 183], [1, 184]], 0, 0, 0, 0, 0, 0, 0, 0, 0, 0, 0, 0, 0, 0, 0, 0, 0, 0, 0, 0, 0, 0, 0, 0, 0, 0, 0, 0, 0, 0, 0, 0, 0, 0, 0, 0, 0, 0, 0, 0, 0, 0, 0, 0, 0, 0, 0, 0, 0, 0, 0, 0, 0, 0, 0, 0, 0, 0, 0, 0, 0, 0, 0, 0, 0, 0, 0, 0, 0, 0, 0, 0]\n",
      "row_idx 29 [[[0, 181], [0, 182], [0, 183], [0, 184], [0, 185], [0, 186], [0, 187]], [[1, 174], [1, 175], [1, 176], [1, 177], [1, 178]], [[2, 49], [2, 50]], [[3, 43]], [[4, 52], [4, 53], [4, 54], [4, 55], [4, 56], [4, 57], [4, 58], [4, 59], [4, 60]], [[0, 0]], [[6, 100], [6, 101], [6, 102], [6, 103]], [[0, 0]], [[0, 0]], [[9, 24], [9, 25], [9, 26], [9, 27]], [[10, 15], [10, 16], [10, 17], [10, 18], [10, 19]], [[89, 4], [89, 5]], [[88, 6]], [[0, 0]], [[1, 137], [1, 138], [1, 139], [1, 140]], [[2, 68], [2, 69], [2, 70], [2, 71]], [[3, 40], [3, 41], [3, 42], [3, 43], [3, 44]], [[0, 0]], [[0, 0]], [[0, 0]], [[7, 66]], [[0, 0]], [[9, 13], [9, 14]], [[10, 16], [10, 17], [10, 18], [10, 19], [10, 20], [10, 21]], [[89, 1], [89, 2], [89, 3], [89, 4]], [[88, 5]], [[0, 186], [0, 187], [0, 188], [0, 189]], [[1, 181], [1, 182], [1, 183], [1, 184]], [[0, 0]], [[3, 40], [3, 41]], 0, 0, 0, 0, 0, 0, 0, 0, 0, 0, 0, 0, 0, 0, 0, 0, 0, 0, 0, 0, 0, 0, 0, 0, 0, 0, 0, 0, 0, 0, 0, 0, 0, 0, 0, 0, 0, 0, 0, 0, 0, 0, 0, 0, 0, 0, 0, 0, 0, 0, 0, 0, 0, 0, 0, 0, 0, 0, 0, 0, 0, 0, 0, 0, 0, 0, 0, 0, 0, 0]\n",
      "row_idx 30 [[[0, 181], [0, 182], [0, 183], [0, 184], [0, 185], [0, 186], [0, 187]], [[1, 174], [1, 175], [1, 176], [1, 177], [1, 178]], [[2, 49], [2, 50]], [[3, 43]], [[4, 52], [4, 53], [4, 54], [4, 55], [4, 56], [4, 57], [4, 58], [4, 59], [4, 60]], [[0, 0]], [[6, 100], [6, 101], [6, 102], [6, 103]], [[0, 0]], [[0, 0]], [[9, 24], [9, 25], [9, 26], [9, 27]], [[10, 15], [10, 16], [10, 17], [10, 18], [10, 19]], [[89, 4], [89, 5]], [[88, 6]], [[0, 0]], [[1, 137], [1, 138], [1, 139], [1, 140]], [[2, 68], [2, 69], [2, 70], [2, 71]], [[3, 40], [3, 41], [3, 42], [3, 43], [3, 44]], [[0, 0]], [[0, 0]], [[0, 0]], [[7, 66]], [[0, 0]], [[9, 13], [9, 14]], [[10, 16], [10, 17], [10, 18], [10, 19], [10, 20], [10, 21]], [[89, 1], [89, 2], [89, 3], [89, 4]], [[88, 5]], [[0, 186], [0, 187], [0, 188], [0, 189]], [[1, 181], [1, 182], [1, 183], [1, 184]], [[0, 0]], [[3, 40], [3, 41]], [[4, 118], [4, 119], [4, 120]], 0, 0, 0, 0, 0, 0, 0, 0, 0, 0, 0, 0, 0, 0, 0, 0, 0, 0, 0, 0, 0, 0, 0, 0, 0, 0, 0, 0, 0, 0, 0, 0, 0, 0, 0, 0, 0, 0, 0, 0, 0, 0, 0, 0, 0, 0, 0, 0, 0, 0, 0, 0, 0, 0, 0, 0, 0, 0, 0, 0, 0, 0, 0, 0, 0, 0, 0, 0, 0]\n",
      "row_idx 31 [[[0, 181], [0, 182], [0, 183], [0, 184], [0, 185], [0, 186], [0, 187]], [[1, 174], [1, 175], [1, 176], [1, 177], [1, 178]], [[2, 49], [2, 50]], [[3, 43]], [[4, 52], [4, 53], [4, 54], [4, 55], [4, 56], [4, 57], [4, 58], [4, 59], [4, 60]], [[0, 0]], [[6, 100], [6, 101], [6, 102], [6, 103]], [[0, 0]], [[0, 0]], [[9, 24], [9, 25], [9, 26], [9, 27]], [[10, 15], [10, 16], [10, 17], [10, 18], [10, 19]], [[89, 4], [89, 5]], [[88, 6]], [[0, 0]], [[1, 137], [1, 138], [1, 139], [1, 140]], [[2, 68], [2, 69], [2, 70], [2, 71]], [[3, 40], [3, 41], [3, 42], [3, 43], [3, 44]], [[0, 0]], [[0, 0]], [[0, 0]], [[7, 66]], [[0, 0]], [[9, 13], [9, 14]], [[10, 16], [10, 17], [10, 18], [10, 19], [10, 20], [10, 21]], [[89, 1], [89, 2], [89, 3], [89, 4]], [[88, 5]], [[0, 186], [0, 187], [0, 188], [0, 189]], [[1, 181], [1, 182], [1, 183], [1, 184]], [[0, 0]], [[3, 40], [3, 41]], [[4, 118], [4, 119], [4, 120]], [[5, 125], [5, 126], [5, 127], [5, 128], [5, 129], [5, 130], [5, 131], [5, 132], [5, 133], [5, 134]], 0, 0, 0, 0, 0, 0, 0, 0, 0, 0, 0, 0, 0, 0, 0, 0, 0, 0, 0, 0, 0, 0, 0, 0, 0, 0, 0, 0, 0, 0, 0, 0, 0, 0, 0, 0, 0, 0, 0, 0, 0, 0, 0, 0, 0, 0, 0, 0, 0, 0, 0, 0, 0, 0, 0, 0, 0, 0, 0, 0, 0, 0, 0, 0, 0, 0, 0, 0]\n",
      "row_idx 32 [[[0, 181], [0, 182], [0, 183], [0, 184], [0, 185], [0, 186], [0, 187]], [[1, 174], [1, 175], [1, 176], [1, 177], [1, 178]], [[2, 49], [2, 50]], [[3, 43]], [[4, 52], [4, 53], [4, 54], [4, 55], [4, 56], [4, 57], [4, 58], [4, 59], [4, 60]], [[0, 0]], [[6, 100], [6, 101], [6, 102], [6, 103]], [[0, 0]], [[0, 0]], [[9, 24], [9, 25], [9, 26], [9, 27]], [[10, 15], [10, 16], [10, 17], [10, 18], [10, 19]], [[89, 4], [89, 5]], [[88, 6]], [[0, 0]], [[1, 137], [1, 138], [1, 139], [1, 140]], [[2, 68], [2, 69], [2, 70], [2, 71]], [[3, 40], [3, 41], [3, 42], [3, 43], [3, 44]], [[0, 0]], [[0, 0]], [[0, 0]], [[7, 66]], [[0, 0]], [[9, 13], [9, 14]], [[10, 16], [10, 17], [10, 18], [10, 19], [10, 20], [10, 21]], [[89, 1], [89, 2], [89, 3], [89, 4]], [[88, 5]], [[0, 186], [0, 187], [0, 188], [0, 189]], [[1, 181], [1, 182], [1, 183], [1, 184]], [[0, 0]], [[3, 40], [3, 41]], [[4, 118], [4, 119], [4, 120]], [[5, 125], [5, 126], [5, 127], [5, 128], [5, 129], [5, 130], [5, 131], [5, 132], [5, 133], [5, 134]], [[6, 80], [6, 81], [6, 82]], 0, 0, 0, 0, 0, 0, 0, 0, 0, 0, 0, 0, 0, 0, 0, 0, 0, 0, 0, 0, 0, 0, 0, 0, 0, 0, 0, 0, 0, 0, 0, 0, 0, 0, 0, 0, 0, 0, 0, 0, 0, 0, 0, 0, 0, 0, 0, 0, 0, 0, 0, 0, 0, 0, 0, 0, 0, 0, 0, 0, 0, 0, 0, 0, 0, 0, 0]\n",
      "row_idx 33 [[[0, 181], [0, 182], [0, 183], [0, 184], [0, 185], [0, 186], [0, 187]], [[1, 174], [1, 175], [1, 176], [1, 177], [1, 178]], [[2, 49], [2, 50]], [[3, 43]], [[4, 52], [4, 53], [4, 54], [4, 55], [4, 56], [4, 57], [4, 58], [4, 59], [4, 60]], [[0, 0]], [[6, 100], [6, 101], [6, 102], [6, 103]], [[0, 0]], [[0, 0]], [[9, 24], [9, 25], [9, 26], [9, 27]], [[10, 15], [10, 16], [10, 17], [10, 18], [10, 19]], [[89, 4], [89, 5]], [[88, 6]], [[0, 0]], [[1, 137], [1, 138], [1, 139], [1, 140]], [[2, 68], [2, 69], [2, 70], [2, 71]], [[3, 40], [3, 41], [3, 42], [3, 43], [3, 44]], [[0, 0]], [[0, 0]], [[0, 0]], [[7, 66]], [[0, 0]], [[9, 13], [9, 14]], [[10, 16], [10, 17], [10, 18], [10, 19], [10, 20], [10, 21]], [[89, 1], [89, 2], [89, 3], [89, 4]], [[88, 5]], [[0, 186], [0, 187], [0, 188], [0, 189]], [[1, 181], [1, 182], [1, 183], [1, 184]], [[0, 0]], [[3, 40], [3, 41]], [[4, 118], [4, 119], [4, 120]], [[5, 125], [5, 126], [5, 127], [5, 128], [5, 129], [5, 130], [5, 131], [5, 132], [5, 133], [5, 134]], [[6, 80], [6, 81], [6, 82]], [[7, 122]], 0, 0, 0, 0, 0, 0, 0, 0, 0, 0, 0, 0, 0, 0, 0, 0, 0, 0, 0, 0, 0, 0, 0, 0, 0, 0, 0, 0, 0, 0, 0, 0, 0, 0, 0, 0, 0, 0, 0, 0, 0, 0, 0, 0, 0, 0, 0, 0, 0, 0, 0, 0, 0, 0, 0, 0, 0, 0, 0, 0, 0, 0, 0, 0, 0, 0]\n",
      "row_idx 35 [[[0, 181], [0, 182], [0, 183], [0, 184], [0, 185], [0, 186], [0, 187]], [[1, 174], [1, 175], [1, 176], [1, 177], [1, 178]], [[2, 49], [2, 50]], [[3, 43]], [[4, 52], [4, 53], [4, 54], [4, 55], [4, 56], [4, 57], [4, 58], [4, 59], [4, 60]], [[0, 0]], [[6, 100], [6, 101], [6, 102], [6, 103]], [[0, 0]], [[0, 0]], [[9, 24], [9, 25], [9, 26], [9, 27]], [[10, 15], [10, 16], [10, 17], [10, 18], [10, 19]], [[89, 4], [89, 5]], [[88, 6]], [[0, 0]], [[1, 137], [1, 138], [1, 139], [1, 140]], [[2, 68], [2, 69], [2, 70], [2, 71]], [[3, 40], [3, 41], [3, 42], [3, 43], [3, 44]], [[0, 0]], [[0, 0]], [[0, 0]], [[7, 66]], [[0, 0]], [[9, 13], [9, 14]], [[10, 16], [10, 17], [10, 18], [10, 19], [10, 20], [10, 21]], [[89, 1], [89, 2], [89, 3], [89, 4]], [[88, 5]], [[0, 186], [0, 187], [0, 188], [0, 189]], [[1, 181], [1, 182], [1, 183], [1, 184]], [[0, 0]], [[3, 40], [3, 41]], [[4, 118], [4, 119], [4, 120]], [[5, 125], [5, 126], [5, 127], [5, 128], [5, 129], [5, 130], [5, 131], [5, 132], [5, 133], [5, 134]], [[6, 80], [6, 81], [6, 82]], [[7, 122]], [[0, 0]], [[9, 33], [9, 34], [9, 35]], 0, 0, 0, 0, 0, 0, 0, 0, 0, 0, 0, 0, 0, 0, 0, 0, 0, 0, 0, 0, 0, 0, 0, 0, 0, 0, 0, 0, 0, 0, 0, 0, 0, 0, 0, 0, 0, 0, 0, 0, 0, 0, 0, 0, 0, 0, 0, 0, 0, 0, 0, 0, 0, 0, 0, 0, 0, 0, 0, 0, 0, 0, 0, 0]\n",
      "row_idx 36 [[[0, 181], [0, 182], [0, 183], [0, 184], [0, 185], [0, 186], [0, 187]], [[1, 174], [1, 175], [1, 176], [1, 177], [1, 178]], [[2, 49], [2, 50]], [[3, 43]], [[4, 52], [4, 53], [4, 54], [4, 55], [4, 56], [4, 57], [4, 58], [4, 59], [4, 60]], [[0, 0]], [[6, 100], [6, 101], [6, 102], [6, 103]], [[0, 0]], [[0, 0]], [[9, 24], [9, 25], [9, 26], [9, 27]], [[10, 15], [10, 16], [10, 17], [10, 18], [10, 19]], [[89, 4], [89, 5]], [[88, 6]], [[0, 0]], [[1, 137], [1, 138], [1, 139], [1, 140]], [[2, 68], [2, 69], [2, 70], [2, 71]], [[3, 40], [3, 41], [3, 42], [3, 43], [3, 44]], [[0, 0]], [[0, 0]], [[0, 0]], [[7, 66]], [[0, 0]], [[9, 13], [9, 14]], [[10, 16], [10, 17], [10, 18], [10, 19], [10, 20], [10, 21]], [[89, 1], [89, 2], [89, 3], [89, 4]], [[88, 5]], [[0, 186], [0, 187], [0, 188], [0, 189]], [[1, 181], [1, 182], [1, 183], [1, 184]], [[0, 0]], [[3, 40], [3, 41]], [[4, 118], [4, 119], [4, 120]], [[5, 125], [5, 126], [5, 127], [5, 128], [5, 129], [5, 130], [5, 131], [5, 132], [5, 133], [5, 134]], [[6, 80], [6, 81], [6, 82]], [[7, 122]], [[0, 0]], [[9, 33], [9, 34], [9, 35]], [[10, 42], [10, 43], [10, 44], [10, 45], [10, 46]], 0, 0, 0, 0, 0, 0, 0, 0, 0, 0, 0, 0, 0, 0, 0, 0, 0, 0, 0, 0, 0, 0, 0, 0, 0, 0, 0, 0, 0, 0, 0, 0, 0, 0, 0, 0, 0, 0, 0, 0, 0, 0, 0, 0, 0, 0, 0, 0, 0, 0, 0, 0, 0, 0, 0, 0, 0, 0, 0, 0, 0, 0, 0]\n",
      "row_idx 37 [[[0, 181], [0, 182], [0, 183], [0, 184], [0, 185], [0, 186], [0, 187]], [[1, 174], [1, 175], [1, 176], [1, 177], [1, 178]], [[2, 49], [2, 50]], [[3, 43]], [[4, 52], [4, 53], [4, 54], [4, 55], [4, 56], [4, 57], [4, 58], [4, 59], [4, 60]], [[0, 0]], [[6, 100], [6, 101], [6, 102], [6, 103]], [[0, 0]], [[0, 0]], [[9, 24], [9, 25], [9, 26], [9, 27]], [[10, 15], [10, 16], [10, 17], [10, 18], [10, 19]], [[89, 4], [89, 5]], [[88, 6]], [[0, 0]], [[1, 137], [1, 138], [1, 139], [1, 140]], [[2, 68], [2, 69], [2, 70], [2, 71]], [[3, 40], [3, 41], [3, 42], [3, 43], [3, 44]], [[0, 0]], [[0, 0]], [[0, 0]], [[7, 66]], [[0, 0]], [[9, 13], [9, 14]], [[10, 16], [10, 17], [10, 18], [10, 19], [10, 20], [10, 21]], [[89, 1], [89, 2], [89, 3], [89, 4]], [[88, 5]], [[0, 186], [0, 187], [0, 188], [0, 189]], [[1, 181], [1, 182], [1, 183], [1, 184]], [[0, 0]], [[3, 40], [3, 41]], [[4, 118], [4, 119], [4, 120]], [[5, 125], [5, 126], [5, 127], [5, 128], [5, 129], [5, 130], [5, 131], [5, 132], [5, 133], [5, 134]], [[6, 80], [6, 81], [6, 82]], [[7, 122]], [[0, 0]], [[9, 33], [9, 34], [9, 35]], [[10, 42], [10, 43], [10, 44], [10, 45], [10, 46]], [[89, 6], [89, 7]], 0, 0, 0, 0, 0, 0, 0, 0, 0, 0, 0, 0, 0, 0, 0, 0, 0, 0, 0, 0, 0, 0, 0, 0, 0, 0, 0, 0, 0, 0, 0, 0, 0, 0, 0, 0, 0, 0, 0, 0, 0, 0, 0, 0, 0, 0, 0, 0, 0, 0, 0, 0, 0, 0, 0, 0, 0, 0, 0, 0, 0, 0]\n",
      "row_idx 38 [[[0, 181], [0, 182], [0, 183], [0, 184], [0, 185], [0, 186], [0, 187]], [[1, 174], [1, 175], [1, 176], [1, 177], [1, 178]], [[2, 49], [2, 50]], [[3, 43]], [[4, 52], [4, 53], [4, 54], [4, 55], [4, 56], [4, 57], [4, 58], [4, 59], [4, 60]], [[0, 0]], [[6, 100], [6, 101], [6, 102], [6, 103]], [[0, 0]], [[0, 0]], [[9, 24], [9, 25], [9, 26], [9, 27]], [[10, 15], [10, 16], [10, 17], [10, 18], [10, 19]], [[89, 4], [89, 5]], [[88, 6]], [[0, 0]], [[1, 137], [1, 138], [1, 139], [1, 140]], [[2, 68], [2, 69], [2, 70], [2, 71]], [[3, 40], [3, 41], [3, 42], [3, 43], [3, 44]], [[0, 0]], [[0, 0]], [[0, 0]], [[7, 66]], [[0, 0]], [[9, 13], [9, 14]], [[10, 16], [10, 17], [10, 18], [10, 19], [10, 20], [10, 21]], [[89, 1], [89, 2], [89, 3], [89, 4]], [[88, 5]], [[0, 186], [0, 187], [0, 188], [0, 189]], [[1, 181], [1, 182], [1, 183], [1, 184]], [[0, 0]], [[3, 40], [3, 41]], [[4, 118], [4, 119], [4, 120]], [[5, 125], [5, 126], [5, 127], [5, 128], [5, 129], [5, 130], [5, 131], [5, 132], [5, 133], [5, 134]], [[6, 80], [6, 81], [6, 82]], [[7, 122]], [[0, 0]], [[9, 33], [9, 34], [9, 35]], [[10, 42], [10, 43], [10, 44], [10, 45], [10, 46]], [[89, 6], [89, 7]], [[88, 8]], 0, 0, 0, 0, 0, 0, 0, 0, 0, 0, 0, 0, 0, 0, 0, 0, 0, 0, 0, 0, 0, 0, 0, 0, 0, 0, 0, 0, 0, 0, 0, 0, 0, 0, 0, 0, 0, 0, 0, 0, 0, 0, 0, 0, 0, 0, 0, 0, 0, 0, 0, 0, 0, 0, 0, 0, 0, 0, 0, 0, 0]\n",
      "row_idx 39 [[[0, 181], [0, 182], [0, 183], [0, 184], [0, 185], [0, 186], [0, 187]], [[1, 174], [1, 175], [1, 176], [1, 177], [1, 178]], [[2, 49], [2, 50]], [[3, 43]], [[4, 52], [4, 53], [4, 54], [4, 55], [4, 56], [4, 57], [4, 58], [4, 59], [4, 60]], [[0, 0]], [[6, 100], [6, 101], [6, 102], [6, 103]], [[0, 0]], [[0, 0]], [[9, 24], [9, 25], [9, 26], [9, 27]], [[10, 15], [10, 16], [10, 17], [10, 18], [10, 19]], [[89, 4], [89, 5]], [[88, 6]], [[0, 0]], [[1, 137], [1, 138], [1, 139], [1, 140]], [[2, 68], [2, 69], [2, 70], [2, 71]], [[3, 40], [3, 41], [3, 42], [3, 43], [3, 44]], [[0, 0]], [[0, 0]], [[0, 0]], [[7, 66]], [[0, 0]], [[9, 13], [9, 14]], [[10, 16], [10, 17], [10, 18], [10, 19], [10, 20], [10, 21]], [[89, 1], [89, 2], [89, 3], [89, 4]], [[88, 5]], [[0, 186], [0, 187], [0, 188], [0, 189]], [[1, 181], [1, 182], [1, 183], [1, 184]], [[0, 0]], [[3, 40], [3, 41]], [[4, 118], [4, 119], [4, 120]], [[5, 125], [5, 126], [5, 127], [5, 128], [5, 129], [5, 130], [5, 131], [5, 132], [5, 133], [5, 134]], [[6, 80], [6, 81], [6, 82]], [[7, 122]], [[0, 0]], [[9, 33], [9, 34], [9, 35]], [[10, 42], [10, 43], [10, 44], [10, 45], [10, 46]], [[89, 6], [89, 7]], [[88, 8]], [[0, 147], [0, 148]], 0, 0, 0, 0, 0, 0, 0, 0, 0, 0, 0, 0, 0, 0, 0, 0, 0, 0, 0, 0, 0, 0, 0, 0, 0, 0, 0, 0, 0, 0, 0, 0, 0, 0, 0, 0, 0, 0, 0, 0, 0, 0, 0, 0, 0, 0, 0, 0, 0, 0, 0, 0, 0, 0, 0, 0, 0, 0, 0, 0]\n",
      "row_idx 40 [[[0, 181], [0, 182], [0, 183], [0, 184], [0, 185], [0, 186], [0, 187]], [[1, 174], [1, 175], [1, 176], [1, 177], [1, 178]], [[2, 49], [2, 50]], [[3, 43]], [[4, 52], [4, 53], [4, 54], [4, 55], [4, 56], [4, 57], [4, 58], [4, 59], [4, 60]], [[0, 0]], [[6, 100], [6, 101], [6, 102], [6, 103]], [[0, 0]], [[0, 0]], [[9, 24], [9, 25], [9, 26], [9, 27]], [[10, 15], [10, 16], [10, 17], [10, 18], [10, 19]], [[89, 4], [89, 5]], [[88, 6]], [[0, 0]], [[1, 137], [1, 138], [1, 139], [1, 140]], [[2, 68], [2, 69], [2, 70], [2, 71]], [[3, 40], [3, 41], [3, 42], [3, 43], [3, 44]], [[0, 0]], [[0, 0]], [[0, 0]], [[7, 66]], [[0, 0]], [[9, 13], [9, 14]], [[10, 16], [10, 17], [10, 18], [10, 19], [10, 20], [10, 21]], [[89, 1], [89, 2], [89, 3], [89, 4]], [[88, 5]], [[0, 186], [0, 187], [0, 188], [0, 189]], [[1, 181], [1, 182], [1, 183], [1, 184]], [[0, 0]], [[3, 40], [3, 41]], [[4, 118], [4, 119], [4, 120]], [[5, 125], [5, 126], [5, 127], [5, 128], [5, 129], [5, 130], [5, 131], [5, 132], [5, 133], [5, 134]], [[6, 80], [6, 81], [6, 82]], [[7, 122]], [[0, 0]], [[9, 33], [9, 34], [9, 35]], [[10, 42], [10, 43], [10, 44], [10, 45], [10, 46]], [[89, 6], [89, 7]], [[88, 8]], [[0, 147], [0, 148]], [[1, 150], [1, 151], [1, 152]], 0, 0, 0, 0, 0, 0, 0, 0, 0, 0, 0, 0, 0, 0, 0, 0, 0, 0, 0, 0, 0, 0, 0, 0, 0, 0, 0, 0, 0, 0, 0, 0, 0, 0, 0, 0, 0, 0, 0, 0, 0, 0, 0, 0, 0, 0, 0, 0, 0, 0, 0, 0, 0, 0, 0, 0, 0, 0, 0]\n",
      "row_idx 42 [[[0, 181], [0, 182], [0, 183], [0, 184], [0, 185], [0, 186], [0, 187]], [[1, 174], [1, 175], [1, 176], [1, 177], [1, 178]], [[2, 49], [2, 50]], [[3, 43]], [[4, 52], [4, 53], [4, 54], [4, 55], [4, 56], [4, 57], [4, 58], [4, 59], [4, 60]], [[0, 0]], [[6, 100], [6, 101], [6, 102], [6, 103]], [[0, 0]], [[0, 0]], [[9, 24], [9, 25], [9, 26], [9, 27]], [[10, 15], [10, 16], [10, 17], [10, 18], [10, 19]], [[89, 4], [89, 5]], [[88, 6]], [[0, 0]], [[1, 137], [1, 138], [1, 139], [1, 140]], [[2, 68], [2, 69], [2, 70], [2, 71]], [[3, 40], [3, 41], [3, 42], [3, 43], [3, 44]], [[0, 0]], [[0, 0]], [[0, 0]], [[7, 66]], [[0, 0]], [[9, 13], [9, 14]], [[10, 16], [10, 17], [10, 18], [10, 19], [10, 20], [10, 21]], [[89, 1], [89, 2], [89, 3], [89, 4]], [[88, 5]], [[0, 186], [0, 187], [0, 188], [0, 189]], [[1, 181], [1, 182], [1, 183], [1, 184]], [[0, 0]], [[3, 40], [3, 41]], [[4, 118], [4, 119], [4, 120]], [[5, 125], [5, 126], [5, 127], [5, 128], [5, 129], [5, 130], [5, 131], [5, 132], [5, 133], [5, 134]], [[6, 80], [6, 81], [6, 82]], [[7, 122]], [[0, 0]], [[9, 33], [9, 34], [9, 35]], [[10, 42], [10, 43], [10, 44], [10, 45], [10, 46]], [[89, 6], [89, 7]], [[88, 8]], [[0, 147], [0, 148]], [[1, 150], [1, 151], [1, 152]], [[0, 0]], [[3, 40], [3, 41], [3, 42], [3, 43]], 0, 0, 0, 0, 0, 0, 0, 0, 0, 0, 0, 0, 0, 0, 0, 0, 0, 0, 0, 0, 0, 0, 0, 0, 0, 0, 0, 0, 0, 0, 0, 0, 0, 0, 0, 0, 0, 0, 0, 0, 0, 0, 0, 0, 0, 0, 0, 0, 0, 0, 0, 0, 0, 0, 0, 0, 0]\n",
      "row_idx 43 [[[0, 181], [0, 182], [0, 183], [0, 184], [0, 185], [0, 186], [0, 187]], [[1, 174], [1, 175], [1, 176], [1, 177], [1, 178]], [[2, 49], [2, 50]], [[3, 43]], [[4, 52], [4, 53], [4, 54], [4, 55], [4, 56], [4, 57], [4, 58], [4, 59], [4, 60]], [[0, 0]], [[6, 100], [6, 101], [6, 102], [6, 103]], [[0, 0]], [[0, 0]], [[9, 24], [9, 25], [9, 26], [9, 27]], [[10, 15], [10, 16], [10, 17], [10, 18], [10, 19]], [[89, 4], [89, 5]], [[88, 6]], [[0, 0]], [[1, 137], [1, 138], [1, 139], [1, 140]], [[2, 68], [2, 69], [2, 70], [2, 71]], [[3, 40], [3, 41], [3, 42], [3, 43], [3, 44]], [[0, 0]], [[0, 0]], [[0, 0]], [[7, 66]], [[0, 0]], [[9, 13], [9, 14]], [[10, 16], [10, 17], [10, 18], [10, 19], [10, 20], [10, 21]], [[89, 1], [89, 2], [89, 3], [89, 4]], [[88, 5]], [[0, 186], [0, 187], [0, 188], [0, 189]], [[1, 181], [1, 182], [1, 183], [1, 184]], [[0, 0]], [[3, 40], [3, 41]], [[4, 118], [4, 119], [4, 120]], [[5, 125], [5, 126], [5, 127], [5, 128], [5, 129], [5, 130], [5, 131], [5, 132], [5, 133], [5, 134]], [[6, 80], [6, 81], [6, 82]], [[7, 122]], [[0, 0]], [[9, 33], [9, 34], [9, 35]], [[10, 42], [10, 43], [10, 44], [10, 45], [10, 46]], [[89, 6], [89, 7]], [[88, 8]], [[0, 147], [0, 148]], [[1, 150], [1, 151], [1, 152]], [[0, 0]], [[3, 40], [3, 41], [3, 42], [3, 43]], [[4, 57], [4, 58], [4, 59]], 0, 0, 0, 0, 0, 0, 0, 0, 0, 0, 0, 0, 0, 0, 0, 0, 0, 0, 0, 0, 0, 0, 0, 0, 0, 0, 0, 0, 0, 0, 0, 0, 0, 0, 0, 0, 0, 0, 0, 0, 0, 0, 0, 0, 0, 0, 0, 0, 0, 0, 0, 0, 0, 0, 0, 0]\n",
      "row_idx 45 [[[0, 181], [0, 182], [0, 183], [0, 184], [0, 185], [0, 186], [0, 187]], [[1, 174], [1, 175], [1, 176], [1, 177], [1, 178]], [[2, 49], [2, 50]], [[3, 43]], [[4, 52], [4, 53], [4, 54], [4, 55], [4, 56], [4, 57], [4, 58], [4, 59], [4, 60]], [[0, 0]], [[6, 100], [6, 101], [6, 102], [6, 103]], [[0, 0]], [[0, 0]], [[9, 24], [9, 25], [9, 26], [9, 27]], [[10, 15], [10, 16], [10, 17], [10, 18], [10, 19]], [[89, 4], [89, 5]], [[88, 6]], [[0, 0]], [[1, 137], [1, 138], [1, 139], [1, 140]], [[2, 68], [2, 69], [2, 70], [2, 71]], [[3, 40], [3, 41], [3, 42], [3, 43], [3, 44]], [[0, 0]], [[0, 0]], [[0, 0]], [[7, 66]], [[0, 0]], [[9, 13], [9, 14]], [[10, 16], [10, 17], [10, 18], [10, 19], [10, 20], [10, 21]], [[89, 1], [89, 2], [89, 3], [89, 4]], [[88, 5]], [[0, 186], [0, 187], [0, 188], [0, 189]], [[1, 181], [1, 182], [1, 183], [1, 184]], [[0, 0]], [[3, 40], [3, 41]], [[4, 118], [4, 119], [4, 120]], [[5, 125], [5, 126], [5, 127], [5, 128], [5, 129], [5, 130], [5, 131], [5, 132], [5, 133], [5, 134]], [[6, 80], [6, 81], [6, 82]], [[7, 122]], [[0, 0]], [[9, 33], [9, 34], [9, 35]], [[10, 42], [10, 43], [10, 44], [10, 45], [10, 46]], [[89, 6], [89, 7]], [[88, 8]], [[0, 147], [0, 148]], [[1, 150], [1, 151], [1, 152]], [[0, 0]], [[3, 40], [3, 41], [3, 42], [3, 43]], [[4, 57], [4, 58], [4, 59]], [[0, 0]], [[6, 85], [6, 86], [6, 87]], 0, 0, 0, 0, 0, 0, 0, 0, 0, 0, 0, 0, 0, 0, 0, 0, 0, 0, 0, 0, 0, 0, 0, 0, 0, 0, 0, 0, 0, 0, 0, 0, 0, 0, 0, 0, 0, 0, 0, 0, 0, 0, 0, 0, 0, 0, 0, 0, 0, 0, 0, 0, 0, 0]\n",
      "row_idx 46 [[[0, 181], [0, 182], [0, 183], [0, 184], [0, 185], [0, 186], [0, 187]], [[1, 174], [1, 175], [1, 176], [1, 177], [1, 178]], [[2, 49], [2, 50]], [[3, 43]], [[4, 52], [4, 53], [4, 54], [4, 55], [4, 56], [4, 57], [4, 58], [4, 59], [4, 60]], [[0, 0]], [[6, 100], [6, 101], [6, 102], [6, 103]], [[0, 0]], [[0, 0]], [[9, 24], [9, 25], [9, 26], [9, 27]], [[10, 15], [10, 16], [10, 17], [10, 18], [10, 19]], [[89, 4], [89, 5]], [[88, 6]], [[0, 0]], [[1, 137], [1, 138], [1, 139], [1, 140]], [[2, 68], [2, 69], [2, 70], [2, 71]], [[3, 40], [3, 41], [3, 42], [3, 43], [3, 44]], [[0, 0]], [[0, 0]], [[0, 0]], [[7, 66]], [[0, 0]], [[9, 13], [9, 14]], [[10, 16], [10, 17], [10, 18], [10, 19], [10, 20], [10, 21]], [[89, 1], [89, 2], [89, 3], [89, 4]], [[88, 5]], [[0, 186], [0, 187], [0, 188], [0, 189]], [[1, 181], [1, 182], [1, 183], [1, 184]], [[0, 0]], [[3, 40], [3, 41]], [[4, 118], [4, 119], [4, 120]], [[5, 125], [5, 126], [5, 127], [5, 128], [5, 129], [5, 130], [5, 131], [5, 132], [5, 133], [5, 134]], [[6, 80], [6, 81], [6, 82]], [[7, 122]], [[0, 0]], [[9, 33], [9, 34], [9, 35]], [[10, 42], [10, 43], [10, 44], [10, 45], [10, 46]], [[89, 6], [89, 7]], [[88, 8]], [[0, 147], [0, 148]], [[1, 150], [1, 151], [1, 152]], [[0, 0]], [[3, 40], [3, 41], [3, 42], [3, 43]], [[4, 57], [4, 58], [4, 59]], [[0, 0]], [[6, 85], [6, 86], [6, 87]], [[7, 63], [7, 64], [7, 65], [7, 66]], 0, 0, 0, 0, 0, 0, 0, 0, 0, 0, 0, 0, 0, 0, 0, 0, 0, 0, 0, 0, 0, 0, 0, 0, 0, 0, 0, 0, 0, 0, 0, 0, 0, 0, 0, 0, 0, 0, 0, 0, 0, 0, 0, 0, 0, 0, 0, 0, 0, 0, 0, 0, 0]\n",
      "row_idx 48 [[[0, 181], [0, 182], [0, 183], [0, 184], [0, 185], [0, 186], [0, 187]], [[1, 174], [1, 175], [1, 176], [1, 177], [1, 178]], [[2, 49], [2, 50]], [[3, 43]], [[4, 52], [4, 53], [4, 54], [4, 55], [4, 56], [4, 57], [4, 58], [4, 59], [4, 60]], [[0, 0]], [[6, 100], [6, 101], [6, 102], [6, 103]], [[0, 0]], [[0, 0]], [[9, 24], [9, 25], [9, 26], [9, 27]], [[10, 15], [10, 16], [10, 17], [10, 18], [10, 19]], [[89, 4], [89, 5]], [[88, 6]], [[0, 0]], [[1, 137], [1, 138], [1, 139], [1, 140]], [[2, 68], [2, 69], [2, 70], [2, 71]], [[3, 40], [3, 41], [3, 42], [3, 43], [3, 44]], [[0, 0]], [[0, 0]], [[0, 0]], [[7, 66]], [[0, 0]], [[9, 13], [9, 14]], [[10, 16], [10, 17], [10, 18], [10, 19], [10, 20], [10, 21]], [[89, 1], [89, 2], [89, 3], [89, 4]], [[88, 5]], [[0, 186], [0, 187], [0, 188], [0, 189]], [[1, 181], [1, 182], [1, 183], [1, 184]], [[0, 0]], [[3, 40], [3, 41]], [[4, 118], [4, 119], [4, 120]], [[5, 125], [5, 126], [5, 127], [5, 128], [5, 129], [5, 130], [5, 131], [5, 132], [5, 133], [5, 134]], [[6, 80], [6, 81], [6, 82]], [[7, 122]], [[0, 0]], [[9, 33], [9, 34], [9, 35]], [[10, 42], [10, 43], [10, 44], [10, 45], [10, 46]], [[89, 6], [89, 7]], [[88, 8]], [[0, 147], [0, 148]], [[1, 150], [1, 151], [1, 152]], [[0, 0]], [[3, 40], [3, 41], [3, 42], [3, 43]], [[4, 57], [4, 58], [4, 59]], [[0, 0]], [[6, 85], [6, 86], [6, 87]], [[7, 63], [7, 64], [7, 65], [7, 66]], [[0, 0]], [[9, 25], [9, 26]], 0, 0, 0, 0, 0, 0, 0, 0, 0, 0, 0, 0, 0, 0, 0, 0, 0, 0, 0, 0, 0, 0, 0, 0, 0, 0, 0, 0, 0, 0, 0, 0, 0, 0, 0, 0, 0, 0, 0, 0, 0, 0, 0, 0, 0, 0, 0, 0, 0, 0, 0]\n",
      "row_idx 49 [[[0, 181], [0, 182], [0, 183], [0, 184], [0, 185], [0, 186], [0, 187]], [[1, 174], [1, 175], [1, 176], [1, 177], [1, 178]], [[2, 49], [2, 50]], [[3, 43]], [[4, 52], [4, 53], [4, 54], [4, 55], [4, 56], [4, 57], [4, 58], [4, 59], [4, 60]], [[0, 0]], [[6, 100], [6, 101], [6, 102], [6, 103]], [[0, 0]], [[0, 0]], [[9, 24], [9, 25], [9, 26], [9, 27]], [[10, 15], [10, 16], [10, 17], [10, 18], [10, 19]], [[89, 4], [89, 5]], [[88, 6]], [[0, 0]], [[1, 137], [1, 138], [1, 139], [1, 140]], [[2, 68], [2, 69], [2, 70], [2, 71]], [[3, 40], [3, 41], [3, 42], [3, 43], [3, 44]], [[0, 0]], [[0, 0]], [[0, 0]], [[7, 66]], [[0, 0]], [[9, 13], [9, 14]], [[10, 16], [10, 17], [10, 18], [10, 19], [10, 20], [10, 21]], [[89, 1], [89, 2], [89, 3], [89, 4]], [[88, 5]], [[0, 186], [0, 187], [0, 188], [0, 189]], [[1, 181], [1, 182], [1, 183], [1, 184]], [[0, 0]], [[3, 40], [3, 41]], [[4, 118], [4, 119], [4, 120]], [[5, 125], [5, 126], [5, 127], [5, 128], [5, 129], [5, 130], [5, 131], [5, 132], [5, 133], [5, 134]], [[6, 80], [6, 81], [6, 82]], [[7, 122]], [[0, 0]], [[9, 33], [9, 34], [9, 35]], [[10, 42], [10, 43], [10, 44], [10, 45], [10, 46]], [[89, 6], [89, 7]], [[88, 8]], [[0, 147], [0, 148]], [[1, 150], [1, 151], [1, 152]], [[0, 0]], [[3, 40], [3, 41], [3, 42], [3, 43]], [[4, 57], [4, 58], [4, 59]], [[0, 0]], [[6, 85], [6, 86], [6, 87]], [[7, 63], [7, 64], [7, 65], [7, 66]], [[0, 0]], [[9, 25], [9, 26]], [[10, 45], [10, 46], [10, 47], [10, 48], [10, 49]], 0, 0, 0, 0, 0, 0, 0, 0, 0, 0, 0, 0, 0, 0, 0, 0, 0, 0, 0, 0, 0, 0, 0, 0, 0, 0, 0, 0, 0, 0, 0, 0, 0, 0, 0, 0, 0, 0, 0, 0, 0, 0, 0, 0, 0, 0, 0, 0, 0, 0]\n",
      "row_idx 50 [[[0, 181], [0, 182], [0, 183], [0, 184], [0, 185], [0, 186], [0, 187]], [[1, 174], [1, 175], [1, 176], [1, 177], [1, 178]], [[2, 49], [2, 50]], [[3, 43]], [[4, 52], [4, 53], [4, 54], [4, 55], [4, 56], [4, 57], [4, 58], [4, 59], [4, 60]], [[0, 0]], [[6, 100], [6, 101], [6, 102], [6, 103]], [[0, 0]], [[0, 0]], [[9, 24], [9, 25], [9, 26], [9, 27]], [[10, 15], [10, 16], [10, 17], [10, 18], [10, 19]], [[89, 4], [89, 5]], [[88, 6]], [[0, 0]], [[1, 137], [1, 138], [1, 139], [1, 140]], [[2, 68], [2, 69], [2, 70], [2, 71]], [[3, 40], [3, 41], [3, 42], [3, 43], [3, 44]], [[0, 0]], [[0, 0]], [[0, 0]], [[7, 66]], [[0, 0]], [[9, 13], [9, 14]], [[10, 16], [10, 17], [10, 18], [10, 19], [10, 20], [10, 21]], [[89, 1], [89, 2], [89, 3], [89, 4]], [[88, 5]], [[0, 186], [0, 187], [0, 188], [0, 189]], [[1, 181], [1, 182], [1, 183], [1, 184]], [[0, 0]], [[3, 40], [3, 41]], [[4, 118], [4, 119], [4, 120]], [[5, 125], [5, 126], [5, 127], [5, 128], [5, 129], [5, 130], [5, 131], [5, 132], [5, 133], [5, 134]], [[6, 80], [6, 81], [6, 82]], [[7, 122]], [[0, 0]], [[9, 33], [9, 34], [9, 35]], [[10, 42], [10, 43], [10, 44], [10, 45], [10, 46]], [[89, 6], [89, 7]], [[88, 8]], [[0, 147], [0, 148]], [[1, 150], [1, 151], [1, 152]], [[0, 0]], [[3, 40], [3, 41], [3, 42], [3, 43]], [[4, 57], [4, 58], [4, 59]], [[0, 0]], [[6, 85], [6, 86], [6, 87]], [[7, 63], [7, 64], [7, 65], [7, 66]], [[0, 0]], [[9, 25], [9, 26]], [[10, 45], [10, 46], [10, 47], [10, 48], [10, 49]], [[89, 1], [89, 2]], 0, 0, 0, 0, 0, 0, 0, 0, 0, 0, 0, 0, 0, 0, 0, 0, 0, 0, 0, 0, 0, 0, 0, 0, 0, 0, 0, 0, 0, 0, 0, 0, 0, 0, 0, 0, 0, 0, 0, 0, 0, 0, 0, 0, 0, 0, 0, 0, 0]\n",
      "row_idx 51 [[[0, 181], [0, 182], [0, 183], [0, 184], [0, 185], [0, 186], [0, 187]], [[1, 174], [1, 175], [1, 176], [1, 177], [1, 178]], [[2, 49], [2, 50]], [[3, 43]], [[4, 52], [4, 53], [4, 54], [4, 55], [4, 56], [4, 57], [4, 58], [4, 59], [4, 60]], [[0, 0]], [[6, 100], [6, 101], [6, 102], [6, 103]], [[0, 0]], [[0, 0]], [[9, 24], [9, 25], [9, 26], [9, 27]], [[10, 15], [10, 16], [10, 17], [10, 18], [10, 19]], [[89, 4], [89, 5]], [[88, 6]], [[0, 0]], [[1, 137], [1, 138], [1, 139], [1, 140]], [[2, 68], [2, 69], [2, 70], [2, 71]], [[3, 40], [3, 41], [3, 42], [3, 43], [3, 44]], [[0, 0]], [[0, 0]], [[0, 0]], [[7, 66]], [[0, 0]], [[9, 13], [9, 14]], [[10, 16], [10, 17], [10, 18], [10, 19], [10, 20], [10, 21]], [[89, 1], [89, 2], [89, 3], [89, 4]], [[88, 5]], [[0, 186], [0, 187], [0, 188], [0, 189]], [[1, 181], [1, 182], [1, 183], [1, 184]], [[0, 0]], [[3, 40], [3, 41]], [[4, 118], [4, 119], [4, 120]], [[5, 125], [5, 126], [5, 127], [5, 128], [5, 129], [5, 130], [5, 131], [5, 132], [5, 133], [5, 134]], [[6, 80], [6, 81], [6, 82]], [[7, 122]], [[0, 0]], [[9, 33], [9, 34], [9, 35]], [[10, 42], [10, 43], [10, 44], [10, 45], [10, 46]], [[89, 6], [89, 7]], [[88, 8]], [[0, 147], [0, 148]], [[1, 150], [1, 151], [1, 152]], [[0, 0]], [[3, 40], [3, 41], [3, 42], [3, 43]], [[4, 57], [4, 58], [4, 59]], [[0, 0]], [[6, 85], [6, 86], [6, 87]], [[7, 63], [7, 64], [7, 65], [7, 66]], [[0, 0]], [[9, 25], [9, 26]], [[10, 45], [10, 46], [10, 47], [10, 48], [10, 49]], [[89, 1], [89, 2]], [[88, 3]], 0, 0, 0, 0, 0, 0, 0, 0, 0, 0, 0, 0, 0, 0, 0, 0, 0, 0, 0, 0, 0, 0, 0, 0, 0, 0, 0, 0, 0, 0, 0, 0, 0, 0, 0, 0, 0, 0, 0, 0, 0, 0, 0, 0, 0, 0, 0, 0]\n",
      "row_idx 52 [[[0, 181], [0, 182], [0, 183], [0, 184], [0, 185], [0, 186], [0, 187]], [[1, 174], [1, 175], [1, 176], [1, 177], [1, 178]], [[2, 49], [2, 50]], [[3, 43]], [[4, 52], [4, 53], [4, 54], [4, 55], [4, 56], [4, 57], [4, 58], [4, 59], [4, 60]], [[0, 0]], [[6, 100], [6, 101], [6, 102], [6, 103]], [[0, 0]], [[0, 0]], [[9, 24], [9, 25], [9, 26], [9, 27]], [[10, 15], [10, 16], [10, 17], [10, 18], [10, 19]], [[89, 4], [89, 5]], [[88, 6]], [[0, 0]], [[1, 137], [1, 138], [1, 139], [1, 140]], [[2, 68], [2, 69], [2, 70], [2, 71]], [[3, 40], [3, 41], [3, 42], [3, 43], [3, 44]], [[0, 0]], [[0, 0]], [[0, 0]], [[7, 66]], [[0, 0]], [[9, 13], [9, 14]], [[10, 16], [10, 17], [10, 18], [10, 19], [10, 20], [10, 21]], [[89, 1], [89, 2], [89, 3], [89, 4]], [[88, 5]], [[0, 186], [0, 187], [0, 188], [0, 189]], [[1, 181], [1, 182], [1, 183], [1, 184]], [[0, 0]], [[3, 40], [3, 41]], [[4, 118], [4, 119], [4, 120]], [[5, 125], [5, 126], [5, 127], [5, 128], [5, 129], [5, 130], [5, 131], [5, 132], [5, 133], [5, 134]], [[6, 80], [6, 81], [6, 82]], [[7, 122]], [[0, 0]], [[9, 33], [9, 34], [9, 35]], [[10, 42], [10, 43], [10, 44], [10, 45], [10, 46]], [[89, 6], [89, 7]], [[88, 8]], [[0, 147], [0, 148]], [[1, 150], [1, 151], [1, 152]], [[0, 0]], [[3, 40], [3, 41], [3, 42], [3, 43]], [[4, 57], [4, 58], [4, 59]], [[0, 0]], [[6, 85], [6, 86], [6, 87]], [[7, 63], [7, 64], [7, 65], [7, 66]], [[0, 0]], [[9, 25], [9, 26]], [[10, 45], [10, 46], [10, 47], [10, 48], [10, 49]], [[89, 1], [89, 2]], [[88, 3]], [[0, 183], [0, 184], [0, 185]], 0, 0, 0, 0, 0, 0, 0, 0, 0, 0, 0, 0, 0, 0, 0, 0, 0, 0, 0, 0, 0, 0, 0, 0, 0, 0, 0, 0, 0, 0, 0, 0, 0, 0, 0, 0, 0, 0, 0, 0, 0, 0, 0, 0, 0, 0, 0]\n",
      "row_idx 53 [[[0, 181], [0, 182], [0, 183], [0, 184], [0, 185], [0, 186], [0, 187]], [[1, 174], [1, 175], [1, 176], [1, 177], [1, 178]], [[2, 49], [2, 50]], [[3, 43]], [[4, 52], [4, 53], [4, 54], [4, 55], [4, 56], [4, 57], [4, 58], [4, 59], [4, 60]], [[0, 0]], [[6, 100], [6, 101], [6, 102], [6, 103]], [[0, 0]], [[0, 0]], [[9, 24], [9, 25], [9, 26], [9, 27]], [[10, 15], [10, 16], [10, 17], [10, 18], [10, 19]], [[89, 4], [89, 5]], [[88, 6]], [[0, 0]], [[1, 137], [1, 138], [1, 139], [1, 140]], [[2, 68], [2, 69], [2, 70], [2, 71]], [[3, 40], [3, 41], [3, 42], [3, 43], [3, 44]], [[0, 0]], [[0, 0]], [[0, 0]], [[7, 66]], [[0, 0]], [[9, 13], [9, 14]], [[10, 16], [10, 17], [10, 18], [10, 19], [10, 20], [10, 21]], [[89, 1], [89, 2], [89, 3], [89, 4]], [[88, 5]], [[0, 186], [0, 187], [0, 188], [0, 189]], [[1, 181], [1, 182], [1, 183], [1, 184]], [[0, 0]], [[3, 40], [3, 41]], [[4, 118], [4, 119], [4, 120]], [[5, 125], [5, 126], [5, 127], [5, 128], [5, 129], [5, 130], [5, 131], [5, 132], [5, 133], [5, 134]], [[6, 80], [6, 81], [6, 82]], [[7, 122]], [[0, 0]], [[9, 33], [9, 34], [9, 35]], [[10, 42], [10, 43], [10, 44], [10, 45], [10, 46]], [[89, 6], [89, 7]], [[88, 8]], [[0, 147], [0, 148]], [[1, 150], [1, 151], [1, 152]], [[0, 0]], [[3, 40], [3, 41], [3, 42], [3, 43]], [[4, 57], [4, 58], [4, 59]], [[0, 0]], [[6, 85], [6, 86], [6, 87]], [[7, 63], [7, 64], [7, 65], [7, 66]], [[0, 0]], [[9, 25], [9, 26]], [[10, 45], [10, 46], [10, 47], [10, 48], [10, 49]], [[89, 1], [89, 2]], [[88, 3]], [[0, 183], [0, 184], [0, 185]], [[1, 178], [1, 179], [1, 180], [1, 181]], 0, 0, 0, 0, 0, 0, 0, 0, 0, 0, 0, 0, 0, 0, 0, 0, 0, 0, 0, 0, 0, 0, 0, 0, 0, 0, 0, 0, 0, 0, 0, 0, 0, 0, 0, 0, 0, 0, 0, 0, 0, 0, 0, 0, 0, 0]\n",
      "row_idx 54 [[[0, 181], [0, 182], [0, 183], [0, 184], [0, 185], [0, 186], [0, 187]], [[1, 174], [1, 175], [1, 176], [1, 177], [1, 178]], [[2, 49], [2, 50]], [[3, 43]], [[4, 52], [4, 53], [4, 54], [4, 55], [4, 56], [4, 57], [4, 58], [4, 59], [4, 60]], [[0, 0]], [[6, 100], [6, 101], [6, 102], [6, 103]], [[0, 0]], [[0, 0]], [[9, 24], [9, 25], [9, 26], [9, 27]], [[10, 15], [10, 16], [10, 17], [10, 18], [10, 19]], [[89, 4], [89, 5]], [[88, 6]], [[0, 0]], [[1, 137], [1, 138], [1, 139], [1, 140]], [[2, 68], [2, 69], [2, 70], [2, 71]], [[3, 40], [3, 41], [3, 42], [3, 43], [3, 44]], [[0, 0]], [[0, 0]], [[0, 0]], [[7, 66]], [[0, 0]], [[9, 13], [9, 14]], [[10, 16], [10, 17], [10, 18], [10, 19], [10, 20], [10, 21]], [[89, 1], [89, 2], [89, 3], [89, 4]], [[88, 5]], [[0, 186], [0, 187], [0, 188], [0, 189]], [[1, 181], [1, 182], [1, 183], [1, 184]], [[0, 0]], [[3, 40], [3, 41]], [[4, 118], [4, 119], [4, 120]], [[5, 125], [5, 126], [5, 127], [5, 128], [5, 129], [5, 130], [5, 131], [5, 132], [5, 133], [5, 134]], [[6, 80], [6, 81], [6, 82]], [[7, 122]], [[0, 0]], [[9, 33], [9, 34], [9, 35]], [[10, 42], [10, 43], [10, 44], [10, 45], [10, 46]], [[89, 6], [89, 7]], [[88, 8]], [[0, 147], [0, 148]], [[1, 150], [1, 151], [1, 152]], [[0, 0]], [[3, 40], [3, 41], [3, 42], [3, 43]], [[4, 57], [4, 58], [4, 59]], [[0, 0]], [[6, 85], [6, 86], [6, 87]], [[7, 63], [7, 64], [7, 65], [7, 66]], [[0, 0]], [[9, 25], [9, 26]], [[10, 45], [10, 46], [10, 47], [10, 48], [10, 49]], [[89, 1], [89, 2]], [[88, 3]], [[0, 183], [0, 184], [0, 185]], [[1, 178], [1, 179], [1, 180], [1, 181]], [[2, 71], [2, 72]], 0, 0, 0, 0, 0, 0, 0, 0, 0, 0, 0, 0, 0, 0, 0, 0, 0, 0, 0, 0, 0, 0, 0, 0, 0, 0, 0, 0, 0, 0, 0, 0, 0, 0, 0, 0, 0, 0, 0, 0, 0, 0, 0, 0, 0]\n",
      "row_idx 55 [[[0, 181], [0, 182], [0, 183], [0, 184], [0, 185], [0, 186], [0, 187]], [[1, 174], [1, 175], [1, 176], [1, 177], [1, 178]], [[2, 49], [2, 50]], [[3, 43]], [[4, 52], [4, 53], [4, 54], [4, 55], [4, 56], [4, 57], [4, 58], [4, 59], [4, 60]], [[0, 0]], [[6, 100], [6, 101], [6, 102], [6, 103]], [[0, 0]], [[0, 0]], [[9, 24], [9, 25], [9, 26], [9, 27]], [[10, 15], [10, 16], [10, 17], [10, 18], [10, 19]], [[89, 4], [89, 5]], [[88, 6]], [[0, 0]], [[1, 137], [1, 138], [1, 139], [1, 140]], [[2, 68], [2, 69], [2, 70], [2, 71]], [[3, 40], [3, 41], [3, 42], [3, 43], [3, 44]], [[0, 0]], [[0, 0]], [[0, 0]], [[7, 66]], [[0, 0]], [[9, 13], [9, 14]], [[10, 16], [10, 17], [10, 18], [10, 19], [10, 20], [10, 21]], [[89, 1], [89, 2], [89, 3], [89, 4]], [[88, 5]], [[0, 186], [0, 187], [0, 188], [0, 189]], [[1, 181], [1, 182], [1, 183], [1, 184]], [[0, 0]], [[3, 40], [3, 41]], [[4, 118], [4, 119], [4, 120]], [[5, 125], [5, 126], [5, 127], [5, 128], [5, 129], [5, 130], [5, 131], [5, 132], [5, 133], [5, 134]], [[6, 80], [6, 81], [6, 82]], [[7, 122]], [[0, 0]], [[9, 33], [9, 34], [9, 35]], [[10, 42], [10, 43], [10, 44], [10, 45], [10, 46]], [[89, 6], [89, 7]], [[88, 8]], [[0, 147], [0, 148]], [[1, 150], [1, 151], [1, 152]], [[0, 0]], [[3, 40], [3, 41], [3, 42], [3, 43]], [[4, 57], [4, 58], [4, 59]], [[0, 0]], [[6, 85], [6, 86], [6, 87]], [[7, 63], [7, 64], [7, 65], [7, 66]], [[0, 0]], [[9, 25], [9, 26]], [[10, 45], [10, 46], [10, 47], [10, 48], [10, 49]], [[89, 1], [89, 2]], [[88, 3]], [[0, 183], [0, 184], [0, 185]], [[1, 178], [1, 179], [1, 180], [1, 181]], [[2, 71], [2, 72]], [[3, 52], [3, 53], [3, 54], [3, 55]], 0, 0, 0, 0, 0, 0, 0, 0, 0, 0, 0, 0, 0, 0, 0, 0, 0, 0, 0, 0, 0, 0, 0, 0, 0, 0, 0, 0, 0, 0, 0, 0, 0, 0, 0, 0, 0, 0, 0, 0, 0, 0, 0, 0]\n",
      "row_idx 56 [[[0, 181], [0, 182], [0, 183], [0, 184], [0, 185], [0, 186], [0, 187]], [[1, 174], [1, 175], [1, 176], [1, 177], [1, 178]], [[2, 49], [2, 50]], [[3, 43]], [[4, 52], [4, 53], [4, 54], [4, 55], [4, 56], [4, 57], [4, 58], [4, 59], [4, 60]], [[0, 0]], [[6, 100], [6, 101], [6, 102], [6, 103]], [[0, 0]], [[0, 0]], [[9, 24], [9, 25], [9, 26], [9, 27]], [[10, 15], [10, 16], [10, 17], [10, 18], [10, 19]], [[89, 4], [89, 5]], [[88, 6]], [[0, 0]], [[1, 137], [1, 138], [1, 139], [1, 140]], [[2, 68], [2, 69], [2, 70], [2, 71]], [[3, 40], [3, 41], [3, 42], [3, 43], [3, 44]], [[0, 0]], [[0, 0]], [[0, 0]], [[7, 66]], [[0, 0]], [[9, 13], [9, 14]], [[10, 16], [10, 17], [10, 18], [10, 19], [10, 20], [10, 21]], [[89, 1], [89, 2], [89, 3], [89, 4]], [[88, 5]], [[0, 186], [0, 187], [0, 188], [0, 189]], [[1, 181], [1, 182], [1, 183], [1, 184]], [[0, 0]], [[3, 40], [3, 41]], [[4, 118], [4, 119], [4, 120]], [[5, 125], [5, 126], [5, 127], [5, 128], [5, 129], [5, 130], [5, 131], [5, 132], [5, 133], [5, 134]], [[6, 80], [6, 81], [6, 82]], [[7, 122]], [[0, 0]], [[9, 33], [9, 34], [9, 35]], [[10, 42], [10, 43], [10, 44], [10, 45], [10, 46]], [[89, 6], [89, 7]], [[88, 8]], [[0, 147], [0, 148]], [[1, 150], [1, 151], [1, 152]], [[0, 0]], [[3, 40], [3, 41], [3, 42], [3, 43]], [[4, 57], [4, 58], [4, 59]], [[0, 0]], [[6, 85], [6, 86], [6, 87]], [[7, 63], [7, 64], [7, 65], [7, 66]], [[0, 0]], [[9, 25], [9, 26]], [[10, 45], [10, 46], [10, 47], [10, 48], [10, 49]], [[89, 1], [89, 2]], [[88, 3]], [[0, 183], [0, 184], [0, 185]], [[1, 178], [1, 179], [1, 180], [1, 181]], [[2, 71], [2, 72]], [[3, 52], [3, 53], [3, 54], [3, 55]], [[4, 67], [4, 68], [4, 69]], 0, 0, 0, 0, 0, 0, 0, 0, 0, 0, 0, 0, 0, 0, 0, 0, 0, 0, 0, 0, 0, 0, 0, 0, 0, 0, 0, 0, 0, 0, 0, 0, 0, 0, 0, 0, 0, 0, 0, 0, 0, 0, 0]\n",
      "row_idx 58 [[[0, 181], [0, 182], [0, 183], [0, 184], [0, 185], [0, 186], [0, 187]], [[1, 174], [1, 175], [1, 176], [1, 177], [1, 178]], [[2, 49], [2, 50]], [[3, 43]], [[4, 52], [4, 53], [4, 54], [4, 55], [4, 56], [4, 57], [4, 58], [4, 59], [4, 60]], [[0, 0]], [[6, 100], [6, 101], [6, 102], [6, 103]], [[0, 0]], [[0, 0]], [[9, 24], [9, 25], [9, 26], [9, 27]], [[10, 15], [10, 16], [10, 17], [10, 18], [10, 19]], [[89, 4], [89, 5]], [[88, 6]], [[0, 0]], [[1, 137], [1, 138], [1, 139], [1, 140]], [[2, 68], [2, 69], [2, 70], [2, 71]], [[3, 40], [3, 41], [3, 42], [3, 43], [3, 44]], [[0, 0]], [[0, 0]], [[0, 0]], [[7, 66]], [[0, 0]], [[9, 13], [9, 14]], [[10, 16], [10, 17], [10, 18], [10, 19], [10, 20], [10, 21]], [[89, 1], [89, 2], [89, 3], [89, 4]], [[88, 5]], [[0, 186], [0, 187], [0, 188], [0, 189]], [[1, 181], [1, 182], [1, 183], [1, 184]], [[0, 0]], [[3, 40], [3, 41]], [[4, 118], [4, 119], [4, 120]], [[5, 125], [5, 126], [5, 127], [5, 128], [5, 129], [5, 130], [5, 131], [5, 132], [5, 133], [5, 134]], [[6, 80], [6, 81], [6, 82]], [[7, 122]], [[0, 0]], [[9, 33], [9, 34], [9, 35]], [[10, 42], [10, 43], [10, 44], [10, 45], [10, 46]], [[89, 6], [89, 7]], [[88, 8]], [[0, 147], [0, 148]], [[1, 150], [1, 151], [1, 152]], [[0, 0]], [[3, 40], [3, 41], [3, 42], [3, 43]], [[4, 57], [4, 58], [4, 59]], [[0, 0]], [[6, 85], [6, 86], [6, 87]], [[7, 63], [7, 64], [7, 65], [7, 66]], [[0, 0]], [[9, 25], [9, 26]], [[10, 45], [10, 46], [10, 47], [10, 48], [10, 49]], [[89, 1], [89, 2]], [[88, 3]], [[0, 183], [0, 184], [0, 185]], [[1, 178], [1, 179], [1, 180], [1, 181]], [[2, 71], [2, 72]], [[3, 52], [3, 53], [3, 54], [3, 55]], [[4, 67], [4, 68], [4, 69]], [[0, 0]], [[6, 143], [6, 144], [6, 145]], 0, 0, 0, 0, 0, 0, 0, 0, 0, 0, 0, 0, 0, 0, 0, 0, 0, 0, 0, 0, 0, 0, 0, 0, 0, 0, 0, 0, 0, 0, 0, 0, 0, 0, 0, 0, 0, 0, 0, 0, 0]\n",
      "row_idx 61 [[[0, 181], [0, 182], [0, 183], [0, 184], [0, 185], [0, 186], [0, 187]], [[1, 174], [1, 175], [1, 176], [1, 177], [1, 178]], [[2, 49], [2, 50]], [[3, 43]], [[4, 52], [4, 53], [4, 54], [4, 55], [4, 56], [4, 57], [4, 58], [4, 59], [4, 60]], [[0, 0]], [[6, 100], [6, 101], [6, 102], [6, 103]], [[0, 0]], [[0, 0]], [[9, 24], [9, 25], [9, 26], [9, 27]], [[10, 15], [10, 16], [10, 17], [10, 18], [10, 19]], [[89, 4], [89, 5]], [[88, 6]], [[0, 0]], [[1, 137], [1, 138], [1, 139], [1, 140]], [[2, 68], [2, 69], [2, 70], [2, 71]], [[3, 40], [3, 41], [3, 42], [3, 43], [3, 44]], [[0, 0]], [[0, 0]], [[0, 0]], [[7, 66]], [[0, 0]], [[9, 13], [9, 14]], [[10, 16], [10, 17], [10, 18], [10, 19], [10, 20], [10, 21]], [[89, 1], [89, 2], [89, 3], [89, 4]], [[88, 5]], [[0, 186], [0, 187], [0, 188], [0, 189]], [[1, 181], [1, 182], [1, 183], [1, 184]], [[0, 0]], [[3, 40], [3, 41]], [[4, 118], [4, 119], [4, 120]], [[5, 125], [5, 126], [5, 127], [5, 128], [5, 129], [5, 130], [5, 131], [5, 132], [5, 133], [5, 134]], [[6, 80], [6, 81], [6, 82]], [[7, 122]], [[0, 0]], [[9, 33], [9, 34], [9, 35]], [[10, 42], [10, 43], [10, 44], [10, 45], [10, 46]], [[89, 6], [89, 7]], [[88, 8]], [[0, 147], [0, 148]], [[1, 150], [1, 151], [1, 152]], [[0, 0]], [[3, 40], [3, 41], [3, 42], [3, 43]], [[4, 57], [4, 58], [4, 59]], [[0, 0]], [[6, 85], [6, 86], [6, 87]], [[7, 63], [7, 64], [7, 65], [7, 66]], [[0, 0]], [[9, 25], [9, 26]], [[10, 45], [10, 46], [10, 47], [10, 48], [10, 49]], [[89, 1], [89, 2]], [[88, 3]], [[0, 183], [0, 184], [0, 185]], [[1, 178], [1, 179], [1, 180], [1, 181]], [[2, 71], [2, 72]], [[3, 52], [3, 53], [3, 54], [3, 55]], [[4, 67], [4, 68], [4, 69]], [[0, 0]], [[6, 143], [6, 144], [6, 145]], [[0, 0]], [[0, 0]], [[9, 18], [9, 19]], 0, 0, 0, 0, 0, 0, 0, 0, 0, 0, 0, 0, 0, 0, 0, 0, 0, 0, 0, 0, 0, 0, 0, 0, 0, 0, 0, 0, 0, 0, 0, 0, 0, 0, 0, 0, 0, 0]\n",
      "row_idx 62 [[[0, 181], [0, 182], [0, 183], [0, 184], [0, 185], [0, 186], [0, 187]], [[1, 174], [1, 175], [1, 176], [1, 177], [1, 178]], [[2, 49], [2, 50]], [[3, 43]], [[4, 52], [4, 53], [4, 54], [4, 55], [4, 56], [4, 57], [4, 58], [4, 59], [4, 60]], [[0, 0]], [[6, 100], [6, 101], [6, 102], [6, 103]], [[0, 0]], [[0, 0]], [[9, 24], [9, 25], [9, 26], [9, 27]], [[10, 15], [10, 16], [10, 17], [10, 18], [10, 19]], [[89, 4], [89, 5]], [[88, 6]], [[0, 0]], [[1, 137], [1, 138], [1, 139], [1, 140]], [[2, 68], [2, 69], [2, 70], [2, 71]], [[3, 40], [3, 41], [3, 42], [3, 43], [3, 44]], [[0, 0]], [[0, 0]], [[0, 0]], [[7, 66]], [[0, 0]], [[9, 13], [9, 14]], [[10, 16], [10, 17], [10, 18], [10, 19], [10, 20], [10, 21]], [[89, 1], [89, 2], [89, 3], [89, 4]], [[88, 5]], [[0, 186], [0, 187], [0, 188], [0, 189]], [[1, 181], [1, 182], [1, 183], [1, 184]], [[0, 0]], [[3, 40], [3, 41]], [[4, 118], [4, 119], [4, 120]], [[5, 125], [5, 126], [5, 127], [5, 128], [5, 129], [5, 130], [5, 131], [5, 132], [5, 133], [5, 134]], [[6, 80], [6, 81], [6, 82]], [[7, 122]], [[0, 0]], [[9, 33], [9, 34], [9, 35]], [[10, 42], [10, 43], [10, 44], [10, 45], [10, 46]], [[89, 6], [89, 7]], [[88, 8]], [[0, 147], [0, 148]], [[1, 150], [1, 151], [1, 152]], [[0, 0]], [[3, 40], [3, 41], [3, 42], [3, 43]], [[4, 57], [4, 58], [4, 59]], [[0, 0]], [[6, 85], [6, 86], [6, 87]], [[7, 63], [7, 64], [7, 65], [7, 66]], [[0, 0]], [[9, 25], [9, 26]], [[10, 45], [10, 46], [10, 47], [10, 48], [10, 49]], [[89, 1], [89, 2]], [[88, 3]], [[0, 183], [0, 184], [0, 185]], [[1, 178], [1, 179], [1, 180], [1, 181]], [[2, 71], [2, 72]], [[3, 52], [3, 53], [3, 54], [3, 55]], [[4, 67], [4, 68], [4, 69]], [[0, 0]], [[6, 143], [6, 144], [6, 145]], [[0, 0]], [[0, 0]], [[9, 18], [9, 19]], [[10, 22], [10, 23], [10, 24], [10, 25]], 0, 0, 0, 0, 0, 0, 0, 0, 0, 0, 0, 0, 0, 0, 0, 0, 0, 0, 0, 0, 0, 0, 0, 0, 0, 0, 0, 0, 0, 0, 0, 0, 0, 0, 0, 0, 0]\n",
      "row_idx 63 [[[0, 181], [0, 182], [0, 183], [0, 184], [0, 185], [0, 186], [0, 187]], [[1, 174], [1, 175], [1, 176], [1, 177], [1, 178]], [[2, 49], [2, 50]], [[3, 43]], [[4, 52], [4, 53], [4, 54], [4, 55], [4, 56], [4, 57], [4, 58], [4, 59], [4, 60]], [[0, 0]], [[6, 100], [6, 101], [6, 102], [6, 103]], [[0, 0]], [[0, 0]], [[9, 24], [9, 25], [9, 26], [9, 27]], [[10, 15], [10, 16], [10, 17], [10, 18], [10, 19]], [[89, 4], [89, 5]], [[88, 6]], [[0, 0]], [[1, 137], [1, 138], [1, 139], [1, 140]], [[2, 68], [2, 69], [2, 70], [2, 71]], [[3, 40], [3, 41], [3, 42], [3, 43], [3, 44]], [[0, 0]], [[0, 0]], [[0, 0]], [[7, 66]], [[0, 0]], [[9, 13], [9, 14]], [[10, 16], [10, 17], [10, 18], [10, 19], [10, 20], [10, 21]], [[89, 1], [89, 2], [89, 3], [89, 4]], [[88, 5]], [[0, 186], [0, 187], [0, 188], [0, 189]], [[1, 181], [1, 182], [1, 183], [1, 184]], [[0, 0]], [[3, 40], [3, 41]], [[4, 118], [4, 119], [4, 120]], [[5, 125], [5, 126], [5, 127], [5, 128], [5, 129], [5, 130], [5, 131], [5, 132], [5, 133], [5, 134]], [[6, 80], [6, 81], [6, 82]], [[7, 122]], [[0, 0]], [[9, 33], [9, 34], [9, 35]], [[10, 42], [10, 43], [10, 44], [10, 45], [10, 46]], [[89, 6], [89, 7]], [[88, 8]], [[0, 147], [0, 148]], [[1, 150], [1, 151], [1, 152]], [[0, 0]], [[3, 40], [3, 41], [3, 42], [3, 43]], [[4, 57], [4, 58], [4, 59]], [[0, 0]], [[6, 85], [6, 86], [6, 87]], [[7, 63], [7, 64], [7, 65], [7, 66]], [[0, 0]], [[9, 25], [9, 26]], [[10, 45], [10, 46], [10, 47], [10, 48], [10, 49]], [[89, 1], [89, 2]], [[88, 3]], [[0, 183], [0, 184], [0, 185]], [[1, 178], [1, 179], [1, 180], [1, 181]], [[2, 71], [2, 72]], [[3, 52], [3, 53], [3, 54], [3, 55]], [[4, 67], [4, 68], [4, 69]], [[0, 0]], [[6, 143], [6, 144], [6, 145]], [[0, 0]], [[0, 0]], [[9, 18], [9, 19]], [[10, 22], [10, 23], [10, 24], [10, 25]], [[89, 10], [89, 11], [89, 12]], 0, 0, 0, 0, 0, 0, 0, 0, 0, 0, 0, 0, 0, 0, 0, 0, 0, 0, 0, 0, 0, 0, 0, 0, 0, 0, 0, 0, 0, 0, 0, 0, 0, 0, 0, 0]\n",
      "row_idx 64 [[[0, 181], [0, 182], [0, 183], [0, 184], [0, 185], [0, 186], [0, 187]], [[1, 174], [1, 175], [1, 176], [1, 177], [1, 178]], [[2, 49], [2, 50]], [[3, 43]], [[4, 52], [4, 53], [4, 54], [4, 55], [4, 56], [4, 57], [4, 58], [4, 59], [4, 60]], [[0, 0]], [[6, 100], [6, 101], [6, 102], [6, 103]], [[0, 0]], [[0, 0]], [[9, 24], [9, 25], [9, 26], [9, 27]], [[10, 15], [10, 16], [10, 17], [10, 18], [10, 19]], [[89, 4], [89, 5]], [[88, 6]], [[0, 0]], [[1, 137], [1, 138], [1, 139], [1, 140]], [[2, 68], [2, 69], [2, 70], [2, 71]], [[3, 40], [3, 41], [3, 42], [3, 43], [3, 44]], [[0, 0]], [[0, 0]], [[0, 0]], [[7, 66]], [[0, 0]], [[9, 13], [9, 14]], [[10, 16], [10, 17], [10, 18], [10, 19], [10, 20], [10, 21]], [[89, 1], [89, 2], [89, 3], [89, 4]], [[88, 5]], [[0, 186], [0, 187], [0, 188], [0, 189]], [[1, 181], [1, 182], [1, 183], [1, 184]], [[0, 0]], [[3, 40], [3, 41]], [[4, 118], [4, 119], [4, 120]], [[5, 125], [5, 126], [5, 127], [5, 128], [5, 129], [5, 130], [5, 131], [5, 132], [5, 133], [5, 134]], [[6, 80], [6, 81], [6, 82]], [[7, 122]], [[0, 0]], [[9, 33], [9, 34], [9, 35]], [[10, 42], [10, 43], [10, 44], [10, 45], [10, 46]], [[89, 6], [89, 7]], [[88, 8]], [[0, 147], [0, 148]], [[1, 150], [1, 151], [1, 152]], [[0, 0]], [[3, 40], [3, 41], [3, 42], [3, 43]], [[4, 57], [4, 58], [4, 59]], [[0, 0]], [[6, 85], [6, 86], [6, 87]], [[7, 63], [7, 64], [7, 65], [7, 66]], [[0, 0]], [[9, 25], [9, 26]], [[10, 45], [10, 46], [10, 47], [10, 48], [10, 49]], [[89, 1], [89, 2]], [[88, 3]], [[0, 183], [0, 184], [0, 185]], [[1, 178], [1, 179], [1, 180], [1, 181]], [[2, 71], [2, 72]], [[3, 52], [3, 53], [3, 54], [3, 55]], [[4, 67], [4, 68], [4, 69]], [[0, 0]], [[6, 143], [6, 144], [6, 145]], [[0, 0]], [[0, 0]], [[9, 18], [9, 19]], [[10, 22], [10, 23], [10, 24], [10, 25]], [[89, 10], [89, 11], [89, 12]], [[88, 13]], 0, 0, 0, 0, 0, 0, 0, 0, 0, 0, 0, 0, 0, 0, 0, 0, 0, 0, 0, 0, 0, 0, 0, 0, 0, 0, 0, 0, 0, 0, 0, 0, 0, 0, 0]\n",
      "row_idx 65 [[[0, 181], [0, 182], [0, 183], [0, 184], [0, 185], [0, 186], [0, 187]], [[1, 174], [1, 175], [1, 176], [1, 177], [1, 178]], [[2, 49], [2, 50]], [[3, 43]], [[4, 52], [4, 53], [4, 54], [4, 55], [4, 56], [4, 57], [4, 58], [4, 59], [4, 60]], [[0, 0]], [[6, 100], [6, 101], [6, 102], [6, 103]], [[0, 0]], [[0, 0]], [[9, 24], [9, 25], [9, 26], [9, 27]], [[10, 15], [10, 16], [10, 17], [10, 18], [10, 19]], [[89, 4], [89, 5]], [[88, 6]], [[0, 0]], [[1, 137], [1, 138], [1, 139], [1, 140]], [[2, 68], [2, 69], [2, 70], [2, 71]], [[3, 40], [3, 41], [3, 42], [3, 43], [3, 44]], [[0, 0]], [[0, 0]], [[0, 0]], [[7, 66]], [[0, 0]], [[9, 13], [9, 14]], [[10, 16], [10, 17], [10, 18], [10, 19], [10, 20], [10, 21]], [[89, 1], [89, 2], [89, 3], [89, 4]], [[88, 5]], [[0, 186], [0, 187], [0, 188], [0, 189]], [[1, 181], [1, 182], [1, 183], [1, 184]], [[0, 0]], [[3, 40], [3, 41]], [[4, 118], [4, 119], [4, 120]], [[5, 125], [5, 126], [5, 127], [5, 128], [5, 129], [5, 130], [5, 131], [5, 132], [5, 133], [5, 134]], [[6, 80], [6, 81], [6, 82]], [[7, 122]], [[0, 0]], [[9, 33], [9, 34], [9, 35]], [[10, 42], [10, 43], [10, 44], [10, 45], [10, 46]], [[89, 6], [89, 7]], [[88, 8]], [[0, 147], [0, 148]], [[1, 150], [1, 151], [1, 152]], [[0, 0]], [[3, 40], [3, 41], [3, 42], [3, 43]], [[4, 57], [4, 58], [4, 59]], [[0, 0]], [[6, 85], [6, 86], [6, 87]], [[7, 63], [7, 64], [7, 65], [7, 66]], [[0, 0]], [[9, 25], [9, 26]], [[10, 45], [10, 46], [10, 47], [10, 48], [10, 49]], [[89, 1], [89, 2]], [[88, 3]], [[0, 183], [0, 184], [0, 185]], [[1, 178], [1, 179], [1, 180], [1, 181]], [[2, 71], [2, 72]], [[3, 52], [3, 53], [3, 54], [3, 55]], [[4, 67], [4, 68], [4, 69]], [[0, 0]], [[6, 143], [6, 144], [6, 145]], [[0, 0]], [[0, 0]], [[9, 18], [9, 19]], [[10, 22], [10, 23], [10, 24], [10, 25]], [[89, 10], [89, 11], [89, 12]], [[88, 13]], [[0, 171], [0, 172], [0, 173], [0, 174]], 0, 0, 0, 0, 0, 0, 0, 0, 0, 0, 0, 0, 0, 0, 0, 0, 0, 0, 0, 0, 0, 0, 0, 0, 0, 0, 0, 0, 0, 0, 0, 0, 0, 0]\n",
      "row_idx 66 [[[0, 181], [0, 182], [0, 183], [0, 184], [0, 185], [0, 186], [0, 187]], [[1, 174], [1, 175], [1, 176], [1, 177], [1, 178]], [[2, 49], [2, 50]], [[3, 43]], [[4, 52], [4, 53], [4, 54], [4, 55], [4, 56], [4, 57], [4, 58], [4, 59], [4, 60]], [[0, 0]], [[6, 100], [6, 101], [6, 102], [6, 103]], [[0, 0]], [[0, 0]], [[9, 24], [9, 25], [9, 26], [9, 27]], [[10, 15], [10, 16], [10, 17], [10, 18], [10, 19]], [[89, 4], [89, 5]], [[88, 6]], [[0, 0]], [[1, 137], [1, 138], [1, 139], [1, 140]], [[2, 68], [2, 69], [2, 70], [2, 71]], [[3, 40], [3, 41], [3, 42], [3, 43], [3, 44]], [[0, 0]], [[0, 0]], [[0, 0]], [[7, 66]], [[0, 0]], [[9, 13], [9, 14]], [[10, 16], [10, 17], [10, 18], [10, 19], [10, 20], [10, 21]], [[89, 1], [89, 2], [89, 3], [89, 4]], [[88, 5]], [[0, 186], [0, 187], [0, 188], [0, 189]], [[1, 181], [1, 182], [1, 183], [1, 184]], [[0, 0]], [[3, 40], [3, 41]], [[4, 118], [4, 119], [4, 120]], [[5, 125], [5, 126], [5, 127], [5, 128], [5, 129], [5, 130], [5, 131], [5, 132], [5, 133], [5, 134]], [[6, 80], [6, 81], [6, 82]], [[7, 122]], [[0, 0]], [[9, 33], [9, 34], [9, 35]], [[10, 42], [10, 43], [10, 44], [10, 45], [10, 46]], [[89, 6], [89, 7]], [[88, 8]], [[0, 147], [0, 148]], [[1, 150], [1, 151], [1, 152]], [[0, 0]], [[3, 40], [3, 41], [3, 42], [3, 43]], [[4, 57], [4, 58], [4, 59]], [[0, 0]], [[6, 85], [6, 86], [6, 87]], [[7, 63], [7, 64], [7, 65], [7, 66]], [[0, 0]], [[9, 25], [9, 26]], [[10, 45], [10, 46], [10, 47], [10, 48], [10, 49]], [[89, 1], [89, 2]], [[88, 3]], [[0, 183], [0, 184], [0, 185]], [[1, 178], [1, 179], [1, 180], [1, 181]], [[2, 71], [2, 72]], [[3, 52], [3, 53], [3, 54], [3, 55]], [[4, 67], [4, 68], [4, 69]], [[0, 0]], [[6, 143], [6, 144], [6, 145]], [[0, 0]], [[0, 0]], [[9, 18], [9, 19]], [[10, 22], [10, 23], [10, 24], [10, 25]], [[89, 10], [89, 11], [89, 12]], [[88, 13]], [[0, 171], [0, 172], [0, 173], [0, 174]], [[1, 166], [1, 167], [1, 168], [1, 169]], 0, 0, 0, 0, 0, 0, 0, 0, 0, 0, 0, 0, 0, 0, 0, 0, 0, 0, 0, 0, 0, 0, 0, 0, 0, 0, 0, 0, 0, 0, 0, 0, 0]\n",
      "row_idx 67 [[[0, 181], [0, 182], [0, 183], [0, 184], [0, 185], [0, 186], [0, 187]], [[1, 174], [1, 175], [1, 176], [1, 177], [1, 178]], [[2, 49], [2, 50]], [[3, 43]], [[4, 52], [4, 53], [4, 54], [4, 55], [4, 56], [4, 57], [4, 58], [4, 59], [4, 60]], [[0, 0]], [[6, 100], [6, 101], [6, 102], [6, 103]], [[0, 0]], [[0, 0]], [[9, 24], [9, 25], [9, 26], [9, 27]], [[10, 15], [10, 16], [10, 17], [10, 18], [10, 19]], [[89, 4], [89, 5]], [[88, 6]], [[0, 0]], [[1, 137], [1, 138], [1, 139], [1, 140]], [[2, 68], [2, 69], [2, 70], [2, 71]], [[3, 40], [3, 41], [3, 42], [3, 43], [3, 44]], [[0, 0]], [[0, 0]], [[0, 0]], [[7, 66]], [[0, 0]], [[9, 13], [9, 14]], [[10, 16], [10, 17], [10, 18], [10, 19], [10, 20], [10, 21]], [[89, 1], [89, 2], [89, 3], [89, 4]], [[88, 5]], [[0, 186], [0, 187], [0, 188], [0, 189]], [[1, 181], [1, 182], [1, 183], [1, 184]], [[0, 0]], [[3, 40], [3, 41]], [[4, 118], [4, 119], [4, 120]], [[5, 125], [5, 126], [5, 127], [5, 128], [5, 129], [5, 130], [5, 131], [5, 132], [5, 133], [5, 134]], [[6, 80], [6, 81], [6, 82]], [[7, 122]], [[0, 0]], [[9, 33], [9, 34], [9, 35]], [[10, 42], [10, 43], [10, 44], [10, 45], [10, 46]], [[89, 6], [89, 7]], [[88, 8]], [[0, 147], [0, 148]], [[1, 150], [1, 151], [1, 152]], [[0, 0]], [[3, 40], [3, 41], [3, 42], [3, 43]], [[4, 57], [4, 58], [4, 59]], [[0, 0]], [[6, 85], [6, 86], [6, 87]], [[7, 63], [7, 64], [7, 65], [7, 66]], [[0, 0]], [[9, 25], [9, 26]], [[10, 45], [10, 46], [10, 47], [10, 48], [10, 49]], [[89, 1], [89, 2]], [[88, 3]], [[0, 183], [0, 184], [0, 185]], [[1, 178], [1, 179], [1, 180], [1, 181]], [[2, 71], [2, 72]], [[3, 52], [3, 53], [3, 54], [3, 55]], [[4, 67], [4, 68], [4, 69]], [[0, 0]], [[6, 143], [6, 144], [6, 145]], [[0, 0]], [[0, 0]], [[9, 18], [9, 19]], [[10, 22], [10, 23], [10, 24], [10, 25]], [[89, 10], [89, 11], [89, 12]], [[88, 13]], [[0, 171], [0, 172], [0, 173], [0, 174]], [[1, 166], [1, 167], [1, 168], [1, 169]], [[2, 68], [2, 69], [2, 70]], 0, 0, 0, 0, 0, 0, 0, 0, 0, 0, 0, 0, 0, 0, 0, 0, 0, 0, 0, 0, 0, 0, 0, 0, 0, 0, 0, 0, 0, 0, 0, 0]\n",
      "row_idx 68 [[[0, 181], [0, 182], [0, 183], [0, 184], [0, 185], [0, 186], [0, 187]], [[1, 174], [1, 175], [1, 176], [1, 177], [1, 178]], [[2, 49], [2, 50]], [[3, 43]], [[4, 52], [4, 53], [4, 54], [4, 55], [4, 56], [4, 57], [4, 58], [4, 59], [4, 60]], [[0, 0]], [[6, 100], [6, 101], [6, 102], [6, 103]], [[0, 0]], [[0, 0]], [[9, 24], [9, 25], [9, 26], [9, 27]], [[10, 15], [10, 16], [10, 17], [10, 18], [10, 19]], [[89, 4], [89, 5]], [[88, 6]], [[0, 0]], [[1, 137], [1, 138], [1, 139], [1, 140]], [[2, 68], [2, 69], [2, 70], [2, 71]], [[3, 40], [3, 41], [3, 42], [3, 43], [3, 44]], [[0, 0]], [[0, 0]], [[0, 0]], [[7, 66]], [[0, 0]], [[9, 13], [9, 14]], [[10, 16], [10, 17], [10, 18], [10, 19], [10, 20], [10, 21]], [[89, 1], [89, 2], [89, 3], [89, 4]], [[88, 5]], [[0, 186], [0, 187], [0, 188], [0, 189]], [[1, 181], [1, 182], [1, 183], [1, 184]], [[0, 0]], [[3, 40], [3, 41]], [[4, 118], [4, 119], [4, 120]], [[5, 125], [5, 126], [5, 127], [5, 128], [5, 129], [5, 130], [5, 131], [5, 132], [5, 133], [5, 134]], [[6, 80], [6, 81], [6, 82]], [[7, 122]], [[0, 0]], [[9, 33], [9, 34], [9, 35]], [[10, 42], [10, 43], [10, 44], [10, 45], [10, 46]], [[89, 6], [89, 7]], [[88, 8]], [[0, 147], [0, 148]], [[1, 150], [1, 151], [1, 152]], [[0, 0]], [[3, 40], [3, 41], [3, 42], [3, 43]], [[4, 57], [4, 58], [4, 59]], [[0, 0]], [[6, 85], [6, 86], [6, 87]], [[7, 63], [7, 64], [7, 65], [7, 66]], [[0, 0]], [[9, 25], [9, 26]], [[10, 45], [10, 46], [10, 47], [10, 48], [10, 49]], [[89, 1], [89, 2]], [[88, 3]], [[0, 183], [0, 184], [0, 185]], [[1, 178], [1, 179], [1, 180], [1, 181]], [[2, 71], [2, 72]], [[3, 52], [3, 53], [3, 54], [3, 55]], [[4, 67], [4, 68], [4, 69]], [[0, 0]], [[6, 143], [6, 144], [6, 145]], [[0, 0]], [[0, 0]], [[9, 18], [9, 19]], [[10, 22], [10, 23], [10, 24], [10, 25]], [[89, 10], [89, 11], [89, 12]], [[88, 13]], [[0, 171], [0, 172], [0, 173], [0, 174]], [[1, 166], [1, 167], [1, 168], [1, 169]], [[2, 68], [2, 69], [2, 70]], [[3, 44], [3, 45], [3, 46], [3, 47]], 0, 0, 0, 0, 0, 0, 0, 0, 0, 0, 0, 0, 0, 0, 0, 0, 0, 0, 0, 0, 0, 0, 0, 0, 0, 0, 0, 0, 0, 0, 0]\n",
      "row_idx 72 [[[0, 181], [0, 182], [0, 183], [0, 184], [0, 185], [0, 186], [0, 187]], [[1, 174], [1, 175], [1, 176], [1, 177], [1, 178]], [[2, 49], [2, 50]], [[3, 43]], [[4, 52], [4, 53], [4, 54], [4, 55], [4, 56], [4, 57], [4, 58], [4, 59], [4, 60]], [[0, 0]], [[6, 100], [6, 101], [6, 102], [6, 103]], [[0, 0]], [[0, 0]], [[9, 24], [9, 25], [9, 26], [9, 27]], [[10, 15], [10, 16], [10, 17], [10, 18], [10, 19]], [[89, 4], [89, 5]], [[88, 6]], [[0, 0]], [[1, 137], [1, 138], [1, 139], [1, 140]], [[2, 68], [2, 69], [2, 70], [2, 71]], [[3, 40], [3, 41], [3, 42], [3, 43], [3, 44]], [[0, 0]], [[0, 0]], [[0, 0]], [[7, 66]], [[0, 0]], [[9, 13], [9, 14]], [[10, 16], [10, 17], [10, 18], [10, 19], [10, 20], [10, 21]], [[89, 1], [89, 2], [89, 3], [89, 4]], [[88, 5]], [[0, 186], [0, 187], [0, 188], [0, 189]], [[1, 181], [1, 182], [1, 183], [1, 184]], [[0, 0]], [[3, 40], [3, 41]], [[4, 118], [4, 119], [4, 120]], [[5, 125], [5, 126], [5, 127], [5, 128], [5, 129], [5, 130], [5, 131], [5, 132], [5, 133], [5, 134]], [[6, 80], [6, 81], [6, 82]], [[7, 122]], [[0, 0]], [[9, 33], [9, 34], [9, 35]], [[10, 42], [10, 43], [10, 44], [10, 45], [10, 46]], [[89, 6], [89, 7]], [[88, 8]], [[0, 147], [0, 148]], [[1, 150], [1, 151], [1, 152]], [[0, 0]], [[3, 40], [3, 41], [3, 42], [3, 43]], [[4, 57], [4, 58], [4, 59]], [[0, 0]], [[6, 85], [6, 86], [6, 87]], [[7, 63], [7, 64], [7, 65], [7, 66]], [[0, 0]], [[9, 25], [9, 26]], [[10, 45], [10, 46], [10, 47], [10, 48], [10, 49]], [[89, 1], [89, 2]], [[88, 3]], [[0, 183], [0, 184], [0, 185]], [[1, 178], [1, 179], [1, 180], [1, 181]], [[2, 71], [2, 72]], [[3, 52], [3, 53], [3, 54], [3, 55]], [[4, 67], [4, 68], [4, 69]], [[0, 0]], [[6, 143], [6, 144], [6, 145]], [[0, 0]], [[0, 0]], [[9, 18], [9, 19]], [[10, 22], [10, 23], [10, 24], [10, 25]], [[89, 10], [89, 11], [89, 12]], [[88, 13]], [[0, 171], [0, 172], [0, 173], [0, 174]], [[1, 166], [1, 167], [1, 168], [1, 169]], [[2, 68], [2, 69], [2, 70]], [[3, 44], [3, 45], [3, 46], [3, 47]], [[0, 0]], [[0, 0]], [[0, 0]], [[7, 62], [7, 63]], 0, 0, 0, 0, 0, 0, 0, 0, 0, 0, 0, 0, 0, 0, 0, 0, 0, 0, 0, 0, 0, 0, 0, 0, 0, 0, 0]\n",
      "row_idx 74 [[[0, 181], [0, 182], [0, 183], [0, 184], [0, 185], [0, 186], [0, 187]], [[1, 174], [1, 175], [1, 176], [1, 177], [1, 178]], [[2, 49], [2, 50]], [[3, 43]], [[4, 52], [4, 53], [4, 54], [4, 55], [4, 56], [4, 57], [4, 58], [4, 59], [4, 60]], [[0, 0]], [[6, 100], [6, 101], [6, 102], [6, 103]], [[0, 0]], [[0, 0]], [[9, 24], [9, 25], [9, 26], [9, 27]], [[10, 15], [10, 16], [10, 17], [10, 18], [10, 19]], [[89, 4], [89, 5]], [[88, 6]], [[0, 0]], [[1, 137], [1, 138], [1, 139], [1, 140]], [[2, 68], [2, 69], [2, 70], [2, 71]], [[3, 40], [3, 41], [3, 42], [3, 43], [3, 44]], [[0, 0]], [[0, 0]], [[0, 0]], [[7, 66]], [[0, 0]], [[9, 13], [9, 14]], [[10, 16], [10, 17], [10, 18], [10, 19], [10, 20], [10, 21]], [[89, 1], [89, 2], [89, 3], [89, 4]], [[88, 5]], [[0, 186], [0, 187], [0, 188], [0, 189]], [[1, 181], [1, 182], [1, 183], [1, 184]], [[0, 0]], [[3, 40], [3, 41]], [[4, 118], [4, 119], [4, 120]], [[5, 125], [5, 126], [5, 127], [5, 128], [5, 129], [5, 130], [5, 131], [5, 132], [5, 133], [5, 134]], [[6, 80], [6, 81], [6, 82]], [[7, 122]], [[0, 0]], [[9, 33], [9, 34], [9, 35]], [[10, 42], [10, 43], [10, 44], [10, 45], [10, 46]], [[89, 6], [89, 7]], [[88, 8]], [[0, 147], [0, 148]], [[1, 150], [1, 151], [1, 152]], [[0, 0]], [[3, 40], [3, 41], [3, 42], [3, 43]], [[4, 57], [4, 58], [4, 59]], [[0, 0]], [[6, 85], [6, 86], [6, 87]], [[7, 63], [7, 64], [7, 65], [7, 66]], [[0, 0]], [[9, 25], [9, 26]], [[10, 45], [10, 46], [10, 47], [10, 48], [10, 49]], [[89, 1], [89, 2]], [[88, 3]], [[0, 183], [0, 184], [0, 185]], [[1, 178], [1, 179], [1, 180], [1, 181]], [[2, 71], [2, 72]], [[3, 52], [3, 53], [3, 54], [3, 55]], [[4, 67], [4, 68], [4, 69]], [[0, 0]], [[6, 143], [6, 144], [6, 145]], [[0, 0]], [[0, 0]], [[9, 18], [9, 19]], [[10, 22], [10, 23], [10, 24], [10, 25]], [[89, 10], [89, 11], [89, 12]], [[88, 13]], [[0, 171], [0, 172], [0, 173], [0, 174]], [[1, 166], [1, 167], [1, 168], [1, 169]], [[2, 68], [2, 69], [2, 70]], [[3, 44], [3, 45], [3, 46], [3, 47]], [[0, 0]], [[0, 0]], [[0, 0]], [[7, 62], [7, 63]], [[0, 0]], [[9, 15], [9, 16], [9, 17], [9, 18]], 0, 0, 0, 0, 0, 0, 0, 0, 0, 0, 0, 0, 0, 0, 0, 0, 0, 0, 0, 0, 0, 0, 0, 0, 0]\n",
      "row_idx 75 [[[0, 181], [0, 182], [0, 183], [0, 184], [0, 185], [0, 186], [0, 187]], [[1, 174], [1, 175], [1, 176], [1, 177], [1, 178]], [[2, 49], [2, 50]], [[3, 43]], [[4, 52], [4, 53], [4, 54], [4, 55], [4, 56], [4, 57], [4, 58], [4, 59], [4, 60]], [[0, 0]], [[6, 100], [6, 101], [6, 102], [6, 103]], [[0, 0]], [[0, 0]], [[9, 24], [9, 25], [9, 26], [9, 27]], [[10, 15], [10, 16], [10, 17], [10, 18], [10, 19]], [[89, 4], [89, 5]], [[88, 6]], [[0, 0]], [[1, 137], [1, 138], [1, 139], [1, 140]], [[2, 68], [2, 69], [2, 70], [2, 71]], [[3, 40], [3, 41], [3, 42], [3, 43], [3, 44]], [[0, 0]], [[0, 0]], [[0, 0]], [[7, 66]], [[0, 0]], [[9, 13], [9, 14]], [[10, 16], [10, 17], [10, 18], [10, 19], [10, 20], [10, 21]], [[89, 1], [89, 2], [89, 3], [89, 4]], [[88, 5]], [[0, 186], [0, 187], [0, 188], [0, 189]], [[1, 181], [1, 182], [1, 183], [1, 184]], [[0, 0]], [[3, 40], [3, 41]], [[4, 118], [4, 119], [4, 120]], [[5, 125], [5, 126], [5, 127], [5, 128], [5, 129], [5, 130], [5, 131], [5, 132], [5, 133], [5, 134]], [[6, 80], [6, 81], [6, 82]], [[7, 122]], [[0, 0]], [[9, 33], [9, 34], [9, 35]], [[10, 42], [10, 43], [10, 44], [10, 45], [10, 46]], [[89, 6], [89, 7]], [[88, 8]], [[0, 147], [0, 148]], [[1, 150], [1, 151], [1, 152]], [[0, 0]], [[3, 40], [3, 41], [3, 42], [3, 43]], [[4, 57], [4, 58], [4, 59]], [[0, 0]], [[6, 85], [6, 86], [6, 87]], [[7, 63], [7, 64], [7, 65], [7, 66]], [[0, 0]], [[9, 25], [9, 26]], [[10, 45], [10, 46], [10, 47], [10, 48], [10, 49]], [[89, 1], [89, 2]], [[88, 3]], [[0, 183], [0, 184], [0, 185]], [[1, 178], [1, 179], [1, 180], [1, 181]], [[2, 71], [2, 72]], [[3, 52], [3, 53], [3, 54], [3, 55]], [[4, 67], [4, 68], [4, 69]], [[0, 0]], [[6, 143], [6, 144], [6, 145]], [[0, 0]], [[0, 0]], [[9, 18], [9, 19]], [[10, 22], [10, 23], [10, 24], [10, 25]], [[89, 10], [89, 11], [89, 12]], [[88, 13]], [[0, 171], [0, 172], [0, 173], [0, 174]], [[1, 166], [1, 167], [1, 168], [1, 169]], [[2, 68], [2, 69], [2, 70]], [[3, 44], [3, 45], [3, 46], [3, 47]], [[0, 0]], [[0, 0]], [[0, 0]], [[7, 62], [7, 63]], [[0, 0]], [[9, 15], [9, 16], [9, 17], [9, 18]], [[10, 36], [10, 37], [10, 38], [10, 39]], 0, 0, 0, 0, 0, 0, 0, 0, 0, 0, 0, 0, 0, 0, 0, 0, 0, 0, 0, 0, 0, 0, 0, 0]\n",
      "row_idx 76 [[[0, 181], [0, 182], [0, 183], [0, 184], [0, 185], [0, 186], [0, 187]], [[1, 174], [1, 175], [1, 176], [1, 177], [1, 178]], [[2, 49], [2, 50]], [[3, 43]], [[4, 52], [4, 53], [4, 54], [4, 55], [4, 56], [4, 57], [4, 58], [4, 59], [4, 60]], [[0, 0]], [[6, 100], [6, 101], [6, 102], [6, 103]], [[0, 0]], [[0, 0]], [[9, 24], [9, 25], [9, 26], [9, 27]], [[10, 15], [10, 16], [10, 17], [10, 18], [10, 19]], [[89, 4], [89, 5]], [[88, 6]], [[0, 0]], [[1, 137], [1, 138], [1, 139], [1, 140]], [[2, 68], [2, 69], [2, 70], [2, 71]], [[3, 40], [3, 41], [3, 42], [3, 43], [3, 44]], [[0, 0]], [[0, 0]], [[0, 0]], [[7, 66]], [[0, 0]], [[9, 13], [9, 14]], [[10, 16], [10, 17], [10, 18], [10, 19], [10, 20], [10, 21]], [[89, 1], [89, 2], [89, 3], [89, 4]], [[88, 5]], [[0, 186], [0, 187], [0, 188], [0, 189]], [[1, 181], [1, 182], [1, 183], [1, 184]], [[0, 0]], [[3, 40], [3, 41]], [[4, 118], [4, 119], [4, 120]], [[5, 125], [5, 126], [5, 127], [5, 128], [5, 129], [5, 130], [5, 131], [5, 132], [5, 133], [5, 134]], [[6, 80], [6, 81], [6, 82]], [[7, 122]], [[0, 0]], [[9, 33], [9, 34], [9, 35]], [[10, 42], [10, 43], [10, 44], [10, 45], [10, 46]], [[89, 6], [89, 7]], [[88, 8]], [[0, 147], [0, 148]], [[1, 150], [1, 151], [1, 152]], [[0, 0]], [[3, 40], [3, 41], [3, 42], [3, 43]], [[4, 57], [4, 58], [4, 59]], [[0, 0]], [[6, 85], [6, 86], [6, 87]], [[7, 63], [7, 64], [7, 65], [7, 66]], [[0, 0]], [[9, 25], [9, 26]], [[10, 45], [10, 46], [10, 47], [10, 48], [10, 49]], [[89, 1], [89, 2]], [[88, 3]], [[0, 183], [0, 184], [0, 185]], [[1, 178], [1, 179], [1, 180], [1, 181]], [[2, 71], [2, 72]], [[3, 52], [3, 53], [3, 54], [3, 55]], [[4, 67], [4, 68], [4, 69]], [[0, 0]], [[6, 143], [6, 144], [6, 145]], [[0, 0]], [[0, 0]], [[9, 18], [9, 19]], [[10, 22], [10, 23], [10, 24], [10, 25]], [[89, 10], [89, 11], [89, 12]], [[88, 13]], [[0, 171], [0, 172], [0, 173], [0, 174]], [[1, 166], [1, 167], [1, 168], [1, 169]], [[2, 68], [2, 69], [2, 70]], [[3, 44], [3, 45], [3, 46], [3, 47]], [[0, 0]], [[0, 0]], [[0, 0]], [[7, 62], [7, 63]], [[0, 0]], [[9, 15], [9, 16], [9, 17], [9, 18]], [[10, 36], [10, 37], [10, 38], [10, 39]], [[89, 1], [89, 2], [89, 3], [89, 4]], 0, 0, 0, 0, 0, 0, 0, 0, 0, 0, 0, 0, 0, 0, 0, 0, 0, 0, 0, 0, 0, 0, 0]\n",
      "row_idx 77 [[[0, 181], [0, 182], [0, 183], [0, 184], [0, 185], [0, 186], [0, 187]], [[1, 174], [1, 175], [1, 176], [1, 177], [1, 178]], [[2, 49], [2, 50]], [[3, 43]], [[4, 52], [4, 53], [4, 54], [4, 55], [4, 56], [4, 57], [4, 58], [4, 59], [4, 60]], [[0, 0]], [[6, 100], [6, 101], [6, 102], [6, 103]], [[0, 0]], [[0, 0]], [[9, 24], [9, 25], [9, 26], [9, 27]], [[10, 15], [10, 16], [10, 17], [10, 18], [10, 19]], [[89, 4], [89, 5]], [[88, 6]], [[0, 0]], [[1, 137], [1, 138], [1, 139], [1, 140]], [[2, 68], [2, 69], [2, 70], [2, 71]], [[3, 40], [3, 41], [3, 42], [3, 43], [3, 44]], [[0, 0]], [[0, 0]], [[0, 0]], [[7, 66]], [[0, 0]], [[9, 13], [9, 14]], [[10, 16], [10, 17], [10, 18], [10, 19], [10, 20], [10, 21]], [[89, 1], [89, 2], [89, 3], [89, 4]], [[88, 5]], [[0, 186], [0, 187], [0, 188], [0, 189]], [[1, 181], [1, 182], [1, 183], [1, 184]], [[0, 0]], [[3, 40], [3, 41]], [[4, 118], [4, 119], [4, 120]], [[5, 125], [5, 126], [5, 127], [5, 128], [5, 129], [5, 130], [5, 131], [5, 132], [5, 133], [5, 134]], [[6, 80], [6, 81], [6, 82]], [[7, 122]], [[0, 0]], [[9, 33], [9, 34], [9, 35]], [[10, 42], [10, 43], [10, 44], [10, 45], [10, 46]], [[89, 6], [89, 7]], [[88, 8]], [[0, 147], [0, 148]], [[1, 150], [1, 151], [1, 152]], [[0, 0]], [[3, 40], [3, 41], [3, 42], [3, 43]], [[4, 57], [4, 58], [4, 59]], [[0, 0]], [[6, 85], [6, 86], [6, 87]], [[7, 63], [7, 64], [7, 65], [7, 66]], [[0, 0]], [[9, 25], [9, 26]], [[10, 45], [10, 46], [10, 47], [10, 48], [10, 49]], [[89, 1], [89, 2]], [[88, 3]], [[0, 183], [0, 184], [0, 185]], [[1, 178], [1, 179], [1, 180], [1, 181]], [[2, 71], [2, 72]], [[3, 52], [3, 53], [3, 54], [3, 55]], [[4, 67], [4, 68], [4, 69]], [[0, 0]], [[6, 143], [6, 144], [6, 145]], [[0, 0]], [[0, 0]], [[9, 18], [9, 19]], [[10, 22], [10, 23], [10, 24], [10, 25]], [[89, 10], [89, 11], [89, 12]], [[88, 13]], [[0, 171], [0, 172], [0, 173], [0, 174]], [[1, 166], [1, 167], [1, 168], [1, 169]], [[2, 68], [2, 69], [2, 70]], [[3, 44], [3, 45], [3, 46], [3, 47]], [[0, 0]], [[0, 0]], [[0, 0]], [[7, 62], [7, 63]], [[0, 0]], [[9, 15], [9, 16], [9, 17], [9, 18]], [[10, 36], [10, 37], [10, 38], [10, 39]], [[89, 1], [89, 2], [89, 3], [89, 4]], [[88, 5]], 0, 0, 0, 0, 0, 0, 0, 0, 0, 0, 0, 0, 0, 0, 0, 0, 0, 0, 0, 0, 0, 0]\n",
      "row_idx 78 [[[0, 181], [0, 182], [0, 183], [0, 184], [0, 185], [0, 186], [0, 187]], [[1, 174], [1, 175], [1, 176], [1, 177], [1, 178]], [[2, 49], [2, 50]], [[3, 43]], [[4, 52], [4, 53], [4, 54], [4, 55], [4, 56], [4, 57], [4, 58], [4, 59], [4, 60]], [[0, 0]], [[6, 100], [6, 101], [6, 102], [6, 103]], [[0, 0]], [[0, 0]], [[9, 24], [9, 25], [9, 26], [9, 27]], [[10, 15], [10, 16], [10, 17], [10, 18], [10, 19]], [[89, 4], [89, 5]], [[88, 6]], [[0, 0]], [[1, 137], [1, 138], [1, 139], [1, 140]], [[2, 68], [2, 69], [2, 70], [2, 71]], [[3, 40], [3, 41], [3, 42], [3, 43], [3, 44]], [[0, 0]], [[0, 0]], [[0, 0]], [[7, 66]], [[0, 0]], [[9, 13], [9, 14]], [[10, 16], [10, 17], [10, 18], [10, 19], [10, 20], [10, 21]], [[89, 1], [89, 2], [89, 3], [89, 4]], [[88, 5]], [[0, 186], [0, 187], [0, 188], [0, 189]], [[1, 181], [1, 182], [1, 183], [1, 184]], [[0, 0]], [[3, 40], [3, 41]], [[4, 118], [4, 119], [4, 120]], [[5, 125], [5, 126], [5, 127], [5, 128], [5, 129], [5, 130], [5, 131], [5, 132], [5, 133], [5, 134]], [[6, 80], [6, 81], [6, 82]], [[7, 122]], [[0, 0]], [[9, 33], [9, 34], [9, 35]], [[10, 42], [10, 43], [10, 44], [10, 45], [10, 46]], [[89, 6], [89, 7]], [[88, 8]], [[0, 147], [0, 148]], [[1, 150], [1, 151], [1, 152]], [[0, 0]], [[3, 40], [3, 41], [3, 42], [3, 43]], [[4, 57], [4, 58], [4, 59]], [[0, 0]], [[6, 85], [6, 86], [6, 87]], [[7, 63], [7, 64], [7, 65], [7, 66]], [[0, 0]], [[9, 25], [9, 26]], [[10, 45], [10, 46], [10, 47], [10, 48], [10, 49]], [[89, 1], [89, 2]], [[88, 3]], [[0, 183], [0, 184], [0, 185]], [[1, 178], [1, 179], [1, 180], [1, 181]], [[2, 71], [2, 72]], [[3, 52], [3, 53], [3, 54], [3, 55]], [[4, 67], [4, 68], [4, 69]], [[0, 0]], [[6, 143], [6, 144], [6, 145]], [[0, 0]], [[0, 0]], [[9, 18], [9, 19]], [[10, 22], [10, 23], [10, 24], [10, 25]], [[89, 10], [89, 11], [89, 12]], [[88, 13]], [[0, 171], [0, 172], [0, 173], [0, 174]], [[1, 166], [1, 167], [1, 168], [1, 169]], [[2, 68], [2, 69], [2, 70]], [[3, 44], [3, 45], [3, 46], [3, 47]], [[0, 0]], [[0, 0]], [[0, 0]], [[7, 62], [7, 63]], [[0, 0]], [[9, 15], [9, 16], [9, 17], [9, 18]], [[10, 36], [10, 37], [10, 38], [10, 39]], [[89, 1], [89, 2], [89, 3], [89, 4]], [[88, 5]], [[0, 169], [0, 170], [0, 171]], 0, 0, 0, 0, 0, 0, 0, 0, 0, 0, 0, 0, 0, 0, 0, 0, 0, 0, 0, 0, 0]\n",
      "row_idx 79 [[[0, 181], [0, 182], [0, 183], [0, 184], [0, 185], [0, 186], [0, 187]], [[1, 174], [1, 175], [1, 176], [1, 177], [1, 178]], [[2, 49], [2, 50]], [[3, 43]], [[4, 52], [4, 53], [4, 54], [4, 55], [4, 56], [4, 57], [4, 58], [4, 59], [4, 60]], [[0, 0]], [[6, 100], [6, 101], [6, 102], [6, 103]], [[0, 0]], [[0, 0]], [[9, 24], [9, 25], [9, 26], [9, 27]], [[10, 15], [10, 16], [10, 17], [10, 18], [10, 19]], [[89, 4], [89, 5]], [[88, 6]], [[0, 0]], [[1, 137], [1, 138], [1, 139], [1, 140]], [[2, 68], [2, 69], [2, 70], [2, 71]], [[3, 40], [3, 41], [3, 42], [3, 43], [3, 44]], [[0, 0]], [[0, 0]], [[0, 0]], [[7, 66]], [[0, 0]], [[9, 13], [9, 14]], [[10, 16], [10, 17], [10, 18], [10, 19], [10, 20], [10, 21]], [[89, 1], [89, 2], [89, 3], [89, 4]], [[88, 5]], [[0, 186], [0, 187], [0, 188], [0, 189]], [[1, 181], [1, 182], [1, 183], [1, 184]], [[0, 0]], [[3, 40], [3, 41]], [[4, 118], [4, 119], [4, 120]], [[5, 125], [5, 126], [5, 127], [5, 128], [5, 129], [5, 130], [5, 131], [5, 132], [5, 133], [5, 134]], [[6, 80], [6, 81], [6, 82]], [[7, 122]], [[0, 0]], [[9, 33], [9, 34], [9, 35]], [[10, 42], [10, 43], [10, 44], [10, 45], [10, 46]], [[89, 6], [89, 7]], [[88, 8]], [[0, 147], [0, 148]], [[1, 150], [1, 151], [1, 152]], [[0, 0]], [[3, 40], [3, 41], [3, 42], [3, 43]], [[4, 57], [4, 58], [4, 59]], [[0, 0]], [[6, 85], [6, 86], [6, 87]], [[7, 63], [7, 64], [7, 65], [7, 66]], [[0, 0]], [[9, 25], [9, 26]], [[10, 45], [10, 46], [10, 47], [10, 48], [10, 49]], [[89, 1], [89, 2]], [[88, 3]], [[0, 183], [0, 184], [0, 185]], [[1, 178], [1, 179], [1, 180], [1, 181]], [[2, 71], [2, 72]], [[3, 52], [3, 53], [3, 54], [3, 55]], [[4, 67], [4, 68], [4, 69]], [[0, 0]], [[6, 143], [6, 144], [6, 145]], [[0, 0]], [[0, 0]], [[9, 18], [9, 19]], [[10, 22], [10, 23], [10, 24], [10, 25]], [[89, 10], [89, 11], [89, 12]], [[88, 13]], [[0, 171], [0, 172], [0, 173], [0, 174]], [[1, 166], [1, 167], [1, 168], [1, 169]], [[2, 68], [2, 69], [2, 70]], [[3, 44], [3, 45], [3, 46], [3, 47]], [[0, 0]], [[0, 0]], [[0, 0]], [[7, 62], [7, 63]], [[0, 0]], [[9, 15], [9, 16], [9, 17], [9, 18]], [[10, 36], [10, 37], [10, 38], [10, 39]], [[89, 1], [89, 2], [89, 3], [89, 4]], [[88, 5]], [[0, 169], [0, 170], [0, 171]], [[1, 165], [1, 166], [1, 167]], 0, 0, 0, 0, 0, 0, 0, 0, 0, 0, 0, 0, 0, 0, 0, 0, 0, 0, 0, 0]\n",
      "row_idx 80 [[[0, 181], [0, 182], [0, 183], [0, 184], [0, 185], [0, 186], [0, 187]], [[1, 174], [1, 175], [1, 176], [1, 177], [1, 178]], [[2, 49], [2, 50]], [[3, 43]], [[4, 52], [4, 53], [4, 54], [4, 55], [4, 56], [4, 57], [4, 58], [4, 59], [4, 60]], [[0, 0]], [[6, 100], [6, 101], [6, 102], [6, 103]], [[0, 0]], [[0, 0]], [[9, 24], [9, 25], [9, 26], [9, 27]], [[10, 15], [10, 16], [10, 17], [10, 18], [10, 19]], [[89, 4], [89, 5]], [[88, 6]], [[0, 0]], [[1, 137], [1, 138], [1, 139], [1, 140]], [[2, 68], [2, 69], [2, 70], [2, 71]], [[3, 40], [3, 41], [3, 42], [3, 43], [3, 44]], [[0, 0]], [[0, 0]], [[0, 0]], [[7, 66]], [[0, 0]], [[9, 13], [9, 14]], [[10, 16], [10, 17], [10, 18], [10, 19], [10, 20], [10, 21]], [[89, 1], [89, 2], [89, 3], [89, 4]], [[88, 5]], [[0, 186], [0, 187], [0, 188], [0, 189]], [[1, 181], [1, 182], [1, 183], [1, 184]], [[0, 0]], [[3, 40], [3, 41]], [[4, 118], [4, 119], [4, 120]], [[5, 125], [5, 126], [5, 127], [5, 128], [5, 129], [5, 130], [5, 131], [5, 132], [5, 133], [5, 134]], [[6, 80], [6, 81], [6, 82]], [[7, 122]], [[0, 0]], [[9, 33], [9, 34], [9, 35]], [[10, 42], [10, 43], [10, 44], [10, 45], [10, 46]], [[89, 6], [89, 7]], [[88, 8]], [[0, 147], [0, 148]], [[1, 150], [1, 151], [1, 152]], [[0, 0]], [[3, 40], [3, 41], [3, 42], [3, 43]], [[4, 57], [4, 58], [4, 59]], [[0, 0]], [[6, 85], [6, 86], [6, 87]], [[7, 63], [7, 64], [7, 65], [7, 66]], [[0, 0]], [[9, 25], [9, 26]], [[10, 45], [10, 46], [10, 47], [10, 48], [10, 49]], [[89, 1], [89, 2]], [[88, 3]], [[0, 183], [0, 184], [0, 185]], [[1, 178], [1, 179], [1, 180], [1, 181]], [[2, 71], [2, 72]], [[3, 52], [3, 53], [3, 54], [3, 55]], [[4, 67], [4, 68], [4, 69]], [[0, 0]], [[6, 143], [6, 144], [6, 145]], [[0, 0]], [[0, 0]], [[9, 18], [9, 19]], [[10, 22], [10, 23], [10, 24], [10, 25]], [[89, 10], [89, 11], [89, 12]], [[88, 13]], [[0, 171], [0, 172], [0, 173], [0, 174]], [[1, 166], [1, 167], [1, 168], [1, 169]], [[2, 68], [2, 69], [2, 70]], [[3, 44], [3, 45], [3, 46], [3, 47]], [[0, 0]], [[0, 0]], [[0, 0]], [[7, 62], [7, 63]], [[0, 0]], [[9, 15], [9, 16], [9, 17], [9, 18]], [[10, 36], [10, 37], [10, 38], [10, 39]], [[89, 1], [89, 2], [89, 3], [89, 4]], [[88, 5]], [[0, 169], [0, 170], [0, 171]], [[1, 165], [1, 166], [1, 167]], [[2, 55], [2, 56]], 0, 0, 0, 0, 0, 0, 0, 0, 0, 0, 0, 0, 0, 0, 0, 0, 0, 0, 0]\n",
      "row_idx 81 [[[0, 181], [0, 182], [0, 183], [0, 184], [0, 185], [0, 186], [0, 187]], [[1, 174], [1, 175], [1, 176], [1, 177], [1, 178]], [[2, 49], [2, 50]], [[3, 43]], [[4, 52], [4, 53], [4, 54], [4, 55], [4, 56], [4, 57], [4, 58], [4, 59], [4, 60]], [[0, 0]], [[6, 100], [6, 101], [6, 102], [6, 103]], [[0, 0]], [[0, 0]], [[9, 24], [9, 25], [9, 26], [9, 27]], [[10, 15], [10, 16], [10, 17], [10, 18], [10, 19]], [[89, 4], [89, 5]], [[88, 6]], [[0, 0]], [[1, 137], [1, 138], [1, 139], [1, 140]], [[2, 68], [2, 69], [2, 70], [2, 71]], [[3, 40], [3, 41], [3, 42], [3, 43], [3, 44]], [[0, 0]], [[0, 0]], [[0, 0]], [[7, 66]], [[0, 0]], [[9, 13], [9, 14]], [[10, 16], [10, 17], [10, 18], [10, 19], [10, 20], [10, 21]], [[89, 1], [89, 2], [89, 3], [89, 4]], [[88, 5]], [[0, 186], [0, 187], [0, 188], [0, 189]], [[1, 181], [1, 182], [1, 183], [1, 184]], [[0, 0]], [[3, 40], [3, 41]], [[4, 118], [4, 119], [4, 120]], [[5, 125], [5, 126], [5, 127], [5, 128], [5, 129], [5, 130], [5, 131], [5, 132], [5, 133], [5, 134]], [[6, 80], [6, 81], [6, 82]], [[7, 122]], [[0, 0]], [[9, 33], [9, 34], [9, 35]], [[10, 42], [10, 43], [10, 44], [10, 45], [10, 46]], [[89, 6], [89, 7]], [[88, 8]], [[0, 147], [0, 148]], [[1, 150], [1, 151], [1, 152]], [[0, 0]], [[3, 40], [3, 41], [3, 42], [3, 43]], [[4, 57], [4, 58], [4, 59]], [[0, 0]], [[6, 85], [6, 86], [6, 87]], [[7, 63], [7, 64], [7, 65], [7, 66]], [[0, 0]], [[9, 25], [9, 26]], [[10, 45], [10, 46], [10, 47], [10, 48], [10, 49]], [[89, 1], [89, 2]], [[88, 3]], [[0, 183], [0, 184], [0, 185]], [[1, 178], [1, 179], [1, 180], [1, 181]], [[2, 71], [2, 72]], [[3, 52], [3, 53], [3, 54], [3, 55]], [[4, 67], [4, 68], [4, 69]], [[0, 0]], [[6, 143], [6, 144], [6, 145]], [[0, 0]], [[0, 0]], [[9, 18], [9, 19]], [[10, 22], [10, 23], [10, 24], [10, 25]], [[89, 10], [89, 11], [89, 12]], [[88, 13]], [[0, 171], [0, 172], [0, 173], [0, 174]], [[1, 166], [1, 167], [1, 168], [1, 169]], [[2, 68], [2, 69], [2, 70]], [[3, 44], [3, 45], [3, 46], [3, 47]], [[0, 0]], [[0, 0]], [[0, 0]], [[7, 62], [7, 63]], [[0, 0]], [[9, 15], [9, 16], [9, 17], [9, 18]], [[10, 36], [10, 37], [10, 38], [10, 39]], [[89, 1], [89, 2], [89, 3], [89, 4]], [[88, 5]], [[0, 169], [0, 170], [0, 171]], [[1, 165], [1, 166], [1, 167]], [[2, 55], [2, 56]], [[3, 21]], 0, 0, 0, 0, 0, 0, 0, 0, 0, 0, 0, 0, 0, 0, 0, 0, 0, 0]\n",
      "row_idx 84 [[[0, 181], [0, 182], [0, 183], [0, 184], [0, 185], [0, 186], [0, 187]], [[1, 174], [1, 175], [1, 176], [1, 177], [1, 178]], [[2, 49], [2, 50]], [[3, 43]], [[4, 52], [4, 53], [4, 54], [4, 55], [4, 56], [4, 57], [4, 58], [4, 59], [4, 60]], [[0, 0]], [[6, 100], [6, 101], [6, 102], [6, 103]], [[0, 0]], [[0, 0]], [[9, 24], [9, 25], [9, 26], [9, 27]], [[10, 15], [10, 16], [10, 17], [10, 18], [10, 19]], [[89, 4], [89, 5]], [[88, 6]], [[0, 0]], [[1, 137], [1, 138], [1, 139], [1, 140]], [[2, 68], [2, 69], [2, 70], [2, 71]], [[3, 40], [3, 41], [3, 42], [3, 43], [3, 44]], [[0, 0]], [[0, 0]], [[0, 0]], [[7, 66]], [[0, 0]], [[9, 13], [9, 14]], [[10, 16], [10, 17], [10, 18], [10, 19], [10, 20], [10, 21]], [[89, 1], [89, 2], [89, 3], [89, 4]], [[88, 5]], [[0, 186], [0, 187], [0, 188], [0, 189]], [[1, 181], [1, 182], [1, 183], [1, 184]], [[0, 0]], [[3, 40], [3, 41]], [[4, 118], [4, 119], [4, 120]], [[5, 125], [5, 126], [5, 127], [5, 128], [5, 129], [5, 130], [5, 131], [5, 132], [5, 133], [5, 134]], [[6, 80], [6, 81], [6, 82]], [[7, 122]], [[0, 0]], [[9, 33], [9, 34], [9, 35]], [[10, 42], [10, 43], [10, 44], [10, 45], [10, 46]], [[89, 6], [89, 7]], [[88, 8]], [[0, 147], [0, 148]], [[1, 150], [1, 151], [1, 152]], [[0, 0]], [[3, 40], [3, 41], [3, 42], [3, 43]], [[4, 57], [4, 58], [4, 59]], [[0, 0]], [[6, 85], [6, 86], [6, 87]], [[7, 63], [7, 64], [7, 65], [7, 66]], [[0, 0]], [[9, 25], [9, 26]], [[10, 45], [10, 46], [10, 47], [10, 48], [10, 49]], [[89, 1], [89, 2]], [[88, 3]], [[0, 183], [0, 184], [0, 185]], [[1, 178], [1, 179], [1, 180], [1, 181]], [[2, 71], [2, 72]], [[3, 52], [3, 53], [3, 54], [3, 55]], [[4, 67], [4, 68], [4, 69]], [[0, 0]], [[6, 143], [6, 144], [6, 145]], [[0, 0]], [[0, 0]], [[9, 18], [9, 19]], [[10, 22], [10, 23], [10, 24], [10, 25]], [[89, 10], [89, 11], [89, 12]], [[88, 13]], [[0, 171], [0, 172], [0, 173], [0, 174]], [[1, 166], [1, 167], [1, 168], [1, 169]], [[2, 68], [2, 69], [2, 70]], [[3, 44], [3, 45], [3, 46], [3, 47]], [[0, 0]], [[0, 0]], [[0, 0]], [[7, 62], [7, 63]], [[0, 0]], [[9, 15], [9, 16], [9, 17], [9, 18]], [[10, 36], [10, 37], [10, 38], [10, 39]], [[89, 1], [89, 2], [89, 3], [89, 4]], [[88, 5]], [[0, 169], [0, 170], [0, 171]], [[1, 165], [1, 166], [1, 167]], [[2, 55], [2, 56]], [[3, 21]], [[0, 0]], [[0, 0]], [[6, 100], [6, 101], [6, 102]], 0, 0, 0, 0, 0, 0, 0, 0, 0, 0, 0, 0, 0, 0, 0]\n",
      "row_idx 87 [[[0, 181], [0, 182], [0, 183], [0, 184], [0, 185], [0, 186], [0, 187]], [[1, 174], [1, 175], [1, 176], [1, 177], [1, 178]], [[2, 49], [2, 50]], [[3, 43]], [[4, 52], [4, 53], [4, 54], [4, 55], [4, 56], [4, 57], [4, 58], [4, 59], [4, 60]], [[0, 0]], [[6, 100], [6, 101], [6, 102], [6, 103]], [[0, 0]], [[0, 0]], [[9, 24], [9, 25], [9, 26], [9, 27]], [[10, 15], [10, 16], [10, 17], [10, 18], [10, 19]], [[89, 4], [89, 5]], [[88, 6]], [[0, 0]], [[1, 137], [1, 138], [1, 139], [1, 140]], [[2, 68], [2, 69], [2, 70], [2, 71]], [[3, 40], [3, 41], [3, 42], [3, 43], [3, 44]], [[0, 0]], [[0, 0]], [[0, 0]], [[7, 66]], [[0, 0]], [[9, 13], [9, 14]], [[10, 16], [10, 17], [10, 18], [10, 19], [10, 20], [10, 21]], [[89, 1], [89, 2], [89, 3], [89, 4]], [[88, 5]], [[0, 186], [0, 187], [0, 188], [0, 189]], [[1, 181], [1, 182], [1, 183], [1, 184]], [[0, 0]], [[3, 40], [3, 41]], [[4, 118], [4, 119], [4, 120]], [[5, 125], [5, 126], [5, 127], [5, 128], [5, 129], [5, 130], [5, 131], [5, 132], [5, 133], [5, 134]], [[6, 80], [6, 81], [6, 82]], [[7, 122]], [[0, 0]], [[9, 33], [9, 34], [9, 35]], [[10, 42], [10, 43], [10, 44], [10, 45], [10, 46]], [[89, 6], [89, 7]], [[88, 8]], [[0, 147], [0, 148]], [[1, 150], [1, 151], [1, 152]], [[0, 0]], [[3, 40], [3, 41], [3, 42], [3, 43]], [[4, 57], [4, 58], [4, 59]], [[0, 0]], [[6, 85], [6, 86], [6, 87]], [[7, 63], [7, 64], [7, 65], [7, 66]], [[0, 0]], [[9, 25], [9, 26]], [[10, 45], [10, 46], [10, 47], [10, 48], [10, 49]], [[89, 1], [89, 2]], [[88, 3]], [[0, 183], [0, 184], [0, 185]], [[1, 178], [1, 179], [1, 180], [1, 181]], [[2, 71], [2, 72]], [[3, 52], [3, 53], [3, 54], [3, 55]], [[4, 67], [4, 68], [4, 69]], [[0, 0]], [[6, 143], [6, 144], [6, 145]], [[0, 0]], [[0, 0]], [[9, 18], [9, 19]], [[10, 22], [10, 23], [10, 24], [10, 25]], [[89, 10], [89, 11], [89, 12]], [[88, 13]], [[0, 171], [0, 172], [0, 173], [0, 174]], [[1, 166], [1, 167], [1, 168], [1, 169]], [[2, 68], [2, 69], [2, 70]], [[3, 44], [3, 45], [3, 46], [3, 47]], [[0, 0]], [[0, 0]], [[0, 0]], [[7, 62], [7, 63]], [[0, 0]], [[9, 15], [9, 16], [9, 17], [9, 18]], [[10, 36], [10, 37], [10, 38], [10, 39]], [[89, 1], [89, 2], [89, 3], [89, 4]], [[88, 5]], [[0, 169], [0, 170], [0, 171]], [[1, 165], [1, 166], [1, 167]], [[2, 55], [2, 56]], [[3, 21]], [[0, 0]], [[0, 0]], [[6, 100], [6, 101], [6, 102]], [[0, 0]], [[0, 0]], [[9, 132], [9, 133], [9, 134]], 0, 0, 0, 0, 0, 0, 0, 0, 0, 0, 0, 0]\n",
      "row_idx 88 [[[0, 181], [0, 182], [0, 183], [0, 184], [0, 185], [0, 186], [0, 187]], [[1, 174], [1, 175], [1, 176], [1, 177], [1, 178]], [[2, 49], [2, 50]], [[3, 43]], [[4, 52], [4, 53], [4, 54], [4, 55], [4, 56], [4, 57], [4, 58], [4, 59], [4, 60]], [[0, 0]], [[6, 100], [6, 101], [6, 102], [6, 103]], [[0, 0]], [[0, 0]], [[9, 24], [9, 25], [9, 26], [9, 27]], [[10, 15], [10, 16], [10, 17], [10, 18], [10, 19]], [[89, 4], [89, 5]], [[88, 6]], [[0, 0]], [[1, 137], [1, 138], [1, 139], [1, 140]], [[2, 68], [2, 69], [2, 70], [2, 71]], [[3, 40], [3, 41], [3, 42], [3, 43], [3, 44]], [[0, 0]], [[0, 0]], [[0, 0]], [[7, 66]], [[0, 0]], [[9, 13], [9, 14]], [[10, 16], [10, 17], [10, 18], [10, 19], [10, 20], [10, 21]], [[89, 1], [89, 2], [89, 3], [89, 4]], [[88, 5]], [[0, 186], [0, 187], [0, 188], [0, 189]], [[1, 181], [1, 182], [1, 183], [1, 184]], [[0, 0]], [[3, 40], [3, 41]], [[4, 118], [4, 119], [4, 120]], [[5, 125], [5, 126], [5, 127], [5, 128], [5, 129], [5, 130], [5, 131], [5, 132], [5, 133], [5, 134]], [[6, 80], [6, 81], [6, 82]], [[7, 122]], [[0, 0]], [[9, 33], [9, 34], [9, 35]], [[10, 42], [10, 43], [10, 44], [10, 45], [10, 46]], [[89, 6], [89, 7]], [[88, 8]], [[0, 147], [0, 148]], [[1, 150], [1, 151], [1, 152]], [[0, 0]], [[3, 40], [3, 41], [3, 42], [3, 43]], [[4, 57], [4, 58], [4, 59]], [[0, 0]], [[6, 85], [6, 86], [6, 87]], [[7, 63], [7, 64], [7, 65], [7, 66]], [[0, 0]], [[9, 25], [9, 26]], [[10, 45], [10, 46], [10, 47], [10, 48], [10, 49]], [[89, 1], [89, 2]], [[88, 3]], [[0, 183], [0, 184], [0, 185]], [[1, 178], [1, 179], [1, 180], [1, 181]], [[2, 71], [2, 72]], [[3, 52], [3, 53], [3, 54], [3, 55]], [[4, 67], [4, 68], [4, 69]], [[0, 0]], [[6, 143], [6, 144], [6, 145]], [[0, 0]], [[0, 0]], [[9, 18], [9, 19]], [[10, 22], [10, 23], [10, 24], [10, 25]], [[89, 10], [89, 11], [89, 12]], [[88, 13]], [[0, 171], [0, 172], [0, 173], [0, 174]], [[1, 166], [1, 167], [1, 168], [1, 169]], [[2, 68], [2, 69], [2, 70]], [[3, 44], [3, 45], [3, 46], [3, 47]], [[0, 0]], [[0, 0]], [[0, 0]], [[7, 62], [7, 63]], [[0, 0]], [[9, 15], [9, 16], [9, 17], [9, 18]], [[10, 36], [10, 37], [10, 38], [10, 39]], [[89, 1], [89, 2], [89, 3], [89, 4]], [[88, 5]], [[0, 169], [0, 170], [0, 171]], [[1, 165], [1, 166], [1, 167]], [[2, 55], [2, 56]], [[3, 21]], [[0, 0]], [[0, 0]], [[6, 100], [6, 101], [6, 102]], [[0, 0]], [[0, 0]], [[9, 132], [9, 133], [9, 134]], [[10, 25], [10, 26], [10, 27], [10, 28], [10, 29], [10, 30], [10, 31]], 0, 0, 0, 0, 0, 0, 0, 0, 0, 0, 0]\n",
      "row_idx 89 [[[0, 181], [0, 182], [0, 183], [0, 184], [0, 185], [0, 186], [0, 187]], [[1, 174], [1, 175], [1, 176], [1, 177], [1, 178]], [[2, 49], [2, 50]], [[3, 43]], [[4, 52], [4, 53], [4, 54], [4, 55], [4, 56], [4, 57], [4, 58], [4, 59], [4, 60]], [[0, 0]], [[6, 100], [6, 101], [6, 102], [6, 103]], [[0, 0]], [[0, 0]], [[9, 24], [9, 25], [9, 26], [9, 27]], [[10, 15], [10, 16], [10, 17], [10, 18], [10, 19]], [[89, 4], [89, 5]], [[88, 6]], [[0, 0]], [[1, 137], [1, 138], [1, 139], [1, 140]], [[2, 68], [2, 69], [2, 70], [2, 71]], [[3, 40], [3, 41], [3, 42], [3, 43], [3, 44]], [[0, 0]], [[0, 0]], [[0, 0]], [[7, 66]], [[0, 0]], [[9, 13], [9, 14]], [[10, 16], [10, 17], [10, 18], [10, 19], [10, 20], [10, 21]], [[89, 1], [89, 2], [89, 3], [89, 4]], [[88, 5]], [[0, 186], [0, 187], [0, 188], [0, 189]], [[1, 181], [1, 182], [1, 183], [1, 184]], [[0, 0]], [[3, 40], [3, 41]], [[4, 118], [4, 119], [4, 120]], [[5, 125], [5, 126], [5, 127], [5, 128], [5, 129], [5, 130], [5, 131], [5, 132], [5, 133], [5, 134]], [[6, 80], [6, 81], [6, 82]], [[7, 122]], [[0, 0]], [[9, 33], [9, 34], [9, 35]], [[10, 42], [10, 43], [10, 44], [10, 45], [10, 46]], [[89, 6], [89, 7]], [[88, 8]], [[0, 147], [0, 148]], [[1, 150], [1, 151], [1, 152]], [[0, 0]], [[3, 40], [3, 41], [3, 42], [3, 43]], [[4, 57], [4, 58], [4, 59]], [[0, 0]], [[6, 85], [6, 86], [6, 87]], [[7, 63], [7, 64], [7, 65], [7, 66]], [[0, 0]], [[9, 25], [9, 26]], [[10, 45], [10, 46], [10, 47], [10, 48], [10, 49]], [[89, 1], [89, 2]], [[88, 3]], [[0, 183], [0, 184], [0, 185]], [[1, 178], [1, 179], [1, 180], [1, 181]], [[2, 71], [2, 72]], [[3, 52], [3, 53], [3, 54], [3, 55]], [[4, 67], [4, 68], [4, 69]], [[0, 0]], [[6, 143], [6, 144], [6, 145]], [[0, 0]], [[0, 0]], [[9, 18], [9, 19]], [[10, 22], [10, 23], [10, 24], [10, 25]], [[89, 10], [89, 11], [89, 12]], [[88, 13]], [[0, 171], [0, 172], [0, 173], [0, 174]], [[1, 166], [1, 167], [1, 168], [1, 169]], [[2, 68], [2, 69], [2, 70]], [[3, 44], [3, 45], [3, 46], [3, 47]], [[0, 0]], [[0, 0]], [[0, 0]], [[7, 62], [7, 63]], [[0, 0]], [[9, 15], [9, 16], [9, 17], [9, 18]], [[10, 36], [10, 37], [10, 38], [10, 39]], [[89, 1], [89, 2], [89, 3], [89, 4]], [[88, 5]], [[0, 169], [0, 170], [0, 171]], [[1, 165], [1, 166], [1, 167]], [[2, 55], [2, 56]], [[3, 21]], [[0, 0]], [[0, 0]], [[6, 100], [6, 101], [6, 102]], [[0, 0]], [[0, 0]], [[9, 132], [9, 133], [9, 134]], [[10, 25], [10, 26], [10, 27], [10, 28], [10, 29], [10, 30], [10, 31]], [[89, 1], [89, 2]], 0, 0, 0, 0, 0, 0, 0, 0, 0, 0]\n",
      "row_idx 90 [[[0, 181], [0, 182], [0, 183], [0, 184], [0, 185], [0, 186], [0, 187]], [[1, 174], [1, 175], [1, 176], [1, 177], [1, 178]], [[2, 49], [2, 50]], [[3, 43]], [[4, 52], [4, 53], [4, 54], [4, 55], [4, 56], [4, 57], [4, 58], [4, 59], [4, 60]], [[0, 0]], [[6, 100], [6, 101], [6, 102], [6, 103]], [[0, 0]], [[0, 0]], [[9, 24], [9, 25], [9, 26], [9, 27]], [[10, 15], [10, 16], [10, 17], [10, 18], [10, 19]], [[89, 4], [89, 5]], [[88, 6]], [[0, 0]], [[1, 137], [1, 138], [1, 139], [1, 140]], [[2, 68], [2, 69], [2, 70], [2, 71]], [[3, 40], [3, 41], [3, 42], [3, 43], [3, 44]], [[0, 0]], [[0, 0]], [[0, 0]], [[7, 66]], [[0, 0]], [[9, 13], [9, 14]], [[10, 16], [10, 17], [10, 18], [10, 19], [10, 20], [10, 21]], [[89, 1], [89, 2], [89, 3], [89, 4]], [[88, 5]], [[0, 186], [0, 187], [0, 188], [0, 189]], [[1, 181], [1, 182], [1, 183], [1, 184]], [[0, 0]], [[3, 40], [3, 41]], [[4, 118], [4, 119], [4, 120]], [[5, 125], [5, 126], [5, 127], [5, 128], [5, 129], [5, 130], [5, 131], [5, 132], [5, 133], [5, 134]], [[6, 80], [6, 81], [6, 82]], [[7, 122]], [[0, 0]], [[9, 33], [9, 34], [9, 35]], [[10, 42], [10, 43], [10, 44], [10, 45], [10, 46]], [[89, 6], [89, 7]], [[88, 8]], [[0, 147], [0, 148]], [[1, 150], [1, 151], [1, 152]], [[0, 0]], [[3, 40], [3, 41], [3, 42], [3, 43]], [[4, 57], [4, 58], [4, 59]], [[0, 0]], [[6, 85], [6, 86], [6, 87]], [[7, 63], [7, 64], [7, 65], [7, 66]], [[0, 0]], [[9, 25], [9, 26]], [[10, 45], [10, 46], [10, 47], [10, 48], [10, 49]], [[89, 1], [89, 2]], [[88, 3]], [[0, 183], [0, 184], [0, 185]], [[1, 178], [1, 179], [1, 180], [1, 181]], [[2, 71], [2, 72]], [[3, 52], [3, 53], [3, 54], [3, 55]], [[4, 67], [4, 68], [4, 69]], [[0, 0]], [[6, 143], [6, 144], [6, 145]], [[0, 0]], [[0, 0]], [[9, 18], [9, 19]], [[10, 22], [10, 23], [10, 24], [10, 25]], [[89, 10], [89, 11], [89, 12]], [[88, 13]], [[0, 171], [0, 172], [0, 173], [0, 174]], [[1, 166], [1, 167], [1, 168], [1, 169]], [[2, 68], [2, 69], [2, 70]], [[3, 44], [3, 45], [3, 46], [3, 47]], [[0, 0]], [[0, 0]], [[0, 0]], [[7, 62], [7, 63]], [[0, 0]], [[9, 15], [9, 16], [9, 17], [9, 18]], [[10, 36], [10, 37], [10, 38], [10, 39]], [[89, 1], [89, 2], [89, 3], [89, 4]], [[88, 5]], [[0, 169], [0, 170], [0, 171]], [[1, 165], [1, 166], [1, 167]], [[2, 55], [2, 56]], [[3, 21]], [[0, 0]], [[0, 0]], [[6, 100], [6, 101], [6, 102]], [[0, 0]], [[0, 0]], [[9, 132], [9, 133], [9, 134]], [[10, 25], [10, 26], [10, 27], [10, 28], [10, 29], [10, 30], [10, 31]], [[89, 1], [89, 2]], [[88, 3]], 0, 0, 0, 0, 0, 0, 0, 0, 0]\n",
      "row_idx 91 [[[0, 181], [0, 182], [0, 183], [0, 184], [0, 185], [0, 186], [0, 187]], [[1, 174], [1, 175], [1, 176], [1, 177], [1, 178]], [[2, 49], [2, 50]], [[3, 43]], [[4, 52], [4, 53], [4, 54], [4, 55], [4, 56], [4, 57], [4, 58], [4, 59], [4, 60]], [[0, 0]], [[6, 100], [6, 101], [6, 102], [6, 103]], [[0, 0]], [[0, 0]], [[9, 24], [9, 25], [9, 26], [9, 27]], [[10, 15], [10, 16], [10, 17], [10, 18], [10, 19]], [[89, 4], [89, 5]], [[88, 6]], [[0, 0]], [[1, 137], [1, 138], [1, 139], [1, 140]], [[2, 68], [2, 69], [2, 70], [2, 71]], [[3, 40], [3, 41], [3, 42], [3, 43], [3, 44]], [[0, 0]], [[0, 0]], [[0, 0]], [[7, 66]], [[0, 0]], [[9, 13], [9, 14]], [[10, 16], [10, 17], [10, 18], [10, 19], [10, 20], [10, 21]], [[89, 1], [89, 2], [89, 3], [89, 4]], [[88, 5]], [[0, 186], [0, 187], [0, 188], [0, 189]], [[1, 181], [1, 182], [1, 183], [1, 184]], [[0, 0]], [[3, 40], [3, 41]], [[4, 118], [4, 119], [4, 120]], [[5, 125], [5, 126], [5, 127], [5, 128], [5, 129], [5, 130], [5, 131], [5, 132], [5, 133], [5, 134]], [[6, 80], [6, 81], [6, 82]], [[7, 122]], [[0, 0]], [[9, 33], [9, 34], [9, 35]], [[10, 42], [10, 43], [10, 44], [10, 45], [10, 46]], [[89, 6], [89, 7]], [[88, 8]], [[0, 147], [0, 148]], [[1, 150], [1, 151], [1, 152]], [[0, 0]], [[3, 40], [3, 41], [3, 42], [3, 43]], [[4, 57], [4, 58], [4, 59]], [[0, 0]], [[6, 85], [6, 86], [6, 87]], [[7, 63], [7, 64], [7, 65], [7, 66]], [[0, 0]], [[9, 25], [9, 26]], [[10, 45], [10, 46], [10, 47], [10, 48], [10, 49]], [[89, 1], [89, 2]], [[88, 3]], [[0, 183], [0, 184], [0, 185]], [[1, 178], [1, 179], [1, 180], [1, 181]], [[2, 71], [2, 72]], [[3, 52], [3, 53], [3, 54], [3, 55]], [[4, 67], [4, 68], [4, 69]], [[0, 0]], [[6, 143], [6, 144], [6, 145]], [[0, 0]], [[0, 0]], [[9, 18], [9, 19]], [[10, 22], [10, 23], [10, 24], [10, 25]], [[89, 10], [89, 11], [89, 12]], [[88, 13]], [[0, 171], [0, 172], [0, 173], [0, 174]], [[1, 166], [1, 167], [1, 168], [1, 169]], [[2, 68], [2, 69], [2, 70]], [[3, 44], [3, 45], [3, 46], [3, 47]], [[0, 0]], [[0, 0]], [[0, 0]], [[7, 62], [7, 63]], [[0, 0]], [[9, 15], [9, 16], [9, 17], [9, 18]], [[10, 36], [10, 37], [10, 38], [10, 39]], [[89, 1], [89, 2], [89, 3], [89, 4]], [[88, 5]], [[0, 169], [0, 170], [0, 171]], [[1, 165], [1, 166], [1, 167]], [[2, 55], [2, 56]], [[3, 21]], [[0, 0]], [[0, 0]], [[6, 100], [6, 101], [6, 102]], [[0, 0]], [[0, 0]], [[9, 132], [9, 133], [9, 134]], [[10, 25], [10, 26], [10, 27], [10, 28], [10, 29], [10, 30], [10, 31]], [[89, 1], [89, 2]], [[88, 3]], [], 0, 0, 0, 0, 0, 0, 0, 0]\n",
      "row_idx 92 [[[0, 181], [0, 182], [0, 183], [0, 184], [0, 185], [0, 186], [0, 187]], [[1, 174], [1, 175], [1, 176], [1, 177], [1, 178]], [[2, 49], [2, 50]], [[3, 43]], [[4, 52], [4, 53], [4, 54], [4, 55], [4, 56], [4, 57], [4, 58], [4, 59], [4, 60]], [[0, 0]], [[6, 100], [6, 101], [6, 102], [6, 103]], [[0, 0]], [[0, 0]], [[9, 24], [9, 25], [9, 26], [9, 27]], [[10, 15], [10, 16], [10, 17], [10, 18], [10, 19]], [[89, 4], [89, 5]], [[88, 6]], [[0, 0]], [[1, 137], [1, 138], [1, 139], [1, 140]], [[2, 68], [2, 69], [2, 70], [2, 71]], [[3, 40], [3, 41], [3, 42], [3, 43], [3, 44]], [[0, 0]], [[0, 0]], [[0, 0]], [[7, 66]], [[0, 0]], [[9, 13], [9, 14]], [[10, 16], [10, 17], [10, 18], [10, 19], [10, 20], [10, 21]], [[89, 1], [89, 2], [89, 3], [89, 4]], [[88, 5]], [[0, 186], [0, 187], [0, 188], [0, 189]], [[1, 181], [1, 182], [1, 183], [1, 184]], [[0, 0]], [[3, 40], [3, 41]], [[4, 118], [4, 119], [4, 120]], [[5, 125], [5, 126], [5, 127], [5, 128], [5, 129], [5, 130], [5, 131], [5, 132], [5, 133], [5, 134]], [[6, 80], [6, 81], [6, 82]], [[7, 122]], [[0, 0]], [[9, 33], [9, 34], [9, 35]], [[10, 42], [10, 43], [10, 44], [10, 45], [10, 46]], [[89, 6], [89, 7]], [[88, 8]], [[0, 147], [0, 148]], [[1, 150], [1, 151], [1, 152]], [[0, 0]], [[3, 40], [3, 41], [3, 42], [3, 43]], [[4, 57], [4, 58], [4, 59]], [[0, 0]], [[6, 85], [6, 86], [6, 87]], [[7, 63], [7, 64], [7, 65], [7, 66]], [[0, 0]], [[9, 25], [9, 26]], [[10, 45], [10, 46], [10, 47], [10, 48], [10, 49]], [[89, 1], [89, 2]], [[88, 3]], [[0, 183], [0, 184], [0, 185]], [[1, 178], [1, 179], [1, 180], [1, 181]], [[2, 71], [2, 72]], [[3, 52], [3, 53], [3, 54], [3, 55]], [[4, 67], [4, 68], [4, 69]], [[0, 0]], [[6, 143], [6, 144], [6, 145]], [[0, 0]], [[0, 0]], [[9, 18], [9, 19]], [[10, 22], [10, 23], [10, 24], [10, 25]], [[89, 10], [89, 11], [89, 12]], [[88, 13]], [[0, 171], [0, 172], [0, 173], [0, 174]], [[1, 166], [1, 167], [1, 168], [1, 169]], [[2, 68], [2, 69], [2, 70]], [[3, 44], [3, 45], [3, 46], [3, 47]], [[0, 0]], [[0, 0]], [[0, 0]], [[7, 62], [7, 63]], [[0, 0]], [[9, 15], [9, 16], [9, 17], [9, 18]], [[10, 36], [10, 37], [10, 38], [10, 39]], [[89, 1], [89, 2], [89, 3], [89, 4]], [[88, 5]], [[0, 169], [0, 170], [0, 171]], [[1, 165], [1, 166], [1, 167]], [[2, 55], [2, 56]], [[3, 21]], [[0, 0]], [[0, 0]], [[6, 100], [6, 101], [6, 102]], [[0, 0]], [[0, 0]], [[9, 132], [9, 133], [9, 134]], [[10, 25], [10, 26], [10, 27], [10, 28], [10, 29], [10, 30], [10, 31]], [[89, 1], [89, 2]], [[88, 3]], [], [[1, 158], [1, 159], [1, 160], [1, 161], [1, 162]], 0, 0, 0, 0, 0, 0, 0]\n",
      "row_idx 93 [[[0, 181], [0, 182], [0, 183], [0, 184], [0, 185], [0, 186], [0, 187]], [[1, 174], [1, 175], [1, 176], [1, 177], [1, 178]], [[2, 49], [2, 50]], [[3, 43]], [[4, 52], [4, 53], [4, 54], [4, 55], [4, 56], [4, 57], [4, 58], [4, 59], [4, 60]], [[0, 0]], [[6, 100], [6, 101], [6, 102], [6, 103]], [[0, 0]], [[0, 0]], [[9, 24], [9, 25], [9, 26], [9, 27]], [[10, 15], [10, 16], [10, 17], [10, 18], [10, 19]], [[89, 4], [89, 5]], [[88, 6]], [[0, 0]], [[1, 137], [1, 138], [1, 139], [1, 140]], [[2, 68], [2, 69], [2, 70], [2, 71]], [[3, 40], [3, 41], [3, 42], [3, 43], [3, 44]], [[0, 0]], [[0, 0]], [[0, 0]], [[7, 66]], [[0, 0]], [[9, 13], [9, 14]], [[10, 16], [10, 17], [10, 18], [10, 19], [10, 20], [10, 21]], [[89, 1], [89, 2], [89, 3], [89, 4]], [[88, 5]], [[0, 186], [0, 187], [0, 188], [0, 189]], [[1, 181], [1, 182], [1, 183], [1, 184]], [[0, 0]], [[3, 40], [3, 41]], [[4, 118], [4, 119], [4, 120]], [[5, 125], [5, 126], [5, 127], [5, 128], [5, 129], [5, 130], [5, 131], [5, 132], [5, 133], [5, 134]], [[6, 80], [6, 81], [6, 82]], [[7, 122]], [[0, 0]], [[9, 33], [9, 34], [9, 35]], [[10, 42], [10, 43], [10, 44], [10, 45], [10, 46]], [[89, 6], [89, 7]], [[88, 8]], [[0, 147], [0, 148]], [[1, 150], [1, 151], [1, 152]], [[0, 0]], [[3, 40], [3, 41], [3, 42], [3, 43]], [[4, 57], [4, 58], [4, 59]], [[0, 0]], [[6, 85], [6, 86], [6, 87]], [[7, 63], [7, 64], [7, 65], [7, 66]], [[0, 0]], [[9, 25], [9, 26]], [[10, 45], [10, 46], [10, 47], [10, 48], [10, 49]], [[89, 1], [89, 2]], [[88, 3]], [[0, 183], [0, 184], [0, 185]], [[1, 178], [1, 179], [1, 180], [1, 181]], [[2, 71], [2, 72]], [[3, 52], [3, 53], [3, 54], [3, 55]], [[4, 67], [4, 68], [4, 69]], [[0, 0]], [[6, 143], [6, 144], [6, 145]], [[0, 0]], [[0, 0]], [[9, 18], [9, 19]], [[10, 22], [10, 23], [10, 24], [10, 25]], [[89, 10], [89, 11], [89, 12]], [[88, 13]], [[0, 171], [0, 172], [0, 173], [0, 174]], [[1, 166], [1, 167], [1, 168], [1, 169]], [[2, 68], [2, 69], [2, 70]], [[3, 44], [3, 45], [3, 46], [3, 47]], [[0, 0]], [[0, 0]], [[0, 0]], [[7, 62], [7, 63]], [[0, 0]], [[9, 15], [9, 16], [9, 17], [9, 18]], [[10, 36], [10, 37], [10, 38], [10, 39]], [[89, 1], [89, 2], [89, 3], [89, 4]], [[88, 5]], [[0, 169], [0, 170], [0, 171]], [[1, 165], [1, 166], [1, 167]], [[2, 55], [2, 56]], [[3, 21]], [[0, 0]], [[0, 0]], [[6, 100], [6, 101], [6, 102]], [[0, 0]], [[0, 0]], [[9, 132], [9, 133], [9, 134]], [[10, 25], [10, 26], [10, 27], [10, 28], [10, 29], [10, 30], [10, 31]], [[89, 1], [89, 2]], [[88, 3]], [], [[1, 158], [1, 159], [1, 160], [1, 161], [1, 162]], [[2, 97], [2, 98]], 0, 0, 0, 0, 0, 0]\n",
      "row_idx 94 [[[0, 181], [0, 182], [0, 183], [0, 184], [0, 185], [0, 186], [0, 187]], [[1, 174], [1, 175], [1, 176], [1, 177], [1, 178]], [[2, 49], [2, 50]], [[3, 43]], [[4, 52], [4, 53], [4, 54], [4, 55], [4, 56], [4, 57], [4, 58], [4, 59], [4, 60]], [[0, 0]], [[6, 100], [6, 101], [6, 102], [6, 103]], [[0, 0]], [[0, 0]], [[9, 24], [9, 25], [9, 26], [9, 27]], [[10, 15], [10, 16], [10, 17], [10, 18], [10, 19]], [[89, 4], [89, 5]], [[88, 6]], [[0, 0]], [[1, 137], [1, 138], [1, 139], [1, 140]], [[2, 68], [2, 69], [2, 70], [2, 71]], [[3, 40], [3, 41], [3, 42], [3, 43], [3, 44]], [[0, 0]], [[0, 0]], [[0, 0]], [[7, 66]], [[0, 0]], [[9, 13], [9, 14]], [[10, 16], [10, 17], [10, 18], [10, 19], [10, 20], [10, 21]], [[89, 1], [89, 2], [89, 3], [89, 4]], [[88, 5]], [[0, 186], [0, 187], [0, 188], [0, 189]], [[1, 181], [1, 182], [1, 183], [1, 184]], [[0, 0]], [[3, 40], [3, 41]], [[4, 118], [4, 119], [4, 120]], [[5, 125], [5, 126], [5, 127], [5, 128], [5, 129], [5, 130], [5, 131], [5, 132], [5, 133], [5, 134]], [[6, 80], [6, 81], [6, 82]], [[7, 122]], [[0, 0]], [[9, 33], [9, 34], [9, 35]], [[10, 42], [10, 43], [10, 44], [10, 45], [10, 46]], [[89, 6], [89, 7]], [[88, 8]], [[0, 147], [0, 148]], [[1, 150], [1, 151], [1, 152]], [[0, 0]], [[3, 40], [3, 41], [3, 42], [3, 43]], [[4, 57], [4, 58], [4, 59]], [[0, 0]], [[6, 85], [6, 86], [6, 87]], [[7, 63], [7, 64], [7, 65], [7, 66]], [[0, 0]], [[9, 25], [9, 26]], [[10, 45], [10, 46], [10, 47], [10, 48], [10, 49]], [[89, 1], [89, 2]], [[88, 3]], [[0, 183], [0, 184], [0, 185]], [[1, 178], [1, 179], [1, 180], [1, 181]], [[2, 71], [2, 72]], [[3, 52], [3, 53], [3, 54], [3, 55]], [[4, 67], [4, 68], [4, 69]], [[0, 0]], [[6, 143], [6, 144], [6, 145]], [[0, 0]], [[0, 0]], [[9, 18], [9, 19]], [[10, 22], [10, 23], [10, 24], [10, 25]], [[89, 10], [89, 11], [89, 12]], [[88, 13]], [[0, 171], [0, 172], [0, 173], [0, 174]], [[1, 166], [1, 167], [1, 168], [1, 169]], [[2, 68], [2, 69], [2, 70]], [[3, 44], [3, 45], [3, 46], [3, 47]], [[0, 0]], [[0, 0]], [[0, 0]], [[7, 62], [7, 63]], [[0, 0]], [[9, 15], [9, 16], [9, 17], [9, 18]], [[10, 36], [10, 37], [10, 38], [10, 39]], [[89, 1], [89, 2], [89, 3], [89, 4]], [[88, 5]], [[0, 169], [0, 170], [0, 171]], [[1, 165], [1, 166], [1, 167]], [[2, 55], [2, 56]], [[3, 21]], [[0, 0]], [[0, 0]], [[6, 100], [6, 101], [6, 102]], [[0, 0]], [[0, 0]], [[9, 132], [9, 133], [9, 134]], [[10, 25], [10, 26], [10, 27], [10, 28], [10, 29], [10, 30], [10, 31]], [[89, 1], [89, 2]], [[88, 3]], [], [[1, 158], [1, 159], [1, 160], [1, 161], [1, 162]], [[2, 97], [2, 98]], [[3, 55]], 0, 0, 0, 0, 0]\n",
      "row_idx 95 [[[0, 181], [0, 182], [0, 183], [0, 184], [0, 185], [0, 186], [0, 187]], [[1, 174], [1, 175], [1, 176], [1, 177], [1, 178]], [[2, 49], [2, 50]], [[3, 43]], [[4, 52], [4, 53], [4, 54], [4, 55], [4, 56], [4, 57], [4, 58], [4, 59], [4, 60]], [[0, 0]], [[6, 100], [6, 101], [6, 102], [6, 103]], [[0, 0]], [[0, 0]], [[9, 24], [9, 25], [9, 26], [9, 27]], [[10, 15], [10, 16], [10, 17], [10, 18], [10, 19]], [[89, 4], [89, 5]], [[88, 6]], [[0, 0]], [[1, 137], [1, 138], [1, 139], [1, 140]], [[2, 68], [2, 69], [2, 70], [2, 71]], [[3, 40], [3, 41], [3, 42], [3, 43], [3, 44]], [[0, 0]], [[0, 0]], [[0, 0]], [[7, 66]], [[0, 0]], [[9, 13], [9, 14]], [[10, 16], [10, 17], [10, 18], [10, 19], [10, 20], [10, 21]], [[89, 1], [89, 2], [89, 3], [89, 4]], [[88, 5]], [[0, 186], [0, 187], [0, 188], [0, 189]], [[1, 181], [1, 182], [1, 183], [1, 184]], [[0, 0]], [[3, 40], [3, 41]], [[4, 118], [4, 119], [4, 120]], [[5, 125], [5, 126], [5, 127], [5, 128], [5, 129], [5, 130], [5, 131], [5, 132], [5, 133], [5, 134]], [[6, 80], [6, 81], [6, 82]], [[7, 122]], [[0, 0]], [[9, 33], [9, 34], [9, 35]], [[10, 42], [10, 43], [10, 44], [10, 45], [10, 46]], [[89, 6], [89, 7]], [[88, 8]], [[0, 147], [0, 148]], [[1, 150], [1, 151], [1, 152]], [[0, 0]], [[3, 40], [3, 41], [3, 42], [3, 43]], [[4, 57], [4, 58], [4, 59]], [[0, 0]], [[6, 85], [6, 86], [6, 87]], [[7, 63], [7, 64], [7, 65], [7, 66]], [[0, 0]], [[9, 25], [9, 26]], [[10, 45], [10, 46], [10, 47], [10, 48], [10, 49]], [[89, 1], [89, 2]], [[88, 3]], [[0, 183], [0, 184], [0, 185]], [[1, 178], [1, 179], [1, 180], [1, 181]], [[2, 71], [2, 72]], [[3, 52], [3, 53], [3, 54], [3, 55]], [[4, 67], [4, 68], [4, 69]], [[0, 0]], [[6, 143], [6, 144], [6, 145]], [[0, 0]], [[0, 0]], [[9, 18], [9, 19]], [[10, 22], [10, 23], [10, 24], [10, 25]], [[89, 10], [89, 11], [89, 12]], [[88, 13]], [[0, 171], [0, 172], [0, 173], [0, 174]], [[1, 166], [1, 167], [1, 168], [1, 169]], [[2, 68], [2, 69], [2, 70]], [[3, 44], [3, 45], [3, 46], [3, 47]], [[0, 0]], [[0, 0]], [[0, 0]], [[7, 62], [7, 63]], [[0, 0]], [[9, 15], [9, 16], [9, 17], [9, 18]], [[10, 36], [10, 37], [10, 38], [10, 39]], [[89, 1], [89, 2], [89, 3], [89, 4]], [[88, 5]], [[0, 169], [0, 170], [0, 171]], [[1, 165], [1, 166], [1, 167]], [[2, 55], [2, 56]], [[3, 21]], [[0, 0]], [[0, 0]], [[6, 100], [6, 101], [6, 102]], [[0, 0]], [[0, 0]], [[9, 132], [9, 133], [9, 134]], [[10, 25], [10, 26], [10, 27], [10, 28], [10, 29], [10, 30], [10, 31]], [[89, 1], [89, 2]], [[88, 3]], [], [[1, 158], [1, 159], [1, 160], [1, 161], [1, 162]], [[2, 97], [2, 98]], [[3, 55]], [[4, 88], [4, 89], [4, 90]], 0, 0, 0, 0]\n",
      "row_idx 96 [[[0, 181], [0, 182], [0, 183], [0, 184], [0, 185], [0, 186], [0, 187]], [[1, 174], [1, 175], [1, 176], [1, 177], [1, 178]], [[2, 49], [2, 50]], [[3, 43]], [[4, 52], [4, 53], [4, 54], [4, 55], [4, 56], [4, 57], [4, 58], [4, 59], [4, 60]], [[0, 0]], [[6, 100], [6, 101], [6, 102], [6, 103]], [[0, 0]], [[0, 0]], [[9, 24], [9, 25], [9, 26], [9, 27]], [[10, 15], [10, 16], [10, 17], [10, 18], [10, 19]], [[89, 4], [89, 5]], [[88, 6]], [[0, 0]], [[1, 137], [1, 138], [1, 139], [1, 140]], [[2, 68], [2, 69], [2, 70], [2, 71]], [[3, 40], [3, 41], [3, 42], [3, 43], [3, 44]], [[0, 0]], [[0, 0]], [[0, 0]], [[7, 66]], [[0, 0]], [[9, 13], [9, 14]], [[10, 16], [10, 17], [10, 18], [10, 19], [10, 20], [10, 21]], [[89, 1], [89, 2], [89, 3], [89, 4]], [[88, 5]], [[0, 186], [0, 187], [0, 188], [0, 189]], [[1, 181], [1, 182], [1, 183], [1, 184]], [[0, 0]], [[3, 40], [3, 41]], [[4, 118], [4, 119], [4, 120]], [[5, 125], [5, 126], [5, 127], [5, 128], [5, 129], [5, 130], [5, 131], [5, 132], [5, 133], [5, 134]], [[6, 80], [6, 81], [6, 82]], [[7, 122]], [[0, 0]], [[9, 33], [9, 34], [9, 35]], [[10, 42], [10, 43], [10, 44], [10, 45], [10, 46]], [[89, 6], [89, 7]], [[88, 8]], [[0, 147], [0, 148]], [[1, 150], [1, 151], [1, 152]], [[0, 0]], [[3, 40], [3, 41], [3, 42], [3, 43]], [[4, 57], [4, 58], [4, 59]], [[0, 0]], [[6, 85], [6, 86], [6, 87]], [[7, 63], [7, 64], [7, 65], [7, 66]], [[0, 0]], [[9, 25], [9, 26]], [[10, 45], [10, 46], [10, 47], [10, 48], [10, 49]], [[89, 1], [89, 2]], [[88, 3]], [[0, 183], [0, 184], [0, 185]], [[1, 178], [1, 179], [1, 180], [1, 181]], [[2, 71], [2, 72]], [[3, 52], [3, 53], [3, 54], [3, 55]], [[4, 67], [4, 68], [4, 69]], [[0, 0]], [[6, 143], [6, 144], [6, 145]], [[0, 0]], [[0, 0]], [[9, 18], [9, 19]], [[10, 22], [10, 23], [10, 24], [10, 25]], [[89, 10], [89, 11], [89, 12]], [[88, 13]], [[0, 171], [0, 172], [0, 173], [0, 174]], [[1, 166], [1, 167], [1, 168], [1, 169]], [[2, 68], [2, 69], [2, 70]], [[3, 44], [3, 45], [3, 46], [3, 47]], [[0, 0]], [[0, 0]], [[0, 0]], [[7, 62], [7, 63]], [[0, 0]], [[9, 15], [9, 16], [9, 17], [9, 18]], [[10, 36], [10, 37], [10, 38], [10, 39]], [[89, 1], [89, 2], [89, 3], [89, 4]], [[88, 5]], [[0, 169], [0, 170], [0, 171]], [[1, 165], [1, 166], [1, 167]], [[2, 55], [2, 56]], [[3, 21]], [[0, 0]], [[0, 0]], [[6, 100], [6, 101], [6, 102]], [[0, 0]], [[0, 0]], [[9, 132], [9, 133], [9, 134]], [[10, 25], [10, 26], [10, 27], [10, 28], [10, 29], [10, 30], [10, 31]], [[89, 1], [89, 2]], [[88, 3]], [], [[1, 158], [1, 159], [1, 160], [1, 161], [1, 162]], [[2, 97], [2, 98]], [[3, 55]], [[4, 88], [4, 89], [4, 90]], [], 0, 0, 0]\n",
      "row_idx 97 [[[0, 181], [0, 182], [0, 183], [0, 184], [0, 185], [0, 186], [0, 187]], [[1, 174], [1, 175], [1, 176], [1, 177], [1, 178]], [[2, 49], [2, 50]], [[3, 43]], [[4, 52], [4, 53], [4, 54], [4, 55], [4, 56], [4, 57], [4, 58], [4, 59], [4, 60]], [[0, 0]], [[6, 100], [6, 101], [6, 102], [6, 103]], [[0, 0]], [[0, 0]], [[9, 24], [9, 25], [9, 26], [9, 27]], [[10, 15], [10, 16], [10, 17], [10, 18], [10, 19]], [[89, 4], [89, 5]], [[88, 6]], [[0, 0]], [[1, 137], [1, 138], [1, 139], [1, 140]], [[2, 68], [2, 69], [2, 70], [2, 71]], [[3, 40], [3, 41], [3, 42], [3, 43], [3, 44]], [[0, 0]], [[0, 0]], [[0, 0]], [[7, 66]], [[0, 0]], [[9, 13], [9, 14]], [[10, 16], [10, 17], [10, 18], [10, 19], [10, 20], [10, 21]], [[89, 1], [89, 2], [89, 3], [89, 4]], [[88, 5]], [[0, 186], [0, 187], [0, 188], [0, 189]], [[1, 181], [1, 182], [1, 183], [1, 184]], [[0, 0]], [[3, 40], [3, 41]], [[4, 118], [4, 119], [4, 120]], [[5, 125], [5, 126], [5, 127], [5, 128], [5, 129], [5, 130], [5, 131], [5, 132], [5, 133], [5, 134]], [[6, 80], [6, 81], [6, 82]], [[7, 122]], [[0, 0]], [[9, 33], [9, 34], [9, 35]], [[10, 42], [10, 43], [10, 44], [10, 45], [10, 46]], [[89, 6], [89, 7]], [[88, 8]], [[0, 147], [0, 148]], [[1, 150], [1, 151], [1, 152]], [[0, 0]], [[3, 40], [3, 41], [3, 42], [3, 43]], [[4, 57], [4, 58], [4, 59]], [[0, 0]], [[6, 85], [6, 86], [6, 87]], [[7, 63], [7, 64], [7, 65], [7, 66]], [[0, 0]], [[9, 25], [9, 26]], [[10, 45], [10, 46], [10, 47], [10, 48], [10, 49]], [[89, 1], [89, 2]], [[88, 3]], [[0, 183], [0, 184], [0, 185]], [[1, 178], [1, 179], [1, 180], [1, 181]], [[2, 71], [2, 72]], [[3, 52], [3, 53], [3, 54], [3, 55]], [[4, 67], [4, 68], [4, 69]], [[0, 0]], [[6, 143], [6, 144], [6, 145]], [[0, 0]], [[0, 0]], [[9, 18], [9, 19]], [[10, 22], [10, 23], [10, 24], [10, 25]], [[89, 10], [89, 11], [89, 12]], [[88, 13]], [[0, 171], [0, 172], [0, 173], [0, 174]], [[1, 166], [1, 167], [1, 168], [1, 169]], [[2, 68], [2, 69], [2, 70]], [[3, 44], [3, 45], [3, 46], [3, 47]], [[0, 0]], [[0, 0]], [[0, 0]], [[7, 62], [7, 63]], [[0, 0]], [[9, 15], [9, 16], [9, 17], [9, 18]], [[10, 36], [10, 37], [10, 38], [10, 39]], [[89, 1], [89, 2], [89, 3], [89, 4]], [[88, 5]], [[0, 169], [0, 170], [0, 171]], [[1, 165], [1, 166], [1, 167]], [[2, 55], [2, 56]], [[3, 21]], [[0, 0]], [[0, 0]], [[6, 100], [6, 101], [6, 102]], [[0, 0]], [[0, 0]], [[9, 132], [9, 133], [9, 134]], [[10, 25], [10, 26], [10, 27], [10, 28], [10, 29], [10, 30], [10, 31]], [[89, 1], [89, 2]], [[88, 3]], [], [[1, 158], [1, 159], [1, 160], [1, 161], [1, 162]], [[2, 97], [2, 98]], [[3, 55]], [[4, 88], [4, 89], [4, 90]], [], [[6, 138], [6, 139], [6, 140]], 0, 0]\n",
      "row_idx 98 [[[0, 181], [0, 182], [0, 183], [0, 184], [0, 185], [0, 186], [0, 187]], [[1, 174], [1, 175], [1, 176], [1, 177], [1, 178]], [[2, 49], [2, 50]], [[3, 43]], [[4, 52], [4, 53], [4, 54], [4, 55], [4, 56], [4, 57], [4, 58], [4, 59], [4, 60]], [[0, 0]], [[6, 100], [6, 101], [6, 102], [6, 103]], [[0, 0]], [[0, 0]], [[9, 24], [9, 25], [9, 26], [9, 27]], [[10, 15], [10, 16], [10, 17], [10, 18], [10, 19]], [[89, 4], [89, 5]], [[88, 6]], [[0, 0]], [[1, 137], [1, 138], [1, 139], [1, 140]], [[2, 68], [2, 69], [2, 70], [2, 71]], [[3, 40], [3, 41], [3, 42], [3, 43], [3, 44]], [[0, 0]], [[0, 0]], [[0, 0]], [[7, 66]], [[0, 0]], [[9, 13], [9, 14]], [[10, 16], [10, 17], [10, 18], [10, 19], [10, 20], [10, 21]], [[89, 1], [89, 2], [89, 3], [89, 4]], [[88, 5]], [[0, 186], [0, 187], [0, 188], [0, 189]], [[1, 181], [1, 182], [1, 183], [1, 184]], [[0, 0]], [[3, 40], [3, 41]], [[4, 118], [4, 119], [4, 120]], [[5, 125], [5, 126], [5, 127], [5, 128], [5, 129], [5, 130], [5, 131], [5, 132], [5, 133], [5, 134]], [[6, 80], [6, 81], [6, 82]], [[7, 122]], [[0, 0]], [[9, 33], [9, 34], [9, 35]], [[10, 42], [10, 43], [10, 44], [10, 45], [10, 46]], [[89, 6], [89, 7]], [[88, 8]], [[0, 147], [0, 148]], [[1, 150], [1, 151], [1, 152]], [[0, 0]], [[3, 40], [3, 41], [3, 42], [3, 43]], [[4, 57], [4, 58], [4, 59]], [[0, 0]], [[6, 85], [6, 86], [6, 87]], [[7, 63], [7, 64], [7, 65], [7, 66]], [[0, 0]], [[9, 25], [9, 26]], [[10, 45], [10, 46], [10, 47], [10, 48], [10, 49]], [[89, 1], [89, 2]], [[88, 3]], [[0, 183], [0, 184], [0, 185]], [[1, 178], [1, 179], [1, 180], [1, 181]], [[2, 71], [2, 72]], [[3, 52], [3, 53], [3, 54], [3, 55]], [[4, 67], [4, 68], [4, 69]], [[0, 0]], [[6, 143], [6, 144], [6, 145]], [[0, 0]], [[0, 0]], [[9, 18], [9, 19]], [[10, 22], [10, 23], [10, 24], [10, 25]], [[89, 10], [89, 11], [89, 12]], [[88, 13]], [[0, 171], [0, 172], [0, 173], [0, 174]], [[1, 166], [1, 167], [1, 168], [1, 169]], [[2, 68], [2, 69], [2, 70]], [[3, 44], [3, 45], [3, 46], [3, 47]], [[0, 0]], [[0, 0]], [[0, 0]], [[7, 62], [7, 63]], [[0, 0]], [[9, 15], [9, 16], [9, 17], [9, 18]], [[10, 36], [10, 37], [10, 38], [10, 39]], [[89, 1], [89, 2], [89, 3], [89, 4]], [[88, 5]], [[0, 169], [0, 170], [0, 171]], [[1, 165], [1, 166], [1, 167]], [[2, 55], [2, 56]], [[3, 21]], [[0, 0]], [[0, 0]], [[6, 100], [6, 101], [6, 102]], [[0, 0]], [[0, 0]], [[9, 132], [9, 133], [9, 134]], [[10, 25], [10, 26], [10, 27], [10, 28], [10, 29], [10, 30], [10, 31]], [[89, 1], [89, 2]], [[88, 3]], [], [[1, 158], [1, 159], [1, 160], [1, 161], [1, 162]], [[2, 97], [2, 98]], [[3, 55]], [[4, 88], [4, 89], [4, 90]], [], [[6, 138], [6, 139], [6, 140]], [[7, 92], [7, 93], [7, 94]], 0]\n"
     ]
    },
    {
     "ename": "ValueError",
     "evalue": "Can't convert non-rectangular Python sequence to Tensor.",
     "output_type": "error",
     "traceback": [
      "\u001b[1;31m---------------------------------------------------------------------------\u001b[0m",
      "\u001b[1;31mTypeError\u001b[0m                                 Traceback (most recent call last)",
      "\u001b[1;32m~\\anaconda3\\envs\\ML2\\lib\\site-packages\\tensorflow\\python\\data\\util\\structure.py\u001b[0m in \u001b[0;36mnormalize_element\u001b[1;34m(element, element_signature)\u001b[0m\n\u001b[0;32m    101\u001b[0m         \u001b[1;32mif\u001b[0m \u001b[0mspec\u001b[0m \u001b[1;32mis\u001b[0m \u001b[1;32mNone\u001b[0m\u001b[1;33m:\u001b[0m\u001b[1;33m\u001b[0m\u001b[1;33m\u001b[0m\u001b[0m\n\u001b[1;32m--> 102\u001b[1;33m           \u001b[0mspec\u001b[0m \u001b[1;33m=\u001b[0m \u001b[0mtype_spec_from_value\u001b[0m\u001b[1;33m(\u001b[0m\u001b[0mt\u001b[0m\u001b[1;33m,\u001b[0m \u001b[0muse_fallback\u001b[0m\u001b[1;33m=\u001b[0m\u001b[1;32mFalse\u001b[0m\u001b[1;33m)\u001b[0m\u001b[1;33m\u001b[0m\u001b[1;33m\u001b[0m\u001b[0m\n\u001b[0m\u001b[0;32m    103\u001b[0m       \u001b[1;32mexcept\u001b[0m \u001b[0mTypeError\u001b[0m\u001b[1;33m:\u001b[0m\u001b[1;33m\u001b[0m\u001b[1;33m\u001b[0m\u001b[0m\n",
      "\u001b[1;32m~\\anaconda3\\envs\\ML2\\lib\\site-packages\\tensorflow\\python\\data\\util\\structure.py\u001b[0m in \u001b[0;36mtype_spec_from_value\u001b[1;34m(element, use_fallback)\u001b[0m\n\u001b[0;32m    484\u001b[0m \u001b[1;33m\u001b[0m\u001b[0m\n\u001b[1;32m--> 485\u001b[1;33m   raise TypeError(\"Could not build a `TypeSpec` for {} with type {}\".format(\n\u001b[0m\u001b[0;32m    486\u001b[0m       \u001b[0melement\u001b[0m\u001b[1;33m,\u001b[0m\u001b[1;33m\u001b[0m\u001b[1;33m\u001b[0m\u001b[0m\n",
      "\u001b[1;31mTypeError\u001b[0m: Could not build a `TypeSpec` for [[[0, 181], [0, 182], [0, 183], [0, 184], [0, 185], [0, 186], [0, 187]], [[1, 174], [1, 175], [1, 176], [1, 177], [1, 178]], [[2, 49], [2, 50]], [[3, 43]], [[4, 52], [4, 53], [4, 54], [4, 55], [4, 56], [4, 57], [4, 58], [4, 59], [4, 60]], [[0, 0]], [[6, 100], [6, 101], [6, 102], [6, 103]], [[0, 0]], [[0, 0]], [[9, 24], [9, 25], [9, 26], [9, 27]], [[10, 15], [10, 16], [10, 17], [10, 18], [10, 19]], [[89, 4], [89, 5]], [[88, 6]], [[0, 0]], [[1, 137], [1, 138], [1, 139], [1, 140]], [[2, 68], [2, 69], [2, 70], [2, 71]], [[3, 40], [3, 41], [3, 42], [3, 43], [3, 44]], [[0, 0]], [[0, 0]], [[0, 0]], [[7, 66]], [[0, 0]], [[9, 13], [9, 14]], [[10, 16], [10, 17], [10, 18], [10, 19], [10, 20], [10, 21]], [[89, 1], [89, 2], [89, 3], [89, 4]], [[88, 5]], [[0, 186], [0, 187], [0, 188], [0, 189]], [[1, 181], [1, 182], [1, 183], [1, 184]], [[0, 0]], [[3, 40], [3, 41]], [[4, 118], [4, 119], [4, 120]], [[5, 125], [5, 126], [5, 127], [5, 128], [5, 129], [5, 130], [5, 131], [5, 132], [5, 133], [5, 134]], [[6, 80], [6, 81], [6, 82]], [[7, 122]], [[0, 0]], [[9, 33], [9, 34], [9, 35]], [[10, 42], [10, 43], [10, 44], [10, 45], [10, 46]], [[89, 6], [89, 7]], [[88, 8]], [[0, 147], [0, 148]], [[1, 150], [1, 151], [1, 152]], [[0, 0]], [[3, 40], [3, 41], [3, 42], [3, 43]], [[4, 57], [4, 58], [4, 59]], [[0, 0]], [[6, 85], [6, 86], [6, 87]], [[7, 63], [7, 64], [7, 65], [7, 66]], [[0, 0]], [[9, 25], [9, 26]], [[10, 45], [10, 46], [10, 47], [10, 48], [10, 49]], [[89, 1], [89, 2]], [[88, 3]], [[0, 183], [0, 184], [0, 185]], [[1, 178], [1, 179], [1, 180], [1, 181]], [[2, 71], [2, 72]], [[3, 52], [3, 53], [3, 54], [3, 55]], [[4, 67], [4, 68], [4, 69]], [[0, 0]], [[6, 143], [6, 144], [6, 145]], [[0, 0]], [[0, 0]], [[9, 18], [9, 19]], [[10, 22], [10, 23], [10, 24], [10, 25]], [[89, 10], [89, 11], [89, 12]], [[88, 13]], [[0, 171], [0, 172], [0, 173], [0, 174]], [[1, 166], [1, 167], [1, 168], [1, 169]], [[2, 68], [2, 69], [2, 70]], [[3, 44], [3, 45], [3, 46], [3, 47]], [[0, 0]], [[0, 0]], [[0, 0]], [[7, 62], [7, 63]], [[0, 0]], [[9, 15], [9, 16], [9, 17], [9, 18]], [[10, 36], [10, 37], [10, 38], [10, 39]], [[89, 1], [89, 2], [89, 3], [89, 4]], [[88, 5]], [[0, 169], [0, 170], [0, 171]], [[1, 165], [1, 166], [1, 167]], [[2, 55], [2, 56]], [[3, 21]], [[0, 0]], [[0, 0]], [[6, 100], [6, 101], [6, 102]], [[0, 0]], [[0, 0]], [[9, 132], [9, 133], [9, 134]], [[10, 25], [10, 26], [10, 27], [10, 28], [10, 29], [10, 30], [10, 31]], [[89, 1], [89, 2]], [[88, 3]], [], [[1, 158], [1, 159], [1, 160], [1, 161], [1, 162]], [[2, 97], [2, 98]], [[3, 55]], [[4, 88], [4, 89], [4, 90]], [], [[6, 138], [6, 139], [6, 140]], [[7, 92], [7, 93], [7, 94]], [[0, 0]]] with type list",
      "\nDuring handling of the above exception, another exception occurred:\n",
      "\u001b[1;31mValueError\u001b[0m                                Traceback (most recent call last)",
      "\u001b[1;32m~\\AppData\\Local\\Temp/ipykernel_24996/1959989939.py\u001b[0m in \u001b[0;36m<module>\u001b[1;34m\u001b[0m\n\u001b[0;32m     10\u001b[0m     \u001b[0mseq_length\u001b[0m\u001b[1;33m=\u001b[0m\u001b[0mSEQ_LENGTH\u001b[0m\u001b[1;33m\u001b[0m\u001b[1;33m\u001b[0m\u001b[0m\n\u001b[0;32m     11\u001b[0m )\n\u001b[1;32m---> 12\u001b[1;33m \u001b[0mtrain_data\u001b[0m \u001b[1;33m=\u001b[0m \u001b[0mtf\u001b[0m\u001b[1;33m.\u001b[0m\u001b[0mdata\u001b[0m\u001b[1;33m.\u001b[0m\u001b[0mDataset\u001b[0m\u001b[1;33m.\u001b[0m\u001b[0mfrom_tensor_slices\u001b[0m\u001b[1;33m(\u001b[0m\u001b[1;33m(\u001b[0m\u001b[0mx\u001b[0m\u001b[1;33m,\u001b[0m \u001b[0my\u001b[0m\u001b[1;33m)\u001b[0m\u001b[1;33m)\u001b[0m\u001b[1;33m\u001b[0m\u001b[1;33m\u001b[0m\u001b[0m\n\u001b[0m\u001b[0;32m     13\u001b[0m \u001b[0mtrain_data\u001b[0m \u001b[1;33m=\u001b[0m \u001b[0mtrain_data\u001b[0m\u001b[1;33m.\u001b[0m\u001b[0mmap\u001b[0m\u001b[1;33m(\u001b[0m\u001b[0mget_dense_label\u001b[0m\u001b[1;33m,\u001b[0m \u001b[0mnum_parallel_calls\u001b[0m\u001b[1;33m=\u001b[0m\u001b[0mtf\u001b[0m\u001b[1;33m.\u001b[0m\u001b[0mdata\u001b[0m\u001b[1;33m.\u001b[0m\u001b[0mexperimental\u001b[0m\u001b[1;33m.\u001b[0m\u001b[0mAUTOTUNE\u001b[0m\u001b[1;33m,\u001b[0m \u001b[0mdeterministic\u001b[0m\u001b[1;33m=\u001b[0m\u001b[1;32mFalse\u001b[0m\u001b[1;33m)\u001b[0m\u001b[1;33m\u001b[0m\u001b[1;33m\u001b[0m\u001b[0m\n\u001b[0;32m     14\u001b[0m \u001b[0mtrain_data\u001b[0m \u001b[1;33m=\u001b[0m \u001b[0mtrain_data\u001b[0m\u001b[1;33m.\u001b[0m\u001b[0mbatch\u001b[0m\u001b[1;33m(\u001b[0m\u001b[0mBATCH_SIZE\u001b[0m\u001b[1;33m)\u001b[0m\u001b[1;33m\u001b[0m\u001b[1;33m\u001b[0m\u001b[0m\n",
      "\u001b[1;32m~\\anaconda3\\envs\\ML2\\lib\\site-packages\\tensorflow\\python\\data\\ops\\dataset_ops.py\u001b[0m in \u001b[0;36mfrom_tensor_slices\u001b[1;34m(tensors, name)\u001b[0m\n\u001b[0;32m    791\u001b[0m       \u001b[0mDataset\u001b[0m\u001b[1;33m:\u001b[0m \u001b[0mA\u001b[0m\u001b[0;31m \u001b[0m\u001b[0;31m`\u001b[0m\u001b[0mDataset\u001b[0m\u001b[0;31m`\u001b[0m\u001b[1;33m.\u001b[0m\u001b[1;33m\u001b[0m\u001b[1;33m\u001b[0m\u001b[0m\n\u001b[0;32m    792\u001b[0m     \"\"\"\n\u001b[1;32m--> 793\u001b[1;33m     \u001b[1;32mreturn\u001b[0m \u001b[0mTensorSliceDataset\u001b[0m\u001b[1;33m(\u001b[0m\u001b[0mtensors\u001b[0m\u001b[1;33m,\u001b[0m \u001b[0mname\u001b[0m\u001b[1;33m=\u001b[0m\u001b[0mname\u001b[0m\u001b[1;33m)\u001b[0m\u001b[1;33m\u001b[0m\u001b[1;33m\u001b[0m\u001b[0m\n\u001b[0m\u001b[0;32m    794\u001b[0m \u001b[1;33m\u001b[0m\u001b[0m\n\u001b[0;32m    795\u001b[0m   \u001b[1;32mclass\u001b[0m \u001b[0m_GeneratorState\u001b[0m\u001b[1;33m(\u001b[0m\u001b[0mobject\u001b[0m\u001b[1;33m)\u001b[0m\u001b[1;33m:\u001b[0m\u001b[1;33m\u001b[0m\u001b[1;33m\u001b[0m\u001b[0m\n",
      "\u001b[1;32m~\\anaconda3\\envs\\ML2\\lib\\site-packages\\tensorflow\\python\\data\\ops\\dataset_ops.py\u001b[0m in \u001b[0;36m__init__\u001b[1;34m(self, element, is_files, name)\u001b[0m\n\u001b[0;32m   4475\u001b[0m   \u001b[1;32mdef\u001b[0m \u001b[0m__init__\u001b[0m\u001b[1;33m(\u001b[0m\u001b[0mself\u001b[0m\u001b[1;33m,\u001b[0m \u001b[0melement\u001b[0m\u001b[1;33m,\u001b[0m \u001b[0mis_files\u001b[0m\u001b[1;33m=\u001b[0m\u001b[1;32mFalse\u001b[0m\u001b[1;33m,\u001b[0m \u001b[0mname\u001b[0m\u001b[1;33m=\u001b[0m\u001b[1;32mNone\u001b[0m\u001b[1;33m)\u001b[0m\u001b[1;33m:\u001b[0m\u001b[1;33m\u001b[0m\u001b[1;33m\u001b[0m\u001b[0m\n\u001b[0;32m   4476\u001b[0m     \u001b[1;34m\"\"\"See `Dataset.from_tensor_slices()` for details.\"\"\"\u001b[0m\u001b[1;33m\u001b[0m\u001b[1;33m\u001b[0m\u001b[0m\n\u001b[1;32m-> 4477\u001b[1;33m     \u001b[0melement\u001b[0m \u001b[1;33m=\u001b[0m \u001b[0mstructure\u001b[0m\u001b[1;33m.\u001b[0m\u001b[0mnormalize_element\u001b[0m\u001b[1;33m(\u001b[0m\u001b[0melement\u001b[0m\u001b[1;33m)\u001b[0m\u001b[1;33m\u001b[0m\u001b[1;33m\u001b[0m\u001b[0m\n\u001b[0m\u001b[0;32m   4478\u001b[0m     \u001b[0mbatched_spec\u001b[0m \u001b[1;33m=\u001b[0m \u001b[0mstructure\u001b[0m\u001b[1;33m.\u001b[0m\u001b[0mtype_spec_from_value\u001b[0m\u001b[1;33m(\u001b[0m\u001b[0melement\u001b[0m\u001b[1;33m)\u001b[0m\u001b[1;33m\u001b[0m\u001b[1;33m\u001b[0m\u001b[0m\n\u001b[0;32m   4479\u001b[0m     \u001b[0mself\u001b[0m\u001b[1;33m.\u001b[0m\u001b[0m_tensors\u001b[0m \u001b[1;33m=\u001b[0m \u001b[0mstructure\u001b[0m\u001b[1;33m.\u001b[0m\u001b[0mto_batched_tensor_list\u001b[0m\u001b[1;33m(\u001b[0m\u001b[0mbatched_spec\u001b[0m\u001b[1;33m,\u001b[0m \u001b[0melement\u001b[0m\u001b[1;33m)\u001b[0m\u001b[1;33m\u001b[0m\u001b[1;33m\u001b[0m\u001b[0m\n",
      "\u001b[1;32m~\\anaconda3\\envs\\ML2\\lib\\site-packages\\tensorflow\\python\\data\\util\\structure.py\u001b[0m in \u001b[0;36mnormalize_element\u001b[1;34m(element, element_signature)\u001b[0m\n\u001b[0;32m    105\u001b[0m         \u001b[1;31m# the value. As a fallback try converting the value to a tensor.\u001b[0m\u001b[1;33m\u001b[0m\u001b[1;33m\u001b[0m\u001b[0m\n\u001b[0;32m    106\u001b[0m         normalized_components.append(\n\u001b[1;32m--> 107\u001b[1;33m             ops.convert_to_tensor(t, name=\"component_%d\" % i))\n\u001b[0m\u001b[0;32m    108\u001b[0m       \u001b[1;32melse\u001b[0m\u001b[1;33m:\u001b[0m\u001b[1;33m\u001b[0m\u001b[1;33m\u001b[0m\u001b[0m\n\u001b[0;32m    109\u001b[0m         \u001b[1;32mif\u001b[0m \u001b[0misinstance\u001b[0m\u001b[1;33m(\u001b[0m\u001b[0mspec\u001b[0m\u001b[1;33m,\u001b[0m \u001b[0msparse_tensor\u001b[0m\u001b[1;33m.\u001b[0m\u001b[0mSparseTensorSpec\u001b[0m\u001b[1;33m)\u001b[0m\u001b[1;33m:\u001b[0m\u001b[1;33m\u001b[0m\u001b[1;33m\u001b[0m\u001b[0m\n",
      "\u001b[1;32m~\\anaconda3\\envs\\ML2\\lib\\site-packages\\tensorflow\\python\\profiler\\trace.py\u001b[0m in \u001b[0;36mwrapped\u001b[1;34m(*args, **kwargs)\u001b[0m\n\u001b[0;32m    181\u001b[0m         \u001b[1;32mwith\u001b[0m \u001b[0mTrace\u001b[0m\u001b[1;33m(\u001b[0m\u001b[0mtrace_name\u001b[0m\u001b[1;33m,\u001b[0m \u001b[1;33m**\u001b[0m\u001b[0mtrace_kwargs\u001b[0m\u001b[1;33m)\u001b[0m\u001b[1;33m:\u001b[0m\u001b[1;33m\u001b[0m\u001b[1;33m\u001b[0m\u001b[0m\n\u001b[0;32m    182\u001b[0m           \u001b[1;32mreturn\u001b[0m \u001b[0mfunc\u001b[0m\u001b[1;33m(\u001b[0m\u001b[1;33m*\u001b[0m\u001b[0margs\u001b[0m\u001b[1;33m,\u001b[0m \u001b[1;33m**\u001b[0m\u001b[0mkwargs\u001b[0m\u001b[1;33m)\u001b[0m\u001b[1;33m\u001b[0m\u001b[1;33m\u001b[0m\u001b[0m\n\u001b[1;32m--> 183\u001b[1;33m       \u001b[1;32mreturn\u001b[0m \u001b[0mfunc\u001b[0m\u001b[1;33m(\u001b[0m\u001b[1;33m*\u001b[0m\u001b[0margs\u001b[0m\u001b[1;33m,\u001b[0m \u001b[1;33m**\u001b[0m\u001b[0mkwargs\u001b[0m\u001b[1;33m)\u001b[0m\u001b[1;33m\u001b[0m\u001b[1;33m\u001b[0m\u001b[0m\n\u001b[0m\u001b[0;32m    184\u001b[0m \u001b[1;33m\u001b[0m\u001b[0m\n\u001b[0;32m    185\u001b[0m     \u001b[1;32mreturn\u001b[0m \u001b[0mwrapped\u001b[0m\u001b[1;33m\u001b[0m\u001b[1;33m\u001b[0m\u001b[0m\n",
      "\u001b[1;32m~\\anaconda3\\envs\\ML2\\lib\\site-packages\\tensorflow\\python\\framework\\ops.py\u001b[0m in \u001b[0;36mconvert_to_tensor\u001b[1;34m(value, dtype, name, as_ref, preferred_dtype, dtype_hint, ctx, accepted_result_types)\u001b[0m\n\u001b[0;32m   1693\u001b[0m \u001b[1;33m\u001b[0m\u001b[0m\n\u001b[0;32m   1694\u001b[0m     \u001b[1;32mif\u001b[0m \u001b[0mret\u001b[0m \u001b[1;32mis\u001b[0m \u001b[1;32mNone\u001b[0m\u001b[1;33m:\u001b[0m\u001b[1;33m\u001b[0m\u001b[1;33m\u001b[0m\u001b[0m\n\u001b[1;32m-> 1695\u001b[1;33m       \u001b[0mret\u001b[0m \u001b[1;33m=\u001b[0m \u001b[0mconversion_func\u001b[0m\u001b[1;33m(\u001b[0m\u001b[0mvalue\u001b[0m\u001b[1;33m,\u001b[0m \u001b[0mdtype\u001b[0m\u001b[1;33m=\u001b[0m\u001b[0mdtype\u001b[0m\u001b[1;33m,\u001b[0m \u001b[0mname\u001b[0m\u001b[1;33m=\u001b[0m\u001b[0mname\u001b[0m\u001b[1;33m,\u001b[0m \u001b[0mas_ref\u001b[0m\u001b[1;33m=\u001b[0m\u001b[0mas_ref\u001b[0m\u001b[1;33m)\u001b[0m\u001b[1;33m\u001b[0m\u001b[1;33m\u001b[0m\u001b[0m\n\u001b[0m\u001b[0;32m   1696\u001b[0m \u001b[1;33m\u001b[0m\u001b[0m\n\u001b[0;32m   1697\u001b[0m     \u001b[1;32mif\u001b[0m \u001b[0mret\u001b[0m \u001b[1;32mis\u001b[0m \u001b[0mNotImplemented\u001b[0m\u001b[1;33m:\u001b[0m\u001b[1;33m\u001b[0m\u001b[1;33m\u001b[0m\u001b[0m\n",
      "\u001b[1;32m~\\anaconda3\\envs\\ML2\\lib\\site-packages\\tensorflow\\python\\framework\\constant_op.py\u001b[0m in \u001b[0;36m_constant_tensor_conversion_function\u001b[1;34m(v, dtype, name, as_ref)\u001b[0m\n\u001b[0;32m    341\u001b[0m                                          as_ref=False):\n\u001b[0;32m    342\u001b[0m   \u001b[0m_\u001b[0m \u001b[1;33m=\u001b[0m \u001b[0mas_ref\u001b[0m\u001b[1;33m\u001b[0m\u001b[1;33m\u001b[0m\u001b[0m\n\u001b[1;32m--> 343\u001b[1;33m   \u001b[1;32mreturn\u001b[0m \u001b[0mconstant\u001b[0m\u001b[1;33m(\u001b[0m\u001b[0mv\u001b[0m\u001b[1;33m,\u001b[0m \u001b[0mdtype\u001b[0m\u001b[1;33m=\u001b[0m\u001b[0mdtype\u001b[0m\u001b[1;33m,\u001b[0m \u001b[0mname\u001b[0m\u001b[1;33m=\u001b[0m\u001b[0mname\u001b[0m\u001b[1;33m)\u001b[0m\u001b[1;33m\u001b[0m\u001b[1;33m\u001b[0m\u001b[0m\n\u001b[0m\u001b[0;32m    344\u001b[0m \u001b[1;33m\u001b[0m\u001b[0m\n\u001b[0;32m    345\u001b[0m \u001b[1;33m\u001b[0m\u001b[0m\n",
      "\u001b[1;32m~\\anaconda3\\envs\\ML2\\lib\\site-packages\\tensorflow\\python\\framework\\constant_op.py\u001b[0m in \u001b[0;36mconstant\u001b[1;34m(value, dtype, shape, name)\u001b[0m\n\u001b[0;32m    265\u001b[0m     \u001b[0mValueError\u001b[0m\u001b[1;33m:\u001b[0m \u001b[1;32mif\u001b[0m \u001b[0mcalled\u001b[0m \u001b[0mon\u001b[0m \u001b[0ma\u001b[0m \u001b[0msymbolic\u001b[0m \u001b[0mtensor\u001b[0m\u001b[1;33m.\u001b[0m\u001b[1;33m\u001b[0m\u001b[1;33m\u001b[0m\u001b[0m\n\u001b[0;32m    266\u001b[0m   \"\"\"\n\u001b[1;32m--> 267\u001b[1;33m   return _constant_impl(value, dtype, shape, name, verify_shape=False,\n\u001b[0m\u001b[0;32m    268\u001b[0m                         allow_broadcast=True)\n\u001b[0;32m    269\u001b[0m \u001b[1;33m\u001b[0m\u001b[0m\n",
      "\u001b[1;32m~\\anaconda3\\envs\\ML2\\lib\\site-packages\\tensorflow\\python\\framework\\constant_op.py\u001b[0m in \u001b[0;36m_constant_impl\u001b[1;34m(value, dtype, shape, name, verify_shape, allow_broadcast)\u001b[0m\n\u001b[0;32m    277\u001b[0m       \u001b[1;32mwith\u001b[0m \u001b[0mtrace\u001b[0m\u001b[1;33m.\u001b[0m\u001b[0mTrace\u001b[0m\u001b[1;33m(\u001b[0m\u001b[1;34m\"tf.constant\"\u001b[0m\u001b[1;33m)\u001b[0m\u001b[1;33m:\u001b[0m\u001b[1;33m\u001b[0m\u001b[1;33m\u001b[0m\u001b[0m\n\u001b[0;32m    278\u001b[0m         \u001b[1;32mreturn\u001b[0m \u001b[0m_constant_eager_impl\u001b[0m\u001b[1;33m(\u001b[0m\u001b[0mctx\u001b[0m\u001b[1;33m,\u001b[0m \u001b[0mvalue\u001b[0m\u001b[1;33m,\u001b[0m \u001b[0mdtype\u001b[0m\u001b[1;33m,\u001b[0m \u001b[0mshape\u001b[0m\u001b[1;33m,\u001b[0m \u001b[0mverify_shape\u001b[0m\u001b[1;33m)\u001b[0m\u001b[1;33m\u001b[0m\u001b[1;33m\u001b[0m\u001b[0m\n\u001b[1;32m--> 279\u001b[1;33m     \u001b[1;32mreturn\u001b[0m \u001b[0m_constant_eager_impl\u001b[0m\u001b[1;33m(\u001b[0m\u001b[0mctx\u001b[0m\u001b[1;33m,\u001b[0m \u001b[0mvalue\u001b[0m\u001b[1;33m,\u001b[0m \u001b[0mdtype\u001b[0m\u001b[1;33m,\u001b[0m \u001b[0mshape\u001b[0m\u001b[1;33m,\u001b[0m \u001b[0mverify_shape\u001b[0m\u001b[1;33m)\u001b[0m\u001b[1;33m\u001b[0m\u001b[1;33m\u001b[0m\u001b[0m\n\u001b[0m\u001b[0;32m    280\u001b[0m \u001b[1;33m\u001b[0m\u001b[0m\n\u001b[0;32m    281\u001b[0m   \u001b[0mg\u001b[0m \u001b[1;33m=\u001b[0m \u001b[0mops\u001b[0m\u001b[1;33m.\u001b[0m\u001b[0mget_default_graph\u001b[0m\u001b[1;33m(\u001b[0m\u001b[1;33m)\u001b[0m\u001b[1;33m\u001b[0m\u001b[1;33m\u001b[0m\u001b[0m\n",
      "\u001b[1;32m~\\anaconda3\\envs\\ML2\\lib\\site-packages\\tensorflow\\python\\framework\\constant_op.py\u001b[0m in \u001b[0;36m_constant_eager_impl\u001b[1;34m(ctx, value, dtype, shape, verify_shape)\u001b[0m\n\u001b[0;32m    302\u001b[0m \u001b[1;32mdef\u001b[0m \u001b[0m_constant_eager_impl\u001b[0m\u001b[1;33m(\u001b[0m\u001b[0mctx\u001b[0m\u001b[1;33m,\u001b[0m \u001b[0mvalue\u001b[0m\u001b[1;33m,\u001b[0m \u001b[0mdtype\u001b[0m\u001b[1;33m,\u001b[0m \u001b[0mshape\u001b[0m\u001b[1;33m,\u001b[0m \u001b[0mverify_shape\u001b[0m\u001b[1;33m)\u001b[0m\u001b[1;33m:\u001b[0m\u001b[1;33m\u001b[0m\u001b[1;33m\u001b[0m\u001b[0m\n\u001b[0;32m    303\u001b[0m   \u001b[1;34m\"\"\"Creates a constant on the current device.\"\"\"\u001b[0m\u001b[1;33m\u001b[0m\u001b[1;33m\u001b[0m\u001b[0m\n\u001b[1;32m--> 304\u001b[1;33m   \u001b[0mt\u001b[0m \u001b[1;33m=\u001b[0m \u001b[0mconvert_to_eager_tensor\u001b[0m\u001b[1;33m(\u001b[0m\u001b[0mvalue\u001b[0m\u001b[1;33m,\u001b[0m \u001b[0mctx\u001b[0m\u001b[1;33m,\u001b[0m \u001b[0mdtype\u001b[0m\u001b[1;33m)\u001b[0m\u001b[1;33m\u001b[0m\u001b[1;33m\u001b[0m\u001b[0m\n\u001b[0m\u001b[0;32m    305\u001b[0m   \u001b[1;32mif\u001b[0m \u001b[0mshape\u001b[0m \u001b[1;32mis\u001b[0m \u001b[1;32mNone\u001b[0m\u001b[1;33m:\u001b[0m\u001b[1;33m\u001b[0m\u001b[1;33m\u001b[0m\u001b[0m\n\u001b[0;32m    306\u001b[0m     \u001b[1;32mreturn\u001b[0m \u001b[0mt\u001b[0m\u001b[1;33m\u001b[0m\u001b[1;33m\u001b[0m\u001b[0m\n",
      "\u001b[1;32m~\\anaconda3\\envs\\ML2\\lib\\site-packages\\tensorflow\\python\\framework\\constant_op.py\u001b[0m in \u001b[0;36mconvert_to_eager_tensor\u001b[1;34m(value, ctx, dtype)\u001b[0m\n\u001b[0;32m    100\u001b[0m       \u001b[0mdtype\u001b[0m \u001b[1;33m=\u001b[0m \u001b[0mdtypes\u001b[0m\u001b[1;33m.\u001b[0m\u001b[0mas_dtype\u001b[0m\u001b[1;33m(\u001b[0m\u001b[0mdtype\u001b[0m\u001b[1;33m)\u001b[0m\u001b[1;33m.\u001b[0m\u001b[0mas_datatype_enum\u001b[0m\u001b[1;33m\u001b[0m\u001b[1;33m\u001b[0m\u001b[0m\n\u001b[0;32m    101\u001b[0m   \u001b[0mctx\u001b[0m\u001b[1;33m.\u001b[0m\u001b[0mensure_initialized\u001b[0m\u001b[1;33m(\u001b[0m\u001b[1;33m)\u001b[0m\u001b[1;33m\u001b[0m\u001b[1;33m\u001b[0m\u001b[0m\n\u001b[1;32m--> 102\u001b[1;33m   \u001b[1;32mreturn\u001b[0m \u001b[0mops\u001b[0m\u001b[1;33m.\u001b[0m\u001b[0mEagerTensor\u001b[0m\u001b[1;33m(\u001b[0m\u001b[0mvalue\u001b[0m\u001b[1;33m,\u001b[0m \u001b[0mctx\u001b[0m\u001b[1;33m.\u001b[0m\u001b[0mdevice_name\u001b[0m\u001b[1;33m,\u001b[0m \u001b[0mdtype\u001b[0m\u001b[1;33m)\u001b[0m\u001b[1;33m\u001b[0m\u001b[1;33m\u001b[0m\u001b[0m\n\u001b[0m\u001b[0;32m    103\u001b[0m \u001b[1;33m\u001b[0m\u001b[0m\n\u001b[0;32m    104\u001b[0m \u001b[1;33m\u001b[0m\u001b[0m\n",
      "\u001b[1;31mValueError\u001b[0m: Can't convert non-rectangular Python sequence to Tensor."
     ]
    }
   ],
   "source": [
    "print('[INFO] train data...')\n",
    "x = tf.constant(dl.data['pn_history'].to_numpy()[train_index]),\n",
    "y = create_label(\n",
    "    dl.data['annotation'].to_numpy()[train_index],\n",
    "    dl.data['pn_history'].to_numpy()[train_index],\n",
    "    dl.data['annotation_length'].to_numpy()[train_index],\n",
    "    dl.data['feature_text'].apply(lambda x: dl.features_to_index[x]).to_numpy()[train_index],\n",
    "    tfhub_handle_preprocess,\n",
    "    seq_length=SEQ_LENGTH\n",
    ")\n",
    "train_data = tf.data.Dataset.from_tensor_slices((x, y))\n",
    "train_data = train_data.map(get_dense_label, num_parallel_calls=tf.data.experimental.AUTOTUNE, deterministic=False)\n",
    "train_data = train_data.batch(BATCH_SIZE)\n",
    "train_data = train_data.cache()\n",
    "train_data = train_data.prefetch(buffer_size=tf.data.AUTOTUNE)\n",
    "del x, y\n",
    "# 100%|██████████| 9894/9894 [02:57<00:00, 55.89it/s]\n",
    "\n",
    "print('[INFO] validation data...')\n",
    "x = tf.constant(dl.data['pn_history'].to_numpy()[val_index]),\n",
    "y = create_label(\n",
    "    dl.data['annotation'].to_numpy()[val_index],\n",
    "    dl.data['pn_history'].to_numpy()[val_index],\n",
    "    dl.data['annotation_length'].to_numpy()[val_index],\n",
    "    dl.data['feature_text'].apply(lambda x: dl.features_to_index[x]).to_numpy()[val_index],\n",
    "    tfhub_handle_preprocess,\n",
    "    seq_length=SEQ_LENGTH\n",
    ")\n",
    "val_data = tf.data.Dataset.from_tensor_slices((x, y))\n",
    "val_data = val_data.map(get_dense_label, num_parallel_calls=tf.data.experimental.AUTOTUNE, deterministic=False)\n",
    "val_data = val_data.batch(BATCH_SIZE)\n",
    "val_data = val_data.cache()\n",
    "val_data = val_data.prefetch(buffer_size=tf.data.AUTOTUNE)\n",
    "del x, y"
   ]
  },
  {
   "cell_type": "markdown",
   "metadata": {},
   "source": [
    "# Modelling"
   ]
  },
  {
   "cell_type": "markdown",
   "metadata": {},
   "source": [
    "#### Preprocess model"
   ]
  },
  {
   "cell_type": "markdown",
   "metadata": {},
   "source": [
    "Load it"
   ]
  },
  {
   "cell_type": "code",
   "execution_count": 12,
   "metadata": {},
   "outputs": [],
   "source": [
    "# Load processing function\n",
    "preprocessor = hub.load(tfhub_handle_preprocess)\n",
    "\n",
    "# Step 1: tokenize batches of text inputs.\n",
    "text_inputs = [tf.keras.layers.Input(shape=(), dtype=tf.string)]\n",
    "tokenize = hub.KerasLayer(preprocessor.tokenize)\n",
    "tokenized_inputs = [tokenize(segment) for segment in text_inputs]\n",
    "\n",
    "# Step 3: pack input sequences for the Transformer encoder.\n",
    "bert_pack_inputs = hub.KerasLayer(\n",
    "    preprocessor.bert_pack_inputs,\n",
    "    arguments=dict(seq_length=SEQ_LENGTH)  # Optional argument.\n",
    ")\n",
    "encoder_inputs = bert_pack_inputs(tokenized_inputs)\n",
    "\n",
    "bert_preprocess_model = tf.keras.Model(\n",
    "    text_inputs, encoder_inputs, name=f\"BERT_preprocesser_{SEQ_LENGTH}\"\n",
    ")\n"
   ]
  },
  {
   "cell_type": "markdown",
   "metadata": {},
   "source": [
    "Test it"
   ]
  },
  {
   "cell_type": "code",
   "execution_count": 13,
   "metadata": {},
   "outputs": [
    {
     "name": "stdout",
     "output_type": "stream",
     "text": [
      "Keys       : ['input_word_ids', 'input_type_ids', 'input_mask']\n",
      "Shape      : (1, 512)\n",
      "Word Ids   : [ 101 2023 2003 2107 2019 6429 3185  999  102    0    0    0]\n",
      "Input Mask : [1 1 1 1 1 1 1 1 1 0 0 0]\n",
      "Type Ids   : [0 0 0 0 0 0 0 0 0 0 0 0]\n"
     ]
    }
   ],
   "source": [
    "text_test = ['this is such an amazing movie!']\n",
    "text_preprocessed = bert_preprocess_model(tf.constant(text_test))\n",
    "\n",
    "print(f'Keys       : {list(text_preprocessed.keys())}')\n",
    "print(f'Shape      : {text_preprocessed[\"input_word_ids\"].shape}')\n",
    "print(f'Word Ids   : {text_preprocessed[\"input_word_ids\"][0, :12]}')\n",
    "print(f'Input Mask : {text_preprocessed[\"input_mask\"][0, :12]}')\n",
    "print(f'Type Ids   : {text_preprocessed[\"input_type_ids\"][0, :12]}')"
   ]
  },
  {
   "cell_type": "code",
   "execution_count": 32,
   "metadata": {},
   "outputs": [],
   "source": [
    "text_preprocessed = bert_preprocess_model(next(iter(val_data))[0])\n",
    "y_preprocessed = next(iter(val_data))[1]"
   ]
  },
  {
   "cell_type": "code",
   "execution_count": 35,
   "metadata": {},
   "outputs": [
    {
     "name": "stdout",
     "output_type": "stream",
     "text": [
      "Keys       : ['input_word_ids', 'input_type_ids', 'input_mask']\n",
      "Shape      : (4, 512)\n",
      "\n",
      "Input Mask: [1. 1. 1. 1. 1. 1. 1. 1. 1. 1. 1. 1. 1. 1. 1. 1. 1. 1. 1. 1. 1. 1. 1. 1.\n",
      " 1. 1. 1. 1. 1. 1. 1. 1. 1. 1. 1. 1. 1. 1. 1. 1. 1. 1. 1. 1. 1. 1. 1. 1.\n",
      " 1. 1. 1. 1. 1. 1. 1. 1. 1. 1. 1. 1. 1. 1. 1. 1. 1. 1. 1. 1. 1. 1. 1. 1.\n",
      " 1. 1. 1. 1. 1. 1. 1. 1. 1. 1. 1. 1. 1. 1. 1. 1. 1. 1. 1. 1. 1. 1. 1. 1.\n",
      " 1. 1. 1. 1. 1. 1. 1. 1. 1. 1. 1. 1. 1. 1. 1. 1. 1. 1. 1. 1. 1. 1. 1. 1.\n",
      " 1. 1. 1. 1. 1. 1. 1. 1. 1. 1. 1. 1. 1. 1. 1. 1. 1. 1. 1. 1. 1. 1. 1. 1.\n",
      " 1. 1. 1. 1. 1. 1. 1. 1. 1. 1. 1. 1. 1. 1. 1. 1. 1. 1. 1. 1. 1. 1. 1. 1.\n",
      " 1. 1. 1. 1. 1. 1. 1. 1. 1. 1. 1. 1. 1. 1. 1. 1. 1. 1. 1. 1. 1. 0. 0. 0.\n",
      " 0. 0. 0. 0. 0. 0. 0. 0. 0. 0. 0. 0. 0. 0. 0. 0. 0. 0. 0. 0. 0. 0. 0. 0.\n",
      " 0. 0. 0. 0. 0. 0. 0. 0. 0. 0. 0. 0. 0. 0. 0. 0. 0. 0. 0. 0. 0. 0. 0. 0.\n",
      " 0. 0. 0. 0. 0. 0. 0. 0. 0. 0. 0. 0. 0. 0. 0. 0. 0. 0. 0. 0. 0. 0. 0. 0.\n",
      " 0. 0. 0. 0. 0. 0. 0. 0. 0. 0. 0. 0. 0. 0. 0. 0. 0. 0. 0. 0. 0. 0. 0. 0.\n",
      " 0. 0. 0. 0. 0. 0. 0. 0. 0. 0. 0. 0. 0. 0. 0. 0. 0. 0. 0. 0. 0. 0. 0. 0.\n",
      " 0. 0. 0. 0. 0. 0. 0. 0. 0. 0. 0. 0. 0. 0. 0. 0. 0. 0. 0. 0. 0. 0. 0. 0.\n",
      " 0. 0. 0. 0. 0. 0. 0. 0. 0. 0. 0. 0. 0. 0. 0. 0. 0. 0. 0. 0. 0. 0. 0. 0.\n",
      " 0. 0. 0. 0. 0. 0. 0. 0. 0. 0. 0. 0. 0. 0. 0. 0. 0. 0. 0. 0. 0. 0. 0. 0.\n",
      " 0. 0. 0. 0. 0. 0. 0. 0. 0. 0. 0. 0. 0. 0. 0. 0. 0. 0. 0. 0. 0. 0. 0. 0.\n",
      " 0. 0. 0. 0. 0. 0. 0. 0. 0. 0. 0. 0. 0. 0. 0. 0. 0. 0. 0. 0. 0. 0. 0. 0.\n",
      " 0. 0. 0. 0. 0. 0. 0. 0. 0. 0. 0. 0. 0. 0. 0. 0. 0. 0. 0. 0. 0. 0. 0. 0.\n",
      " 0. 0. 0. 0. 0. 0. 0. 0. 0. 0. 0. 0. 0. 0. 0. 0. 0. 0. 0. 0. 0. 0. 0. 0.\n",
      " 0. 0. 0. 0. 0. 0. 0. 0. 0. 0. 0. 0. 0. 0. 0. 0. 0. 0. 0. 0. 0. 0. 0. 0.\n",
      " 0. 0. 0. 0. 0. 0. 0. 0.]\n",
      "y value   : [0. 0. 0. 0. 0. 0. 0. 0. 0. 0. 0. 0. 0. 0. 0. 0. 0. 0. 0. 0. 0. 0. 0. 0.\n",
      " 0. 0. 0. 0. 0. 0. 0. 0. 0. 0. 0. 0. 0. 0. 0. 0. 0. 0. 0. 0. 0. 0. 0. 0.\n",
      " 0. 0. 0. 0. 0. 0. 0. 0. 0. 0. 0. 0. 0. 0. 0. 0. 0. 0. 0. 0. 0. 0. 0. 0.\n",
      " 0. 0. 0. 0. 0. 0. 0. 0. 0. 0. 0. 0. 0. 0. 0. 0. 0. 0. 0. 0. 0. 0. 0. 0.\n",
      " 0. 0. 0. 0. 0. 0. 0. 0. 0. 0. 0. 0. 0. 0. 0. 0. 0. 0. 0. 0. 0. 0. 0. 0.\n",
      " 0. 0. 0. 0. 0. 0. 0. 0. 0. 0. 0. 0. 0. 0. 0. 0. 0. 0. 0. 0. 0. 0. 0. 0.\n",
      " 0. 0. 0. 0. 0. 0. 0. 0. 0. 0. 0. 0. 0. 0. 0. 0. 0. 0. 0. 0. 0. 0. 0. 0.\n",
      " 0. 0. 0. 0. 0. 0. 0. 0. 0. 0. 0. 0. 0. 0. 0. 1. 1. 1. 0. 0. 0. 0. 0. 0.\n",
      " 0. 0. 0. 0. 0. 0. 0. 0. 0. 0. 0. 0. 0. 0. 0. 0. 0. 0. 0. 0. 0. 0. 0. 0.\n",
      " 0. 0. 0. 0. 0. 0. 0. 0. 0. 0. 0. 0. 0. 0. 0. 0. 0. 0. 0. 0. 0. 0. 0. 0.\n",
      " 0. 0. 0. 0. 0. 0. 0. 0. 0. 0. 0. 0. 0. 0. 0. 0. 0. 0. 0. 0. 0. 0. 0. 0.\n",
      " 0. 0. 0. 0. 0. 0. 0. 0. 0. 0. 0. 0. 0. 0. 0. 0. 0. 0. 0. 0. 0. 0. 0. 0.\n",
      " 0. 0. 0. 0. 0. 0. 0. 0. 0. 0. 0. 0. 0. 0. 0. 0. 0. 0. 0. 0. 0. 0. 0. 0.\n",
      " 0. 0. 0. 0. 0. 0. 0. 0. 0. 0. 0. 0. 0. 0. 0. 0. 0. 0. 0. 0. 0. 0. 0. 0.\n",
      " 0. 0. 0. 0. 0. 0. 0. 0. 0. 0. 0. 0. 0. 0. 0. 0. 0. 0. 0. 0. 0. 0. 0. 0.\n",
      " 0. 0. 0. 0. 0. 0. 0. 0. 0. 0. 0. 0. 0. 0. 0. 0. 0. 0. 0. 0. 0. 0. 0. 0.\n",
      " 0. 0. 0. 0. 0. 0. 0. 0. 0. 0. 0. 0. 0. 0. 0. 0. 0. 0. 0. 0. 0. 0. 0. 0.\n",
      " 0. 0. 0. 0. 0. 0. 0. 0. 0. 0. 0. 0. 0. 0. 0. 0. 0. 0. 0. 0. 0. 0. 0. 0.\n",
      " 0. 0. 0. 0. 0. 0. 0. 0. 0. 0. 0. 0. 0. 0. 0. 0. 0. 0. 0. 0. 0. 0. 0. 0.\n",
      " 0. 0. 0. 0. 0. 0. 0. 0. 0. 0. 0. 0. 0. 0. 0. 0. 0. 0. 0. 0. 0. 0. 0. 0.\n",
      " 0. 0. 0. 0. 0. 0. 0. 0. 0. 0. 0. 0. 0. 0. 0. 0. 0. 0. 0. 0. 0. 0. 0. 0.\n",
      " 0. 0. 0. 0. 0. 0. 0. 0.]\n",
      "\n",
      "Input Mask: [1. 1. 1. 1. 1. 1. 1. 1. 1. 1. 1. 1. 1. 1. 1. 1. 1. 1. 1. 1. 1. 1. 1. 1.\n",
      " 1. 1. 1. 1. 1. 1. 1. 1. 1. 1. 1. 1. 1. 1. 1. 1. 1. 1. 1. 1. 1. 1. 1. 1.\n",
      " 1. 1. 1. 1. 1. 1. 1. 1. 1. 1. 1. 1. 1. 1. 1. 1. 1. 1. 1. 1. 1. 1. 1. 1.\n",
      " 1. 1. 1. 1. 1. 1. 1. 1. 1. 1. 1. 1. 1. 1. 1. 1. 1. 1. 1. 1. 1. 1. 1. 1.\n",
      " 1. 1. 1. 1. 1. 1. 1. 1. 1. 1. 1. 1. 1. 1. 1. 1. 1. 1. 1. 1. 1. 1. 1. 1.\n",
      " 1. 1. 1. 1. 1. 1. 1. 1. 1. 1. 1. 1. 1. 1. 1. 1. 1. 1. 1. 1. 1. 1. 1. 1.\n",
      " 1. 1. 1. 1. 1. 1. 1. 1. 1. 1. 1. 1. 1. 1. 1. 1. 1. 1. 1. 1. 1. 1. 1. 1.\n",
      " 1. 1. 1. 1. 1. 1. 1. 1. 1. 1. 1. 1. 1. 1. 1. 1. 1. 1. 1. 1. 1. 0. 0. 0.\n",
      " 0. 0. 0. 0. 0. 0. 0. 0. 0. 0. 0. 0. 0. 0. 0. 0. 0. 0. 0. 0. 0. 0. 0. 0.\n",
      " 0. 0. 0. 0. 0. 0. 0. 0. 0. 0. 0. 0. 0. 0. 0. 0. 0. 0. 0. 0. 0. 0. 0. 0.\n",
      " 0. 0. 0. 0. 0. 0. 0. 0. 0. 0. 0. 0. 0. 0. 0. 0. 0. 0. 0. 0. 0. 0. 0. 0.\n",
      " 0. 0. 0. 0. 0. 0. 0. 0. 0. 0. 0. 0. 0. 0. 0. 0. 0. 0. 0. 0. 0. 0. 0. 0.\n",
      " 0. 0. 0. 0. 0. 0. 0. 0. 0. 0. 0. 0. 0. 0. 0. 0. 0. 0. 0. 0. 0. 0. 0. 0.\n",
      " 0. 0. 0. 0. 0. 0. 0. 0. 0. 0. 0. 0. 0. 0. 0. 0. 0. 0. 0. 0. 0. 0. 0. 0.\n",
      " 0. 0. 0. 0. 0. 0. 0. 0. 0. 0. 0. 0. 0. 0. 0. 0. 0. 0. 0. 0. 0. 0. 0. 0.\n",
      " 0. 0. 0. 0. 0. 0. 0. 0. 0. 0. 0. 0. 0. 0. 0. 0. 0. 0. 0. 0. 0. 0. 0. 0.\n",
      " 0. 0. 0. 0. 0. 0. 0. 0. 0. 0. 0. 0. 0. 0. 0. 0. 0. 0. 0. 0. 0. 0. 0. 0.\n",
      " 0. 0. 0. 0. 0. 0. 0. 0. 0. 0. 0. 0. 0. 0. 0. 0. 0. 0. 0. 0. 0. 0. 0. 0.\n",
      " 0. 0. 0. 0. 0. 0. 0. 0. 0. 0. 0. 0. 0. 0. 0. 0. 0. 0. 0. 0. 0. 0. 0. 0.\n",
      " 0. 0. 0. 0. 0. 0. 0. 0. 0. 0. 0. 0. 0. 0. 0. 0. 0. 0. 0. 0. 0. 0. 0. 0.\n",
      " 0. 0. 0. 0. 0. 0. 0. 0. 0. 0. 0. 0. 0. 0. 0. 0. 0. 0. 0. 0. 0. 0. 0. 0.\n",
      " 0. 0. 0. 0. 0. 0. 0. 0.]\n",
      "y value   : [0. 0. 0. 0. 0. 0. 0. 0. 0. 0. 0. 0. 0. 0. 0. 0. 0. 0. 0. 0. 0. 0. 0. 0.\n",
      " 0. 0. 0. 0. 0. 0. 0. 0. 0. 0. 0. 0. 0. 0. 0. 0. 0. 0. 0. 0. 0. 0. 0. 0.\n",
      " 0. 0. 0. 0. 0. 0. 0. 0. 0. 0. 0. 0. 0. 0. 0. 0. 0. 0. 0. 0. 0. 0. 0. 0.\n",
      " 0. 0. 0. 0. 0. 0. 0. 0. 0. 0. 0. 0. 0. 0. 0. 0. 0. 0. 0. 0. 0. 0. 0. 0.\n",
      " 0. 0. 0. 0. 0. 0. 0. 0. 0. 0. 0. 0. 0. 0. 0. 0. 0. 0. 0. 0. 0. 0. 0. 0.\n",
      " 0. 0. 0. 0. 0. 0. 0. 0. 0. 0. 0. 0. 0. 0. 0. 0. 0. 0. 0. 0. 0. 0. 0. 0.\n",
      " 0. 0. 0. 0. 0. 0. 0. 0. 0. 0. 0. 0. 0. 0. 0. 0. 0. 0. 0. 0. 0. 0. 0. 0.\n",
      " 0. 0. 0. 0. 0. 0. 0. 0. 0. 0. 1. 1. 1. 1. 0. 0. 0. 0. 0. 0. 0. 0. 0. 0.\n",
      " 0. 0. 0. 0. 0. 0. 0. 0. 0. 0. 0. 0. 0. 0. 0. 0. 0. 0. 0. 0. 0. 0. 0. 0.\n",
      " 0. 0. 0. 0. 0. 0. 0. 0. 0. 0. 0. 0. 0. 0. 0. 0. 0. 0. 0. 0. 0. 0. 0. 0.\n",
      " 0. 0. 0. 0. 0. 0. 0. 0. 0. 0. 0. 0. 0. 0. 0. 0. 0. 0. 0. 0. 0. 0. 0. 0.\n",
      " 0. 0. 0. 0. 0. 0. 0. 0. 0. 0. 0. 0. 0. 0. 0. 0. 0. 0. 0. 0. 0. 0. 0. 0.\n",
      " 0. 0. 0. 0. 0. 0. 0. 0. 0. 0. 0. 0. 0. 0. 0. 0. 0. 0. 0. 0. 0. 0. 0. 0.\n",
      " 0. 0. 0. 0. 0. 0. 0. 0. 0. 0. 0. 0. 0. 0. 0. 0. 0. 0. 0. 0. 0. 0. 0. 0.\n",
      " 0. 0. 0. 0. 0. 0. 0. 0. 0. 0. 0. 0. 0. 0. 0. 0. 0. 0. 0. 0. 0. 0. 0. 0.\n",
      " 0. 0. 0. 0. 0. 0. 0. 0. 0. 0. 0. 0. 0. 0. 0. 0. 0. 0. 0. 0. 0. 0. 0. 0.\n",
      " 0. 0. 0. 0. 0. 0. 0. 0. 0. 0. 0. 0. 0. 0. 0. 0. 0. 0. 0. 0. 0. 0. 0. 0.\n",
      " 0. 0. 0. 0. 0. 0. 0. 0. 0. 0. 0. 0. 0. 0. 0. 0. 0. 0. 0. 0. 0. 0. 0. 0.\n",
      " 0. 0. 0. 0. 0. 0. 0. 0. 0. 0. 0. 0. 0. 0. 0. 0. 0. 0. 0. 0. 0. 0. 0. 0.\n",
      " 0. 0. 0. 0. 0. 0. 0. 0. 0. 0. 0. 0. 0. 0. 0. 0. 0. 0. 0. 0. 0. 0. 0. 0.\n",
      " 0. 0. 0. 0. 0. 0. 0. 0. 0. 0. 0. 0. 0. 0. 0. 0. 0. 0. 0. 0. 0. 0. 0. 0.\n",
      " 0. 0. 0. 0. 0. 0. 0. 0.]\n"
     ]
    }
   ],
   "source": [
    "print(f'Keys       : {list(text_preprocessed.keys())}')\n",
    "print(f'Shape      : {text_preprocessed[\"input_word_ids\"].shape}')\n",
    "for k in range(2):\n",
    "    print()\n",
    "    # print(f'Word Ids  : {text_preprocessed[\"input_word_ids\"][k, :]}')\n",
    "    print(f'Input Mask: {text_preprocessed[\"input_mask\"][k, :]}')\n",
    "    # print(f'Type Ids  : {text_preprocessed[\"input_type_ids\"][k, :]}')\n",
    "    print(f'y value   : {y_preprocessed[k, :]}')"
   ]
  },
  {
   "cell_type": "markdown",
   "metadata": {},
   "source": [
    "#### Bert model"
   ]
  },
  {
   "cell_type": "markdown",
   "metadata": {},
   "source": [
    "Load it"
   ]
  },
  {
   "cell_type": "code",
   "execution_count": 17,
   "metadata": {},
   "outputs": [],
   "source": [
    "bert_model = hub.KerasLayer(tfhub_handle_encoder)"
   ]
  },
  {
   "cell_type": "markdown",
   "metadata": {},
   "source": [
    "Test it"
   ]
  },
  {
   "cell_type": "code",
   "execution_count": 15,
   "metadata": {},
   "outputs": [
    {
     "name": "stdout",
     "output_type": "stream",
     "text": [
      "Loaded BERT: https://tfhub.dev/tensorflow/small_bert/bert_en_uncased_L-4_H-512_A-8/2\n",
      "Pooled Outputs Shape:(1, 512)\n",
      "Pooled Outputs Values:[ 0.7626282   0.9928099  -0.18611862  0.3667383   0.15233758  0.655044\n",
      "  0.9681154  -0.94862705  0.0021616  -0.9877732   0.06842764 -0.97630596]\n",
      "Sequence Outputs Shape:(1, 512, 512)\n",
      "Sequence Outputs Values:[[-0.28946292  0.34321183  0.33231512 ...  0.21300802  0.7102092\n",
      "  -0.05771042]\n",
      " [-0.28741995  0.31980985 -0.23018652 ...  0.5845511  -0.21329862\n",
      "   0.72692007]\n",
      " [-0.6615692   0.68876815 -0.8743301  ...  0.1087728  -0.26173076\n",
      "   0.47855455]\n",
      " ...\n",
      " [-0.22561137 -0.2892573  -0.07064426 ...  0.47566032  0.8327724\n",
      "   0.40025347]\n",
      " [-0.2982421  -0.27473164 -0.05450544 ...  0.4884972   1.0955367\n",
      "   0.18163365]\n",
      " [-0.4437818   0.00930662  0.07223704 ...  0.17290089  1.1833239\n",
      "   0.07897975]]\n"
     ]
    }
   ],
   "source": [
    "bert_results = bert_model(text_preprocessed)\n",
    "\n",
    "print(f'Loaded BERT: {tfhub_handle_encoder}')\n",
    "print(f'Pooled Outputs Shape:{bert_results[\"pooled_output\"].shape}')\n",
    "print(f'Pooled Outputs Values:{bert_results[\"pooled_output\"][0, :12]}')\n",
    "print(f'Sequence Outputs Shape:{bert_results[\"sequence_output\"].shape}')\n",
    "print(f'Sequence Outputs Values:{bert_results[\"sequence_output\"][0, :12]}')"
   ]
  },
  {
   "cell_type": "markdown",
   "metadata": {},
   "source": [
    "#### Custom model"
   ]
  },
  {
   "cell_type": "markdown",
   "metadata": {},
   "source": [
    "Build it"
   ]
  },
  {
   "cell_type": "code",
   "execution_count": 15,
   "metadata": {},
   "outputs": [],
   "source": [
    "def build_classifier_model():\n",
    "    text_input = tf.keras.layers.Input(shape=(), dtype=tf.string, name='text')\n",
    "    encoder_inputs = bert_preprocess_model(text_input)\n",
    "    encoder = hub.KerasLayer(tfhub_handle_encoder, trainable=True, name='BERT_encoder')\n",
    "    outputs = encoder(encoder_inputs)\n",
    "    net = outputs['pooled_output']\n",
    "    net = tf.keras.layers.Dropout(0.1)(net)\n",
    "    net = tf.keras.layers.Dense(SEQ_LENGTH, activation='sigmoid', name='classifier')(net)\n",
    "    return tf.keras.Model(text_input, net)"
   ]
  },
  {
   "cell_type": "markdown",
   "metadata": {},
   "source": [
    "Test it"
   ]
  },
  {
   "cell_type": "code",
   "execution_count": 16,
   "metadata": {},
   "outputs": [
    {
     "name": "stdout",
     "output_type": "stream",
     "text": [
      "tf.Tensor(\n",
      "[[0.2872575  0.46901447 0.58984905 0.5604392  0.22860773 0.51520437\n",
      "  0.4371295  0.6828604  0.46950257 0.27445388 0.22564457 0.6781205\n",
      "  0.34113905 0.5594853  0.35719526 0.48363426 0.15623517 0.7241221\n",
      "  0.6930488  0.5279342  0.347121   0.5194836  0.6150748  0.6061924\n",
      "  0.3502628  0.5516102  0.4525796  0.33552212 0.48198286 0.6022063\n",
      "  0.48544875 0.391655   0.25166655 0.46566537 0.32017475 0.54694027\n",
      "  0.41917458 0.2822255  0.55747175 0.76462615 0.40536186 0.6879799\n",
      "  0.805211   0.5722205  0.56979746 0.60712904 0.2593401  0.5075416\n",
      "  0.42908278 0.59812397 0.3372272  0.24256186 0.63527757 0.32426053\n",
      "  0.36389193 0.27746117 0.7652263  0.43459615 0.37242    0.4773167\n",
      "  0.4083829  0.6286806  0.55501705 0.5429083  0.29809493 0.49381876\n",
      "  0.5336007  0.37991443 0.57032865 0.43633172 0.6722511  0.65141034\n",
      "  0.20570482 0.57054067 0.42108992 0.42254737 0.31921488 0.49386826\n",
      "  0.6053389  0.5226796  0.77811515 0.68110996 0.5408496  0.3232978\n",
      "  0.38400882 0.45054793 0.40496963 0.6291871  0.55161184 0.23370793\n",
      "  0.49527505 0.3337872  0.5346224  0.6437882  0.5301775  0.739513\n",
      "  0.40032578 0.17091455 0.4367002  0.4937622  0.38817918 0.78713\n",
      "  0.46044913 0.776374   0.17174144 0.41882408 0.35371342 0.6961399\n",
      "  0.4713417  0.6038671  0.4624295  0.3264137  0.44340608 0.6999033\n",
      "  0.5822581  0.5043103  0.40522003 0.21756043 0.4704968  0.47063237\n",
      "  0.65857816 0.65227056 0.5050729  0.85067654 0.5883835  0.4947481\n",
      "  0.5784954  0.619451   0.4297861  0.56510633 0.20517054 0.54710126\n",
      "  0.20839828 0.50282586 0.30429307 0.70974815 0.3537455  0.29098368\n",
      "  0.72514904 0.35313544 0.68676144 0.4415278  0.7111825  0.7074957\n",
      "  0.6433021  0.6204788  0.49097177 0.25898072 0.67664045 0.6470608\n",
      "  0.5328166  0.26991984 0.39383018 0.47640604 0.4330357  0.14943741\n",
      "  0.4881733  0.38774353 0.75437963 0.28861693 0.45688337 0.36949033\n",
      "  0.37499553 0.519952   0.607117   0.76094586 0.43561295 0.5899564\n",
      "  0.46297568 0.5948223  0.5546597  0.40987748 0.5648512  0.37797624\n",
      "  0.4406289  0.41019332 0.3402706  0.5179794  0.4791022  0.8433383\n",
      "  0.3620237  0.5607274  0.6452025  0.5190998  0.6048788  0.7301301\n",
      "  0.7749596  0.49091268 0.4767506  0.6554886  0.65863425 0.5975137\n",
      "  0.3314197  0.43852812 0.6017311  0.37044674 0.3761225  0.59592825\n",
      "  0.5334077  0.7144411  0.51879776 0.7145023  0.7879131  0.5274561\n",
      "  0.36261228 0.4383778  0.4679784  0.70699096 0.29824573 0.37294775\n",
      "  0.36850792 0.61584103 0.72000915 0.54176396 0.49120042 0.35318837\n",
      "  0.35420692 0.18221328 0.5840342  0.51850826 0.37566993 0.4350667\n",
      "  0.61230546 0.32836568 0.3766008  0.69391745 0.48954248 0.55272037\n",
      "  0.64422315 0.5336827  0.819903   0.53811735 0.41452    0.45399976\n",
      "  0.35738423 0.3839197  0.517848   0.4935164  0.58359903 0.3251956\n",
      "  0.41182628 0.6109066  0.2712094  0.5908296  0.58201367 0.4701308\n",
      "  0.48803425 0.53782445 0.737927   0.4202508  0.42942995 0.32872924\n",
      "  0.34942347 0.35753584 0.75705385 0.38703537 0.6706116  0.6513362\n",
      "  0.26606148 0.6036785  0.452099   0.6022905  0.43904895 0.40438765\n",
      "  0.5715616  0.44306752 0.6439995  0.3769509  0.33220172 0.5052994\n",
      "  0.64119804 0.48681086 0.6521956  0.3307813  0.5099091  0.46821055\n",
      "  0.4745857  0.66827214 0.73968667 0.28456065 0.6241123  0.3193398\n",
      "  0.5827804  0.66000533 0.33484483 0.6651591  0.50247    0.74072963\n",
      "  0.64719236 0.6168233  0.5841153  0.5399456  0.5439939  0.43280655\n",
      "  0.58191836 0.3044883  0.40017372 0.34075162 0.5792169  0.4839458\n",
      "  0.5027885  0.33604023 0.4365206  0.61519814 0.30952126 0.55767685\n",
      "  0.69367915 0.60890925 0.3026391  0.5988567  0.44664425 0.5138307\n",
      "  0.64571726 0.5420952  0.47113258 0.4777228  0.5277298  0.38330063\n",
      "  0.61390716 0.5956691  0.62535554 0.5420726  0.62505096 0.81220216\n",
      "  0.38660815 0.40080786 0.64513063 0.5719114  0.44811305 0.36645848\n",
      "  0.690581   0.3318495  0.61397284 0.58461213 0.41829705 0.21303359\n",
      "  0.7279148  0.48435265 0.48457995 0.5135719  0.5854745  0.19400117\n",
      "  0.44301453 0.5650848  0.3642161  0.43996373 0.6912792  0.38375258\n",
      "  0.5463059  0.67142946 0.7618239  0.44406325 0.22137563 0.3549721\n",
      "  0.5226208  0.6639979  0.71510696 0.718075   0.7883381  0.7604401\n",
      "  0.4557139  0.33808586 0.56640863 0.57771564 0.4700384  0.3472223\n",
      "  0.6806441  0.7269186  0.33981964 0.6466204  0.5384907  0.39387265\n",
      "  0.7161437  0.37723473 0.20737554 0.5775666  0.7546686  0.6471505\n",
      "  0.5229767  0.6787298  0.49868548 0.26132962 0.3577837  0.51737845\n",
      "  0.3655149  0.3546871  0.65248066 0.56462663 0.6599428  0.21859565\n",
      "  0.26131696 0.41423082 0.30177942 0.20025823 0.32630587 0.16403183\n",
      "  0.38066658 0.56733793 0.85974205 0.45253593 0.6390743  0.8068915\n",
      "  0.779755   0.73095965 0.8129761  0.52714276 0.58760417 0.66547966\n",
      "  0.3310121  0.46034685 0.5324181  0.49984258 0.55469835 0.48189\n",
      "  0.73311394 0.14102753 0.3000779  0.36997214 0.43958768 0.5505714\n",
      "  0.3365724  0.22224548 0.63473135 0.48515403 0.63404423 0.72859645\n",
      "  0.3499208  0.49559462 0.3374882  0.6414699  0.598975   0.844743\n",
      "  0.3455683  0.6318893  0.4292399  0.29243544 0.38137314 0.6678072\n",
      "  0.44292852 0.63492185 0.28389746 0.7131838  0.49533138 0.41147915\n",
      "  0.45093933 0.43433413 0.50935775 0.5699586  0.5983318  0.55807906\n",
      "  0.42218277 0.6725522  0.32644814 0.55742586 0.5361206  0.5549128\n",
      "  0.64236397 0.5855269  0.42411482 0.1986757  0.8441428  0.3303719\n",
      "  0.51290035 0.17678103 0.20819864 0.5818035  0.6165627  0.5419433\n",
      "  0.29734567 0.27293038 0.39459342 0.6461272  0.8737226  0.5937857\n",
      "  0.43931136 0.71137005 0.4940419  0.46176076 0.48963666 0.58715767\n",
      "  0.69230485 0.470772   0.4375812  0.29834995 0.66959566 0.57672477\n",
      "  0.4763401  0.3576627  0.7172499  0.18989825 0.64774716 0.38954005\n",
      "  0.6558001  0.55603987 0.6378824  0.7100438  0.52259773 0.42099178\n",
      "  0.3912509  0.5567948  0.613961   0.6079306  0.5596348  0.21839446\n",
      "  0.37693962 0.6203823  0.58256567 0.32831085 0.36173096 0.41898853\n",
      "  0.54274374 0.39782086]], shape=(1, 512), dtype=float32)\n"
     ]
    }
   ],
   "source": [
    "classifier_model = build_classifier_model()\n",
    "bert_raw_result = classifier_model(tf.constant(text_test))\n",
    "print(bert_raw_result.shape)"
   ]
  },
  {
   "cell_type": "markdown",
   "metadata": {},
   "source": [
    "Display it"
   ]
  },
  {
   "cell_type": "code",
   "execution_count": 17,
   "metadata": {},
   "outputs": [
    {
     "name": "stdout",
     "output_type": "stream",
     "text": [
      "Model: \"model\"\n",
      "__________________________________________________________________________________________________\n",
      " Layer (type)                   Output Shape         Param #     Connected to                     \n",
      "==================================================================================================\n",
      " text (InputLayer)              [(None,)]            0           []                               \n",
      "                                                                                                  \n",
      " BERT_preprocesser_512 (Functio  {'input_word_ids':   0          ['text[0][0]']                   \n",
      " nal)                           (None, 512),                                                      \n",
      "                                 'input_type_ids':                                                \n",
      "                                (None, 512),                                                      \n",
      "                                 'input_mask': (Non                                               \n",
      "                                e, 512)}                                                          \n",
      "                                                                                                  \n",
      " BERT_encoder (KerasLayer)      {'sequence_output':  28763649    ['BERT_preprocesser_512[0][0]',  \n",
      "                                 (None, 512, 512),                'BERT_preprocesser_512[0][1]',  \n",
      "                                 'default': (None,                'BERT_preprocesser_512[0][2]']  \n",
      "                                512),                                                             \n",
      "                                 'encoder_outputs':                                               \n",
      "                                 [(None, 512, 512),                                               \n",
      "                                 (None, 512, 512),                                                \n",
      "                                 (None, 512, 512),                                                \n",
      "                                 (None, 512, 512)],                                               \n",
      "                                 'pooled_output': (                                               \n",
      "                                None, 512)}                                                       \n",
      "                                                                                                  \n",
      " dropout (Dropout)              (None, 512)          0           ['BERT_encoder[0][5]']           \n",
      "                                                                                                  \n",
      " classifier (Dense)             (None, 512)          262656      ['dropout[0][0]']                \n",
      "                                                                                                  \n",
      "==================================================================================================\n",
      "Total params: 29,026,305\n",
      "Trainable params: 29,026,304\n",
      "Non-trainable params: 1\n",
      "__________________________________________________________________________________________________\n"
     ]
    }
   ],
   "source": [
    "classifier_model.summary()"
   ]
  },
  {
   "cell_type": "markdown",
   "metadata": {},
   "source": [
    "#### Model compilation"
   ]
  },
  {
   "cell_type": "code",
   "execution_count": 18,
   "metadata": {},
   "outputs": [],
   "source": [
    "steps_per_epoch = tf.data.experimental.cardinality(train_data).numpy()\n",
    "num_train_steps = steps_per_epoch * EPOCHS\n",
    "num_warmup_steps = int(0.1*num_train_steps)\n",
    "\n",
    "init_lr = 3e-5\n",
    "optimizer = optimization.create_optimizer(\n",
    "    init_lr=init_lr,\n",
    "    num_train_steps=num_train_steps,\n",
    "    num_warmup_steps=num_warmup_steps,\n",
    "    optimizer_type='adamw'\n",
    ")"
   ]
  },
  {
   "cell_type": "markdown",
   "metadata": {},
   "source": [
    "Compiling BERT"
   ]
  },
  {
   "cell_type": "code",
   "execution_count": 19,
   "metadata": {},
   "outputs": [],
   "source": [
    "loss = tf.keras.losses.CategoricalCrossentropy(from_logits=True)\n",
    "metrics = tf.metrics.CategoricalAccuracy()"
   ]
  },
  {
   "cell_type": "code",
   "execution_count": 20,
   "metadata": {},
   "outputs": [],
   "source": [
    "classifier_model.compile(\n",
    "    optimizer=optimizer,\n",
    "    loss=loss,\n",
    "    metrics=metrics\n",
    ")"
   ]
  },
  {
   "cell_type": "markdown",
   "metadata": {},
   "source": [
    "#### Training"
   ]
  },
  {
   "cell_type": "code",
   "execution_count": 21,
   "metadata": {},
   "outputs": [
    {
     "name": "stdout",
     "output_type": "stream",
     "text": [
      "Training model with https://tfhub.dev/tensorflow/small_bert/bert_en_uncased_L-4_H-512_A-8/1\n",
      "2474/2474 [==============================] - 1070s 430ms/step - loss: 13.1301 - categorical_accuracy: 0.0147 - val_loss: 12.5699 - val_categorical_accuracy: 0.0313\n"
     ]
    }
   ],
   "source": [
    "print(f'Training model with {tfhub_handle_encoder}')\n",
    "history = classifier_model.fit(\n",
    "    x=train_data,\n",
    "    validation_data=val_data,\n",
    "    epochs=EPOCHS\n",
    ")"
   ]
  },
  {
   "cell_type": "code",
   "execution_count": 34,
   "metadata": {},
   "outputs": [
    {
     "name": "stderr",
     "output_type": "stream",
     "text": [
      "WARNING:absl:Found untraced functions such as restored_function_body, restored_function_body, restored_function_body, restored_function_body, restored_function_body while saving (showing 5 of 124). These functions will not be directly callable after loading.\n"
     ]
    },
    {
     "name": "stdout",
     "output_type": "stream",
     "text": [
      "INFO:tensorflow:Assets written to: output/models/model_epoch_1\\assets\n"
     ]
    },
    {
     "name": "stderr",
     "output_type": "stream",
     "text": [
      "INFO:tensorflow:Assets written to: output/models/model_epoch_1\\assets\n"
     ]
    }
   ],
   "source": [
    "classifier_model.save('output/models/model_epoch_1')\n",
    "classifier_model.save_weights('output/weights/model_epoch_1')"
   ]
  },
  {
   "cell_type": "markdown",
   "metadata": {},
   "source": [
    "Display training"
   ]
  },
  {
   "cell_type": "code",
   "execution_count": 35,
   "metadata": {},
   "outputs": [
    {
     "name": "stdout",
     "output_type": "stream",
     "text": [
      "[INFO] history dict_keys(['loss', 'binary_accuracy', 'val_loss', 'val_binary_accuracy'])\n"
     ]
    },
    {
     "data": {
      "text/plain": [
       "[]"
      ]
     },
     "execution_count": 35,
     "metadata": {},
     "output_type": "execute_result"
    },
    {
     "data": {
      "image/png": "[encoded data removed]",
      "text/plain": [
       "<Figure size 720x432 with 2 Axes>"
      ]
     },
     "metadata": {
      "needs_background": "light"
     },
     "output_type": "display_data"
    }
   ],
   "source": [
    "history_dict = history.history\n",
    "print('[INFO] history', history_dict.keys())\n",
    "\n",
    "epochs = range(1, len(history_dict['loss']) + 1)\n",
    "fig, axs = plt.subplots(2, 1, figsize=(10, 6))\n",
    "fig.tight_layout()\n",
    "\n",
    "axs[0].plot(epochs, history_dict['loss'], 'r', label='Training loss')\n",
    "axs[0].plot(epochs, history_dict['val_loss'], 'b', label='Validation loss')\n",
    "axs[0].set_title('Training and validation loss')\n",
    "axs[0].set_ylabel('Loss')\n",
    "axs[0].legend()\n",
    "\n",
    "axs[1].plot(epochs, history_dict['binary_accuracy'], 'r', label='Training acc')\n",
    "axs[1].plot(epochs, history_dict['val_binary_accuracy'], 'b', label='Validation acc')\n",
    "axs[1].set_title('Training and validation accuracy')\n",
    "axs[1].set_xlabel('Epochs')\n",
    "axs[1].set_ylabel('Accuracy')\n",
    "axs[1].legend(loc='lower right')\n",
    "\n",
    "plt.plot()"
   ]
  },
  {
   "cell_type": "code",
   "execution_count": 22,
   "metadata": {},
   "outputs": [],
   "source": [
    "def create_labels_for_scoring(df):\n",
    "    # example: ['0 1', '3 4'] -> ['0 1; 3 4']\n",
    "    df['location_for_create_labels'] = [ast.literal_eval(f'[]')] * len(df)\n",
    "    for i in range(len(df)):\n",
    "        lst = df.loc[i, 'location']\n",
    "        if lst:\n",
    "            new_lst = ';'.join(lst)\n",
    "            df.loc[i, 'location_for_create_labels'] = ast.literal_eval(f'[[\"{new_lst}\"]]')\n",
    "    # create labels\n",
    "    truths = []\n",
    "    for location_list in df['location_for_create_labels'].values:\n",
    "        truth = []\n",
    "        if len(location_list) > 0:\n",
    "            location = location_list[0]\n",
    "            for loc in [s.split() for s in location.split(';')]:\n",
    "                start, end = int(loc[0]), int(loc[1])\n",
    "                truth.append([start, end])\n",
    "        truths.append(truth)\n",
    "    return truths"
   ]
  },
  {
   "cell_type": "code",
   "execution_count": 23,
   "metadata": {},
   "outputs": [],
   "source": [
    "def get_result(predictions, threshold=0.5):\n",
    "    results = []\n",
    "    for pred in predictions:\n",
    "        result = np.where(pred >= threshold)[0] + 1\n",
    "        result = [\n",
    "            list(g) for _, g in itertools.groupby(\n",
    "                result, key=lambda n, c=itertools.count(): n - next(c)\n",
    "            )\n",
    "        ]\n",
    "        result = [f\"{min(r)} {max(r)}\" for r in result]\n",
    "        result = \";\".join(result)\n",
    "        results.append(result)\n",
    "    return results"
   ]
  },
  {
   "cell_type": "code",
   "execution_count": 24,
   "metadata": {},
   "outputs": [],
   "source": [
    "def get_predictions(results):\n",
    "    predictions = []\n",
    "    for result in results:\n",
    "        prediction = []\n",
    "        if result != \"\":\n",
    "            for loc in [s.split() for s in result.split(';')]:\n",
    "                start, end = int(loc[0]), int(loc[1])\n",
    "                prediction.append([start, end])\n",
    "        predictions.append(prediction)\n",
    "    return predictions"
   ]
  },
  {
   "cell_type": "code",
   "execution_count": 25,
   "metadata": {},
   "outputs": [
    {
     "name": "stdout",
     "output_type": "stream",
     "text": [
      "1102/1102 [==============================] - 127s 115ms/step\n"
     ]
    }
   ],
   "source": [
    "df = dl.data.copy()\n",
    "truths = create_labels_for_scoring(df)\n",
    "prediction = tf.sigmoid(classifier_model.predict(val_data, verbose=1))"
   ]
  },
  {
   "cell_type": "code",
   "execution_count": 28,
   "metadata": {},
   "outputs": [
    {
     "name": "stdout",
     "output_type": "stream",
     "text": [
      "th: 0.4  score: 0.04905\n",
      "th: 0.41000000000000003  score: 0.04917\n",
      "th: 0.42000000000000004  score: 0.04926\n",
      "th: 0.43000000000000005  score: 0.04931\n",
      "th: 0.44000000000000006  score: 0.04932\n",
      "th: 0.45000000000000007  score: 0.04938\n",
      "th: 0.4600000000000001  score: 0.04953\n",
      "th: 0.4700000000000001  score: 0.04953\n",
      "th: 0.4800000000000001  score: 0.04954\n",
      "th: 0.4900000000000001  score: 0.04956\n",
      "th: 0.5000000000000001  score: 0.04957\n",
      "th: 0.5100000000000001  score: 0.04957\n",
      "th: 0.5200000000000001  score: 0.04965\n",
      "th: 0.5300000000000001  score: 0.04965\n",
      "th: 0.5400000000000001  score: 0.04974\n",
      "th: 0.5500000000000002  score: 0.04973\n",
      "th: 0.5600000000000002  score: 0.04973\n",
      "th: 0.5700000000000002  score: 0.04977\n",
      "th: 0.5800000000000002  score: 0.04986\n",
      "th: 0.5900000000000002  score: 0.04991\n",
      "best_th: 0.5900000000000002  score: 0.04991\n"
     ]
    }
   ],
   "source": [
    "best_th = 0.5\n",
    "best_score = 0.\n",
    "for th in np.arange(0.4, 0.6, 0.01):\n",
    "    #th = np.round(th, )\n",
    "    results = get_result(prediction, threshold=th)\n",
    "    preds = get_predictions(results)\n",
    "    score = span_micro_f1(preds, truths)\n",
    "    if best_score < score:\n",
    "        best_th = th\n",
    "        best_score = score\n",
    "    print(f\"th: {th}  score: {score:.5f}\")\n",
    "print(f\"best_th: {best_th}  score: {best_score:.5f}\")"
   ]
  },
  {
   "cell_type": "code",
   "execution_count": null,
   "metadata": {},
   "outputs": [],
   "source": []
  }
 ],
 "metadata": {
  "interpreter": {
   "hash": "fc48689332ded950941329c3789384d1fff51fedc3e02cba456c8c9d1955af91"
  },
  "kernelspec": {
   "display_name": "Python 3.9.7 ('ML2')",
   "language": "python",
   "name": "python3"
  },
  "language_info": {
   "codemirror_mode": {
    "name": "ipython",
    "version": 3
   },
   "file_extension": ".py",
   "mimetype": "text/x-python",
   "name": "python",
   "nbconvert_exporter": "python",
   "pygments_lexer": "ipython3",
   "version": "3.9.7"
  },
  "orig_nbformat": 4
 },
 "nbformat": 4,
 "nbformat_minor": 2
}
